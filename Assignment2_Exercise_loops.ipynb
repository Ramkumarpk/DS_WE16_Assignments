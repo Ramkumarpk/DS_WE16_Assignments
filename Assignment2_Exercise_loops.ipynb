{
  "nbformat": 4,
  "nbformat_minor": 0,
  "metadata": {
    "kernelspec": {
      "display_name": "conda_python3",
      "language": "python",
      "name": "conda_python3"
    },
    "language_info": {
      "codemirror_mode": {
        "name": "ipython",
        "version": 3
      },
      "file_extension": ".py",
      "mimetype": "text/x-python",
      "name": "python",
      "nbconvert_exporter": "python",
      "pygments_lexer": "ipython3",
      "version": "3.6.13"
    },
    "colab": {
      "name": "Assignment2_Exercise_loops.ipynb",
      "provenance": [],
      "collapsed_sections": [],
      "include_colab_link": true
    }
  },
  "cells": [
    {
      "cell_type": "markdown",
      "metadata": {
        "id": "view-in-github",
        "colab_type": "text"
      },
      "source": [
        "<a href=\"https://colab.research.google.com/github/Ramkumarpk/DS_WE16_Assignments/blob/main/Assignment2_Exercise_loops.ipynb\" target=\"_parent\"><img src=\"https://colab.research.google.com/assets/colab-badge.svg\" alt=\"Open In Colab\"/></a>"
      ]
    },
    {
      "cell_type": "markdown",
      "metadata": {
        "id": "uaS03MYbN-43"
      },
      "source": [
        "### The questions for the exercises are given above the cells and the expected output is given below the cell. Please type the code inserting a new cell below the question because if you run the expected output cell the output would vanish! Happy learning! "
      ]
    },
    {
      "cell_type": "markdown",
      "metadata": {
        "id": "JIY5RiTJN-49"
      },
      "source": [
        "## 1. Write a Python program to find those numbers which are divisible by 7 and multiple of 5, between 1500 and 2700 (both included). "
      ]
    },
    {
      "cell_type": "code",
      "metadata": {
        "id": "jPtiH721N-49",
        "outputId": "e6825152-3df8-4631-8aab-ec9d007f10ab"
      },
      "source": [
        ""
      ],
      "execution_count": null,
      "outputs": [
        {
          "output_type": "stream",
          "text": [
            "1505,1540,1575,1610,1645,1680,1715,1750,1785,1820,1855,1890,1925,1960,1995,2030,2065,2100,2135,2170,2205,2240,2275,2310,2345,2380,2415,2450,2485,2520,2555,2590,2625,2660,2695\n"
          ],
          "name": "stdout"
        }
      ]
    },
    {
      "cell_type": "code",
      "metadata": {
        "colab": {
          "base_uri": "https://localhost:8080/"
        },
        "id": "A4ENatu8OBm2",
        "outputId": "d523a414-223d-483c-f1b4-c3101c4832fb"
      },
      "source": [
        "n=1500 \n",
        "lst = []\n",
        "while (n<=2700):\n",
        "  if (n%7==0) and (n%5==0):\n",
        "    lst.append(n)\n",
        "  n = n+1\n",
        "print(lst)"
      ],
      "execution_count": 49,
      "outputs": [
        {
          "output_type": "stream",
          "text": [
            "[1505, 1540, 1575, 1610, 1645, 1680, 1715, 1750, 1785, 1820, 1855, 1890, 1925, 1960, 1995, 2030, 2065, 2100, 2135, 2170, 2205, 2240, 2275, 2310, 2345, 2380, 2415, 2450, 2485, 2520, 2555, 2590, 2625, 2660, 2695]\n"
          ],
          "name": "stdout"
        }
      ]
    },
    {
      "cell_type": "markdown",
      "metadata": {
        "id": "Yhhhy_5JN-4-"
      },
      "source": [
        "## 2. Write a Python program to construct the following pattern, using a nested for loop.\n"
      ]
    },
    {
      "cell_type": "code",
      "metadata": {
        "id": "FFoI5kNCN-4_",
        "outputId": "17c9119f-d3ab-426d-cbff-8526ed096ab9"
      },
      "source": [
        ""
      ],
      "execution_count": null,
      "outputs": [
        {
          "output_type": "stream",
          "text": [
            "\n",
            "* \n",
            "* * \n",
            "* * * \n",
            "* * * * \n",
            "* * * * * \n",
            "* * * * \n",
            "* * * \n",
            "* * \n",
            "* \n"
          ],
          "name": "stdout"
        }
      ]
    },
    {
      "cell_type": "code",
      "metadata": {
        "colab": {
          "base_uri": "https://localhost:8080/"
        },
        "id": "LdT8uTJ7WVVu",
        "outputId": "3e947519-a462-4b8e-f444-686d4c658ca3"
      },
      "source": [
        "n = 1\n",
        "while n<5:\n",
        "  print('* '*n)\n",
        "  n=n+1\n",
        "for i in range(0,n):\n",
        "  print('* '*n)\n",
        "  n=n-1"
      ],
      "execution_count": 58,
      "outputs": [
        {
          "output_type": "stream",
          "text": [
            "* \n",
            "* * \n",
            "* * * \n",
            "* * * * \n",
            "* * * * * \n",
            "* * * * \n",
            "* * * \n",
            "* * \n",
            "* \n"
          ],
          "name": "stdout"
        }
      ]
    },
    {
      "cell_type": "markdown",
      "metadata": {
        "id": "glOVsHG7N-4_"
      },
      "source": [
        "## 3. Write a Python program to count the number of even and odd numbers from a series of numbers."
      ]
    },
    {
      "cell_type": "code",
      "metadata": {
        "id": "TLsHTmcGN-4_",
        "outputId": "d4df8947-6dee-4f5f-83f5-1b609d5042b4"
      },
      "source": [
        ""
      ],
      "execution_count": null,
      "outputs": [
        {
          "output_type": "stream",
          "text": [
            "Number of even numbers : 4\n",
            "Number of odd numbers : 5\n"
          ],
          "name": "stdout"
        }
      ]
    },
    {
      "cell_type": "code",
      "metadata": {
        "colab": {
          "base_uri": "https://localhost:8080/"
        },
        "id": "U6ttVSCxjkSC",
        "outputId": "8f682f08-951f-4a36-c406-5d2f27b9870e"
      },
      "source": [
        "lst = list(range(1,10))\n",
        "n=0 ; o=0; e=0;\n",
        "len(lst)\n",
        "while n <len(lst):\n",
        "   if (lst[n]%2 == 0): \n",
        "    e=e+1\n",
        "    n=n+1\n",
        "   o=o+1\n",
        "   n=n+1\n",
        "print('Number of even numbers : ',e)\n",
        "print('Number of odd numbers : ',o)"
      ],
      "execution_count": 80,
      "outputs": [
        {
          "output_type": "stream",
          "text": [
            "Number of even numbers :  4\n",
            "Number of odd numbers :  5\n"
          ],
          "name": "stdout"
        }
      ]
    },
    {
      "cell_type": "markdown",
      "metadata": {
        "id": "-E89sOrnN-5A"
      },
      "source": [
        "## 4. Write a Python program to find numbers between 100 and 400 (both included) where each digit of a number is an even number. The numbers obtained should be printed in a comma-separated sequence."
      ]
    },
    {
      "cell_type": "code",
      "metadata": {
        "id": "gD-9MRZFN-5A",
        "outputId": "87162242-fa2a-4e2c-a4d6-6df4a53d903b"
      },
      "source": [
        ""
      ],
      "execution_count": null,
      "outputs": [
        {
          "output_type": "stream",
          "text": [
            "200,202,204,206,208,220,222,224,226,228,240,242,244,246,248,260,262,264,266,268,280,282,284,286,288,400\n"
          ],
          "name": "stdout"
        }
      ]
    },
    {
      "cell_type": "code",
      "metadata": {
        "colab": {
          "base_uri": "https://localhost:8080/"
        },
        "id": "bkBrOlvmqBgr",
        "outputId": "5312192e-cde3-44fe-b8bf-a0feb5aeb8ff"
      },
      "source": [
        "lst2=list(range(200,400))\n",
        "lst3=[]\n",
        "n=200\n",
        "while (n<=400):\n",
        "  if (n%2==0):\n",
        "    lst3.append(n)\n",
        "    n=n+2\n",
        "print(lst3)"
      ],
      "execution_count": 86,
      "outputs": [
        {
          "output_type": "stream",
          "text": [
            "[200, 202, 204, 206, 208, 210, 212, 214, 216, 218, 220, 222, 224, 226, 228, 230, 232, 234, 236, 238, 240, 242, 244, 246, 248, 250, 252, 254, 256, 258, 260, 262, 264, 266, 268, 270, 272, 274, 276, 278, 280, 282, 284, 286, 288, 290, 292, 294, 296, 298, 300, 302, 304, 306, 308, 310, 312, 314, 316, 318, 320, 322, 324, 326, 328, 330, 332, 334, 336, 338, 340, 342, 344, 346, 348, 350, 352, 354, 356, 358, 360, 362, 364, 366, 368, 370, 372, 374, 376, 378, 380, 382, 384, 386, 388, 390, 392, 394, 396, 398, 400]\n"
          ],
          "name": "stdout"
        }
      ]
    },
    {
      "cell_type": "code",
      "metadata": {
        "colab": {
          "base_uri": "https://localhost:8080/"
        },
        "id": "iSf9l6PFrodE",
        "outputId": "511e0775-1d65-4fcc-9041-2617851f75b1"
      },
      "source": [
        ""
      ],
      "execution_count": 89,
      "outputs": [
        {
          "output_type": "execute_result",
          "data": {
            "text/plain": [
              "171"
            ]
          },
          "metadata": {
            "tags": []
          },
          "execution_count": 89
        }
      ]
    },
    {
      "cell_type": "markdown",
      "metadata": {
        "id": "RTAF4ggEN-5A"
      },
      "source": [
        "## 5. Write a Python program to calculate a dog's age in dog's years. Go to the editor\n",
        "Note: For the first two years, a dog year is equal to 10.5 human years. After that, each dog year equals 4 human years."
      ]
    },
    {
      "cell_type": "code",
      "metadata": {
        "id": "A-SIJVb8N-5A",
        "outputId": "bb6d81fc-09f7-4950-b2bf-a89884ba4066"
      },
      "source": [
        ""
      ],
      "execution_count": null,
      "outputs": [
        {
          "output_type": "stream",
          "text": [
            "Input a dog's age in human years: 20\n",
            "The dog's age in dog's years is 93\n"
          ],
          "name": "stdout"
        }
      ]
    },
    {
      "cell_type": "markdown",
      "metadata": {
        "id": "RDtSKvf9N-5B"
      },
      "source": [
        "## 6. Write a Python function to find the Max of three numbers."
      ]
    },
    {
      "cell_type": "code",
      "metadata": {
        "id": "TDf4tkRvN-5B",
        "outputId": "640a6f73-64de-4e0d-fac2-a65d0bac1986"
      },
      "source": [
        ""
      ],
      "execution_count": null,
      "outputs": [
        {
          "output_type": "stream",
          "text": [
            "The Three numbers are: (3, 6, -5)\n",
            "6\n"
          ],
          "name": "stdout"
        }
      ]
    },
    {
      "cell_type": "markdown",
      "metadata": {
        "id": "mraj9TygN-5B"
      },
      "source": [
        "## 7. Write a Python function that takes a number as a parameter and check the number is prime or not."
      ]
    },
    {
      "cell_type": "code",
      "metadata": {
        "id": "hgtulGWoN-5B",
        "outputId": "e6c54e4f-77c4-41d1-e255-5b923f48dc21"
      },
      "source": [
        ""
      ],
      "execution_count": null,
      "outputs": [
        {
          "output_type": "stream",
          "text": [
            "The number is: 9\n",
            "False\n"
          ],
          "name": "stdout"
        }
      ]
    },
    {
      "cell_type": "markdown",
      "metadata": {
        "id": "x_hd_JnLN-5C"
      },
      "source": [
        "## 8. Write a Python function that accepts a string and calculate the number of upper case letters and lower case letters. Go to the editor\n"
      ]
    },
    {
      "cell_type": "code",
      "metadata": {
        "id": "PZWO0OYlN-5C",
        "outputId": "c71ea04d-464f-4536-a84d-3d8997aeb7da"
      },
      "source": [
        ""
      ],
      "execution_count": null,
      "outputs": [
        {
          "output_type": "stream",
          "text": [
            "Original String :  Inceptz is One of The BeSt Places TO LEarn DataSciEnce\n",
            "No. of Upper case characters :  13\n",
            "No. of Lower case Characters :  32\n"
          ],
          "name": "stdout"
        }
      ]
    },
    {
      "cell_type": "markdown",
      "metadata": {
        "id": "1u9vMlDGN-5C"
      },
      "source": [
        "## 9. Write a Python program to reverse a string. "
      ]
    },
    {
      "cell_type": "code",
      "metadata": {
        "id": "VOZpeUdBN-5C",
        "outputId": "1a3a93f4-b7c7-4363-880f-5f18dedba26f"
      },
      "source": [
        ""
      ],
      "execution_count": null,
      "outputs": [
        {
          "output_type": "stream",
          "text": [
            "The original string is: 1234abcd\n",
            "The reversed string: dcba4321\n"
          ],
          "name": "stdout"
        }
      ]
    },
    {
      "cell_type": "markdown",
      "metadata": {
        "id": "IHusyaa6N-5D"
      },
      "source": [
        "## 10. Write a Python program to find  the greatest common divisor (gcd) of two integers."
      ]
    },
    {
      "cell_type": "code",
      "metadata": {
        "id": "DgByvkO7N-5D",
        "outputId": "e2063d49-d499-4790-ecde-e9bf3ceed91d"
      },
      "source": [
        ""
      ],
      "execution_count": null,
      "outputs": [
        {
          "output_type": "stream",
          "text": [
            "The two numbers are: (12, 14)\n",
            "The GCD of the numbers are: 2\n"
          ],
          "name": "stdout"
        }
      ]
    },
    {
      "cell_type": "markdown",
      "metadata": {
        "id": "Y_PmyRH5N-5D"
      },
      "source": [
        "## 11. Write a function to find if a string is a palindrome or not! \n",
        "eg: \n",
        "\"NAMAN\" - is a palindrome \n",
        "\"INCEPTEZ\" - is not a palindrome! "
      ]
    },
    {
      "cell_type": "code",
      "metadata": {
        "id": "oZHLnGdcN-5D"
      },
      "source": [
        ""
      ],
      "execution_count": null,
      "outputs": []
    },
    {
      "cell_type": "markdown",
      "metadata": {
        "id": "joZdYmNCN-5D"
      },
      "source": [
        "## 12. Write a recurssive function to find if a string is a palindrome or not! "
      ]
    },
    {
      "cell_type": "code",
      "metadata": {
        "id": "hFJJr416N-5E"
      },
      "source": [
        ""
      ],
      "execution_count": null,
      "outputs": []
    }
  ]
}