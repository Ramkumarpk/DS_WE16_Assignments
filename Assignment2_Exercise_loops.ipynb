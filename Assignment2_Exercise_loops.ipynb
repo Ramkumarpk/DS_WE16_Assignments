{
  "nbformat": 4,
  "nbformat_minor": 0,
  "metadata": {
    "kernelspec": {
      "display_name": "conda_python3",
      "language": "python",
      "name": "conda_python3"
    },
    "language_info": {
      "codemirror_mode": {
        "name": "ipython",
        "version": 3
      },
      "file_extension": ".py",
      "mimetype": "text/x-python",
      "name": "python",
      "nbconvert_exporter": "python",
      "pygments_lexer": "ipython3",
      "version": "3.6.13"
    },
    "colab": {
      "name": "Assignment2_Exercise_loops.ipynb",
      "provenance": [],
      "collapsed_sections": [],
      "include_colab_link": true
    }
  },
  "cells": [
    {
      "cell_type": "markdown",
      "metadata": {
        "id": "view-in-github",
        "colab_type": "text"
      },
      "source": [
        "<a href=\"https://colab.research.google.com/github/Ramkumarpk/DS_WE16_Assignments/blob/main/Assignment2_Exercise_loops.ipynb\" target=\"_parent\"><img src=\"https://colab.research.google.com/assets/colab-badge.svg\" alt=\"Open In Colab\"/></a>"
      ]
    },
    {
      "cell_type": "markdown",
      "metadata": {
        "id": "uaS03MYbN-43"
      },
      "source": [
        "### The questions for the exercises are given above the cells and the expected output is given below the cell. Please type the code inserting a new cell below the question because if you run the expected output cell the output would vanish! Happy learning! "
      ]
    },
    {
      "cell_type": "markdown",
      "metadata": {
        "id": "JIY5RiTJN-49"
      },
      "source": [
        "## 1. Write a Python program to find those numbers which are divisible by 7 and multiple of 5, between 1500 and 2700 (both included). "
      ]
    },
    {
      "cell_type": "code",
      "metadata": {
        "id": "jPtiH721N-49",
        "outputId": "e6825152-3df8-4631-8aab-ec9d007f10ab"
      },
      "source": [
        ""
      ],
      "execution_count": null,
      "outputs": [
        {
          "output_type": "stream",
          "text": [
            "1505,1540,1575,1610,1645,1680,1715,1750,1785,1820,1855,1890,1925,1960,1995,2030,2065,2100,2135,2170,2205,2240,2275,2310,2345,2380,2415,2450,2485,2520,2555,2590,2625,2660,2695\n"
          ],
          "name": "stdout"
        }
      ]
    },
    {
      "cell_type": "code",
      "metadata": {
        "colab": {
          "base_uri": "https://localhost:8080/"
        },
        "id": "A4ENatu8OBm2",
        "outputId": "74848e90-67b1-49b9-9dea-12d1e2a98e12"
      },
      "source": [
        "n=1500 \n",
        "lst = []\n",
        "while (n<=2700):\n",
        "  if (n%7==0) and (n%5==0):\n",
        "    lst.append(str(n))\n",
        "  n = n+1\n",
        "print(\",\".join(lst))"
      ],
      "execution_count": null,
      "outputs": [
        {
          "output_type": "stream",
          "text": [
            "1505,1540,1575,1610,1645,1680,1715,1750,1785,1820,1855,1890,1925,1960,1995,2030,2065,2100,2135,2170,2205,2240,2275,2310,2345,2380,2415,2450,2485,2520,2555,2590,2625,2660,2695\n"
          ],
          "name": "stdout"
        }
      ]
    },
    {
      "cell_type": "markdown",
      "metadata": {
        "id": "Yhhhy_5JN-4-"
      },
      "source": [
        "## 2. Write a Python program to construct the following pattern, using a nested for loop.\n"
      ]
    },
    {
      "cell_type": "code",
      "metadata": {
        "id": "FFoI5kNCN-4_",
        "outputId": "17c9119f-d3ab-426d-cbff-8526ed096ab9"
      },
      "source": [
        ""
      ],
      "execution_count": null,
      "outputs": [
        {
          "output_type": "stream",
          "text": [
            "\n",
            "* \n",
            "* * \n",
            "* * * \n",
            "* * * * \n",
            "* * * * * \n",
            "* * * * \n",
            "* * * \n",
            "* * \n",
            "* \n"
          ],
          "name": "stdout"
        }
      ]
    },
    {
      "cell_type": "code",
      "metadata": {
        "colab": {
          "base_uri": "https://localhost:8080/"
        },
        "id": "LdT8uTJ7WVVu",
        "outputId": "3e947519-a462-4b8e-f444-686d4c658ca3"
      },
      "source": [
        "n = 1\n",
        "while n<5:\n",
        "  print('* '*n)\n",
        "  n=n+1\n",
        "for i in range(0,n):\n",
        "  print('* '*n)\n",
        "  n=n-1"
      ],
      "execution_count": null,
      "outputs": [
        {
          "output_type": "stream",
          "text": [
            "* \n",
            "* * \n",
            "* * * \n",
            "* * * * \n",
            "* * * * * \n",
            "* * * * \n",
            "* * * \n",
            "* * \n",
            "* \n"
          ],
          "name": "stdout"
        }
      ]
    },
    {
      "cell_type": "markdown",
      "metadata": {
        "id": "glOVsHG7N-4_"
      },
      "source": [
        "## 3. Write a Python program to count the number of even and odd numbers from a series of numbers."
      ]
    },
    {
      "cell_type": "code",
      "metadata": {
        "id": "TLsHTmcGN-4_",
        "outputId": "d4df8947-6dee-4f5f-83f5-1b609d5042b4"
      },
      "source": [
        ""
      ],
      "execution_count": null,
      "outputs": [
        {
          "output_type": "stream",
          "text": [
            "Number of even numbers : 4\n",
            "Number of odd numbers : 5\n"
          ],
          "name": "stdout"
        }
      ]
    },
    {
      "cell_type": "code",
      "metadata": {
        "colab": {
          "base_uri": "https://localhost:8080/"
        },
        "id": "U6ttVSCxjkSC",
        "outputId": "8f682f08-951f-4a36-c406-5d2f27b9870e"
      },
      "source": [
        "lst = list(range(1,10))\n",
        "n=0 ; o=0; e=0;\n",
        "len(lst)\n",
        "while n <len(lst):\n",
        "   if (lst[n]%2 == 0): \n",
        "    e=e+1\n",
        "    n=n+1\n",
        "   o=o+1\n",
        "   n=n+1\n",
        "print('Number of even numbers : ',e)\n",
        "print('Number of odd numbers : ',o)"
      ],
      "execution_count": null,
      "outputs": [
        {
          "output_type": "stream",
          "text": [
            "Number of even numbers :  4\n",
            "Number of odd numbers :  5\n"
          ],
          "name": "stdout"
        }
      ]
    },
    {
      "cell_type": "markdown",
      "metadata": {
        "id": "-E89sOrnN-5A"
      },
      "source": [
        "## 4. Write a Python program to find numbers between 100 and 400 (both included) where each digit of a number is an even number. The numbers obtained should be printed in a comma-separated sequence."
      ]
    },
    {
      "cell_type": "code",
      "metadata": {
        "id": "BaeoTQimwEp-",
        "colab": {
          "base_uri": "https://localhost:8080/"
        },
        "outputId": "bcadf15a-9a82-41dc-862f-e546766b387b"
      },
      "source": [
        ""
      ],
      "execution_count": null,
      "outputs": [
        {
          "output_type": "stream",
          "text": [
            "200,202,204,206,208,220,222,224,226,228,240,242,244,246,248,260,262,264,266,268,280,282,284,286,288,400\n"
          ],
          "name": "stdout"
        }
      ]
    },
    {
      "cell_type": "code",
      "metadata": {
        "colab": {
          "base_uri": "https://localhost:8080/"
        },
        "id": "bkBrOlvmqBgr",
        "outputId": "50e56ed1-e93f-404d-8bdc-4922aec40106"
      },
      "source": [
        "lst3=[]\n",
        "for i in range(100,401):\n",
        "   n=str(i)\n",
        "   if (int(n[0])%2 == 0 and int(n[1])%2 == 0 and int(n[2])%2 == 0):\n",
        "     lst3.append(n)\n",
        "print(\",\".join(lst3))"
      ],
      "execution_count": null,
      "outputs": [
        {
          "output_type": "stream",
          "text": [
            "200,202,204,206,208,220,222,224,226,228,240,242,244,246,248,260,262,264,266,268,280,282,284,286,288,400\n"
          ],
          "name": "stdout"
        }
      ]
    },
    {
      "cell_type": "markdown",
      "metadata": {
        "id": "RTAF4ggEN-5A"
      },
      "source": [
        "## 5. Write a Python program to calculate a dog's age in dog's years. Go to the editor\n",
        "Note: For the first two years, a dog year is equal to 10.5 human years. After that, each dog year equals 4 human years."
      ]
    },
    {
      "cell_type": "code",
      "metadata": {
        "id": "A-SIJVb8N-5A",
        "colab": {
          "base_uri": "https://localhost:8080/"
        },
        "outputId": "3afdb85f-c1d7-4b18-e652-f8c07ff6a779"
      },
      "source": [
        "hum_age=int(input(\"Enter Human Age :\"))\n",
        "if age < 2:\n",
        "  dog_age=hum_age*10.5\n",
        "else:\n",
        "  dog_age=21+((hum_age-2)*4)\n",
        "print(\"Equivalent Dog Age is :\",dog_age)"
      ],
      "execution_count": null,
      "outputs": [
        {
          "output_type": "stream",
          "text": [
            "Enter Human Age :22\n",
            "Equivalent Dog Age is : 101\n"
          ],
          "name": "stdout"
        }
      ]
    },
    {
      "cell_type": "markdown",
      "metadata": {
        "id": "RDtSKvf9N-5B"
      },
      "source": [
        "## 6. Write a Python function to find the Max of three numbers."
      ]
    },
    {
      "cell_type": "code",
      "metadata": {
        "id": "TDf4tkRvN-5B",
        "outputId": "640a6f73-64de-4e0d-fac2-a65d0bac1986"
      },
      "source": [
        ""
      ],
      "execution_count": null,
      "outputs": [
        {
          "output_type": "stream",
          "text": [
            "The Three numbers are: (3, 6, -5)\n",
            "6\n"
          ],
          "name": "stdout"
        }
      ]
    },
    {
      "cell_type": "code",
      "metadata": {
        "id": "_ZaT9BMVBzW3",
        "colab": {
          "base_uri": "https://localhost:8080/"
        },
        "outputId": "0072f923-9b91-417f-8b2f-6dc75c81557a"
      },
      "source": [
        "num1 = float(input(\"Enter First Number :\"))\n",
        "num2 = float(input(\"Enter Second Number :\"))\n",
        "num3 = float(input(\"Enter Third Number :\"))\n",
        "def num_max3(num1,num2,num3):\n",
        "  if (num1 >num2 and num1>num3):\n",
        "    return(num1)\n",
        "  elif (num2>num3):\n",
        "    return(num2)\n",
        "  else:\n",
        "   return(num3)\n",
        "print(\"The Three numbers are: \",(num1,num2,num3))\n",
        "num_max3(num1,num2,num3)"
      ],
      "execution_count": null,
      "outputs": [
        {
          "output_type": "stream",
          "text": [
            "Enter First Number :3\n",
            "Enter Second Number :6\n",
            "Enter Third Number :-5\n",
            "The Three numbers are:  (3.0, 6.0, -5.0)\n"
          ],
          "name": "stdout"
        },
        {
          "output_type": "execute_result",
          "data": {
            "text/plain": [
              "6.0"
            ]
          },
          "metadata": {
            "tags": []
          },
          "execution_count": 75
        }
      ]
    },
    {
      "cell_type": "markdown",
      "metadata": {
        "id": "mraj9TygN-5B"
      },
      "source": [
        "## 7. Write a Python function that takes a number as a parameter and check the number is prime or not."
      ]
    },
    {
      "cell_type": "code",
      "metadata": {
        "id": "hgtulGWoN-5B",
        "colab": {
          "base_uri": "https://localhost:8080/"
        },
        "outputId": "4834fb21-1213-40a4-d496-216783d60903"
      },
      "source": [
        "num1 = int(input(\"The number is:\"))\n",
        "def fun_prime(num1):\n",
        "  if num1==1:\n",
        "    return(\"False\")\n",
        "  elif num1==2:\n",
        "    return(\"True\")\n",
        "  else:\n",
        "    for i in range(2,num1):\n",
        "      if (num1 % i == 0):\n",
        "        return(\"False\")\n",
        "        break\n",
        "    return(\"True\")\n",
        " \n",
        "print(fun_prime(num1)) "
      ],
      "execution_count": 3,
      "outputs": [
        {
          "output_type": "stream",
          "text": [
            "The number is:7\n",
            "True\n"
          ],
          "name": "stdout"
        }
      ]
    },
    {
      "cell_type": "markdown",
      "metadata": {
        "id": "x_hd_JnLN-5C"
      },
      "source": [
        "## 8. Write a Python function that accepts a string and calculate the number of upper case letters and lower case letters. Go to the editor\n"
      ]
    },
    {
      "cell_type": "code",
      "metadata": {
        "id": "PZWO0OYlN-5C",
        "outputId": "c71ea04d-464f-4536-a84d-3d8997aeb7da"
      },
      "source": [
        ""
      ],
      "execution_count": null,
      "outputs": [
        {
          "output_type": "stream",
          "text": [
            "Original String :  Inceptz is One of The BeSt Places TO LEarn DataSciEnce\n",
            "No. of Upper case characters :  13\n",
            "No. of Lower case Characters :  32\n"
          ],
          "name": "stdout"
        }
      ]
    },
    {
      "cell_type": "code",
      "metadata": {
        "colab": {
          "base_uri": "https://localhost:8080/"
        },
        "id": "m9wwnLJoVdVU",
        "outputId": "ba6a602b-031b-4f80-8c4f-d2ce3d283eb1"
      },
      "source": [
        "str='Inceptz is One of The BeSt Places TO LEarn DataSciEnce'\n",
        "print(\"Original String : \",str)\n",
        "def uppr_lwr(str):\n",
        "  u_count=0\n",
        "  l_count=0\n",
        "  for i in str:\n",
        "    if i.isupper():\n",
        "      u_count=u_count+1\n",
        "    elif i.islower():\n",
        "      l_count=l_count+1\n",
        "print(\"No. of Upper case characters :\",u_count)\n",
        "print(\"No. of Lower case Characters :\",l_count)"
      ],
      "execution_count": 12,
      "outputs": [
        {
          "output_type": "stream",
          "text": [
            "Original String :  Inceptz is One of The BeSt Places TO LEarn DataSciEnce\n",
            "No. of Upper case characters : 13\n",
            "No. of Lower case Characters : 32\n"
          ],
          "name": "stdout"
        }
      ]
    },
    {
      "cell_type": "markdown",
      "metadata": {
        "id": "1u9vMlDGN-5C"
      },
      "source": [
        "## 9. Write a Python program to reverse a string. "
      ]
    },
    {
      "cell_type": "code",
      "metadata": {
        "id": "VOZpeUdBN-5C",
        "outputId": "1a3a93f4-b7c7-4363-880f-5f18dedba26f"
      },
      "source": [
        ""
      ],
      "execution_count": null,
      "outputs": [
        {
          "output_type": "stream",
          "text": [
            "The original string is: 1234abcd\n",
            "The reversed string: dcba4321\n"
          ],
          "name": "stdout"
        }
      ]
    },
    {
      "cell_type": "code",
      "metadata": {
        "id": "prvolP9FIOsp",
        "colab": {
          "base_uri": "https://localhost:8080/"
        },
        "outputId": "8b0da2bb-bf89-4c85-cfc6-32b9563c4089"
      },
      "source": [
        "s='1234abcd'\n",
        "print('The original string is:',s)\n",
        "r=s[::-1]\n",
        "print('The reversed string:',r)\n",
        "r2=\"\".join(reversed(s))\n",
        "print('The reversed string using join:',r2)"
      ],
      "execution_count": 18,
      "outputs": [
        {
          "output_type": "stream",
          "text": [
            "The original string is: 1234abcd\n",
            "The reversed string: dcba4321\n",
            "The reversed string using join: dcba4321\n"
          ],
          "name": "stdout"
        }
      ]
    },
    {
      "cell_type": "markdown",
      "metadata": {
        "id": "IHusyaa6N-5D"
      },
      "source": [
        "## 10. Write a Python program to find  the greatest common divisor (gcd) of two integers."
      ]
    },
    {
      "cell_type": "code",
      "metadata": {
        "id": "DgByvkO7N-5D",
        "outputId": "e2063d49-d499-4790-ecde-e9bf3ceed91d"
      },
      "source": [
        ""
      ],
      "execution_count": null,
      "outputs": [
        {
          "output_type": "stream",
          "text": [
            "The two numbers are: (12, 14)\n",
            "The GCD of the numbers are: 2\n"
          ],
          "name": "stdout"
        }
      ]
    },
    {
      "cell_type": "code",
      "metadata": {
        "colab": {
          "base_uri": "https://localhost:8080/"
        },
        "id": "Xebxj5e1qc0v",
        "outputId": "ac2d99ae-bd7c-4b9c-e960-aee37f5b6e9b"
      },
      "source": [
        "import math\n",
        "def gcd_num(num1, num2):\n",
        "    print(\"The two numbers are: (12, 14)\")\n",
        "    return math.gcd(num1, num2)\n",
        "print(\"The GCD of two numbers is : \", gcd_num(12, 14))"
      ],
      "execution_count": 37,
      "outputs": [
        {
          "output_type": "stream",
          "text": [
            "The two numbers are: (12, 14)\n",
            "The GCD of two numbers is :  2\n"
          ],
          "name": "stdout"
        }
      ]
    },
    {
      "cell_type": "markdown",
      "metadata": {
        "id": "Y_PmyRH5N-5D"
      },
      "source": [
        "## 11. Write a function to find if a string is a palindrome or not! \n",
        "eg: \n",
        "\"NAMAN\" - is a palindrome \n",
        "\"INCEPTEZ\" - is not a palindrome! "
      ]
    },
    {
      "cell_type": "code",
      "metadata": {
        "id": "oZHLnGdcN-5D",
        "colab": {
          "base_uri": "https://localhost:8080/"
        },
        "outputId": "d9b828f8-9709-450e-c53a-c62a16a8da3c"
      },
      "source": [
        "strinp=input(\"Enter String to check:\")\n",
        "def fun_palndrm(strinp):\n",
        "  strrev=strinp[::-1]\n",
        "  if strinp.upper() == strrev.upper():\n",
        "    return(strinp,\"- is a palindrome\")\n",
        "  else:\n",
        "    return(strinp,\"- is not a palindrome\") \n",
        "print(fun_palndrm(strinp))"
      ],
      "execution_count": 33,
      "outputs": [
        {
          "output_type": "stream",
          "text": [
            "Enter String to check:NaMAn\n",
            "('NaMAn', '- is a palindrome')\n"
          ],
          "name": "stdout"
        }
      ]
    },
    {
      "cell_type": "markdown",
      "metadata": {
        "id": "joZdYmNCN-5D"
      },
      "source": [
        "## 12. Write a recurssive function to find if a string is a palindrome or not! "
      ]
    },
    {
      "cell_type": "code",
      "metadata": {
        "id": "hFJJr416N-5E",
        "colab": {
          "base_uri": "https://localhost:8080/"
        },
        "outputId": "7abdbf42-b715-4448-df96-5c564329abd9"
      },
      "source": [
        "strip=input(\"Enter String to check:\")\n",
        "str=strip.upper()\n",
        "def fun_recpalndrm(str):\n",
        "    if len(str) < 2:\n",
        "        return(\"- is a palindrome\")\n",
        "    else:\n",
        "        if (str[0]==str[-1]):\n",
        "            return fun_recpalndrm(str[1:-1])\n",
        "        else:\n",
        "            return (\"- is not a palindrome\")\n",
        "print(strip,fun_recpalndrm(str))"
      ],
      "execution_count": 49,
      "outputs": [
        {
          "output_type": "stream",
          "text": [
            "Enter String to check:NomaN\n",
            "NomaN - is not a palindrome\n"
          ],
          "name": "stdout"
        }
      ]
    },
    {
      "cell_type": "code",
      "metadata": {
        "colab": {
          "base_uri": "https://localhost:8080/"
        },
        "id": "nkENgGnbu-9i",
        "outputId": "9b471fa4-2fbc-4b7e-81b9-2a20bdcfb228"
      },
      "source": [
        "strip=input(\"Enter String to check:\")\n",
        "str=strip.upper()\n",
        "print(strip,fun_recpalndrm(str))"
      ],
      "execution_count": 50,
      "outputs": [
        {
          "output_type": "stream",
          "text": [
            "Enter String to check:NaMAn\n",
            "NaMAn - is a palindrome\n"
          ],
          "name": "stdout"
        }
      ]
    }
  ]
}