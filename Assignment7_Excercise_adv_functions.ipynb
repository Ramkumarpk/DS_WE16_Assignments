{
  "nbformat": 4,
  "nbformat_minor": 0,
  "metadata": {
    "kernelspec": {
      "display_name": "Python 3",
      "language": "python",
      "name": "python3"
    },
    "language_info": {
      "codemirror_mode": {
        "name": "ipython",
        "version": 3
      },
      "file_extension": ".py",
      "mimetype": "text/x-python",
      "name": "python",
      "nbconvert_exporter": "python",
      "pygments_lexer": "ipython3",
      "version": "3.7.0"
    },
    "colab": {
      "name": "Assignment7_Excercise-adv_functions.ipynb",
      "provenance": [],
      "include_colab_link": true
    }
  },
  "cells": [
    {
      "cell_type": "markdown",
      "metadata": {
        "id": "view-in-github",
        "colab_type": "text"
      },
      "source": [
        "<a href=\"https://colab.research.google.com/github/Ramkumarpk/DS_WE16_Assignments/blob/main/Assignment7_Excercise_adv_functions.ipynb\" target=\"_parent\"><img src=\"https://colab.research.google.com/assets/colab-badge.svg\" alt=\"Open In Colab\"/></a>"
      ]
    },
    {
      "cell_type": "markdown",
      "metadata": {
        "id": "fVkUhkiTRpav"
      },
      "source": [
        "## Exercise 1: Write a function to sort the list based on the first letter of the second element\n",
        "\n",
        "lst=[(19542209, \"New York\") ,(4887871, \"Alabama\"), (1420491, \"Hawaii\"), (626299, \"Vermont\"), (1805832, \"West Virginia\"), (39865590, \"California\")]\n"
      ]
    },
    {
      "cell_type": "code",
      "metadata": {
        "id": "ty76I8OZRpa1",
        "outputId": "b361a9f5-e2a5-442b-fd79-6f9966ae95d8"
      },
      "source": [
        ""
      ],
      "execution_count": null,
      "outputs": [
        {
          "output_type": "stream",
          "text": [
            "Original list: [(19542209, 'New York'), (4887871, 'Alabama'), (1420491, 'Hawaii'), (626299, 'Vermont'), (1805832, 'West Virginia'), (39865590, 'California')]\n",
            "Sorted list: [(4887871, 'Alabama'), (39865590, 'California'), (1420491, 'Hawaii'), (19542209, 'New York'), (626299, 'Vermont'), (1805832, 'West Virginia')]\n"
          ],
          "name": "stdout"
        }
      ]
    },
    {
      "cell_type": "markdown",
      "metadata": {
        "id": "Z2UnTecURpa2"
      },
      "source": [
        "## Exercise 2:  Write a function to sort the list based on the last letter of the second element\n",
        "\n",
        "Use list from previous question"
      ]
    },
    {
      "cell_type": "code",
      "metadata": {
        "id": "hYj2g1hzRpa2",
        "outputId": "2a4c3201-f9d3-4d69-cdb2-3702415e4fa0"
      },
      "source": [
        ""
      ],
      "execution_count": null,
      "outputs": [
        {
          "output_type": "stream",
          "text": [
            "Original list [(19542209, 'New York'), (4887871, 'Alabama'), (1420491, 'Hawaii'), (626299, 'Vermont'), (1805832, 'West Virginia'), (39865590, 'California')]\n",
            "Sorted list [(4887871, 'Alabama'), (1805832, 'West Virginia'), (39865590, 'California'), (1420491, 'Hawaii'), (19542209, 'New York'), (626299, 'Vermont')]\n"
          ],
          "name": "stdout"
        }
      ]
    },
    {
      "cell_type": "markdown",
      "metadata": {
        "id": "UeBayjCGRpa3"
      },
      "source": [
        "## Exercise 3: Create a range from 1 to 8 merge the given list and together to create a new list of tuples.\n",
        "\n",
        "lst1=[\"Energy\", \"Agriculture\", \"Industry\", \"Technology\", \"Finance\", \"Forestry\", \"Transport\"]"
      ]
    },
    {
      "cell_type": "code",
      "metadata": {
        "id": "MRoWiqGwRpa3",
        "outputId": "ffcb19f2-aa3e-4711-96ff-a060a2ade8ab"
      },
      "source": [
        ""
      ],
      "execution_count": null,
      "outputs": [
        {
          "output_type": "stream",
          "text": [
            "[('Energy', 1), ('Agriculture', 2), ('Industry', 3), ('Technology', 4), ('Finance', 5), ('Forestry', 6), ('Transport', 7)]\n"
          ],
          "name": "stdout"
        }
      ]
    },
    {
      "cell_type": "markdown",
      "metadata": {
        "id": "J5r7dngMRpa4"
      },
      "source": [
        "## Exercise 4: Write a function and create a list consisted of the number of occurence of letter: a (all a's).\n",
        "\n",
        "lst1=[\"Antartica\", \"America\", \"Armania\", \"Australia\", \"Albania\", \"Afganistan\",\"Alaska\"]"
      ]
    },
    {
      "cell_type": "code",
      "metadata": {
        "id": "-1za0gtqRpa4",
        "outputId": "5f26c8d1-d367-42fc-b043-e1dea5f17e79"
      },
      "source": [
        ""
      ],
      "execution_count": null,
      "outputs": [
        {
          "output_type": "stream",
          "text": [
            "[3, 2, 3, 3, 3, 3, 3]\n"
          ],
          "name": "stdout"
        }
      ]
    },
    {
      "cell_type": "markdown",
      "metadata": {
        "id": "2Chl5mzdRpa4"
      },
      "source": [
        "## Exercise 5: Write a function filter all the vowels in a given string using filter.\n",
        "\n",
        "str1=\"Inceptz is one of the best institutes to read data science in chennai\""
      ]
    },
    {
      "cell_type": "code",
      "metadata": {
        "id": "w_YFuWeRRpa4",
        "outputId": "51bbf2c3-336a-4b5a-d93e-e0d05f19522b"
      },
      "source": [
        ""
      ],
      "execution_count": null,
      "outputs": [
        {
          "output_type": "stream",
          "text": [
            "['I', 'e', 'i', 'o', 'e', 'o', 'e', 'e', 'i', 'i', 'u', 'e', 'o', 'e', 'a', 'a', 'a', 'i', 'e', 'e', 'i', 'e', 'a', 'i']\n"
          ],
          "name": "stdout"
        }
      ]
    },
    {
      "cell_type": "markdown",
      "metadata": {
        "id": "G75Fa3Z5Rpa5"
      },
      "source": [
        "## Exercise 6:  Write a function to create a list as the square of elements from the given list if the square is greater than 60\n",
        "\n",
        "lst1=[5, 6, 7 , 8, 9, 10, 12, 14]"
      ]
    },
    {
      "cell_type": "code",
      "metadata": {
        "id": "XTPqbZhGRpa5",
        "outputId": "bf0fdf9b-b862-4e51-a1e7-c1aae8fdad65"
      },
      "source": [
        ""
      ],
      "execution_count": null,
      "outputs": [
        {
          "output_type": "stream",
          "text": [
            "[64, 81, 100, 144, 196]\n"
          ],
          "name": "stdout"
        }
      ]
    },
    {
      "cell_type": "markdown",
      "metadata": {
        "id": "lJ8tAxXLRpa5"
      },
      "source": [
        "## Exercise 7: take the words given below as list and write a function and use reduce to make it a sentence\n",
        "Inceptz \n",
        "\n",
        "provides\n",
        "\n",
        "the\n",
        "\n",
        "best\n",
        "\n",
        "inclass \n",
        "\n",
        "trainings \n",
        "\n",
        "and\n",
        "\n",
        "is \n",
        "\n",
        "the \n",
        "\n",
        "best\n"
      ]
    },
    {
      "cell_type": "code",
      "metadata": {
        "id": "MXAV7F8HRpa5",
        "outputId": "3acc4389-24ac-42d1-e797-060fd6fd0600"
      },
      "source": [
        ""
      ],
      "execution_count": null,
      "outputs": [
        {
          "output_type": "execute_result",
          "data": {
            "text/plain": [
              "'Inceptez provides the best inclass trainings and is the best'"
            ]
          },
          "metadata": {
            "tags": []
          },
          "execution_count": 7
        }
      ]
    },
    {
      "cell_type": "code",
      "metadata": {
        "id": "DT8JgKc5Rpa6"
      },
      "source": [
        ""
      ],
      "execution_count": null,
      "outputs": []
    }
  ]
}