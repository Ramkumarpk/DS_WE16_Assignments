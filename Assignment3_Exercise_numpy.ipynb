{
  "nbformat": 4,
  "nbformat_minor": 0,
  "metadata": {
    "kernelspec": {
      "display_name": "conda_python3",
      "language": "python",
      "name": "conda_python3"
    },
    "language_info": {
      "codemirror_mode": {
        "name": "ipython",
        "version": 3
      },
      "file_extension": ".py",
      "mimetype": "text/x-python",
      "name": "python",
      "nbconvert_exporter": "python",
      "pygments_lexer": "ipython3",
      "version": "3.6.5"
    },
    "colab": {
      "name": "Assignment3_Exercise_numpy.ipynb",
      "provenance": [],
      "collapsed_sections": [],
      "include_colab_link": true
    }
  },
  "cells": [
    {
      "cell_type": "markdown",
      "metadata": {
        "id": "view-in-github",
        "colab_type": "text"
      },
      "source": [
        "<a href=\"https://colab.research.google.com/github/Ramkumarpk/DS_WE16_Assignments/blob/main/Assignment3_Exercise_numpy.ipynb\" target=\"_parent\"><img src=\"https://colab.research.google.com/assets/colab-badge.svg\" alt=\"Open In Colab\"/></a>"
      ]
    },
    {
      "cell_type": "markdown",
      "metadata": {
        "id": "F-w4kaYXwmcP"
      },
      "source": [
        "## Exercise 1: NumPy: Create an array with values ranging from 12 to 38"
      ]
    },
    {
      "cell_type": "code",
      "metadata": {
        "id": "S5TSlyObwmcV",
        "outputId": "b2b320c3-80b7-4e8d-b5f9-143490604bcc"
      },
      "source": [
        ""
      ],
      "execution_count": null,
      "outputs": [
        {
          "output_type": "stream",
          "text": [
            "[12 13 14 15 16 17 18 19 20 21 22 23 24 25 26 27 28 29 30 31 32 33 34 35\n",
            " 36 37]\n"
          ],
          "name": "stdout"
        }
      ]
    },
    {
      "cell_type": "code",
      "metadata": {
        "colab": {
          "base_uri": "https://localhost:8080/"
        },
        "id": "YdE_V4_fC1ed",
        "outputId": "8adbfba1-7754-4d94-d404-c53ff47bc51a"
      },
      "source": [
        "import numpy as np\n",
        "print(np.arange(12,38))"
      ],
      "execution_count": 4,
      "outputs": [
        {
          "output_type": "stream",
          "text": [
            "[12 13 14 15 16 17 18 19 20 21 22 23 24 25 26 27 28 29 30 31 32 33 34 35\n",
            " 36 37]\n"
          ],
          "name": "stdout"
        }
      ]
    },
    {
      "cell_type": "markdown",
      "metadata": {
        "id": "jQkqEzlCwmcW"
      },
      "source": [
        "## Exercise 2: Add a border around an existing array\n",
        "##### Hint: np.pad()"
      ]
    },
    {
      "cell_type": "code",
      "metadata": {
        "id": "88QXb_ofwmcW",
        "outputId": "0925f45c-8097-42ca-affb-b5e73f4a94ba"
      },
      "source": [
        ""
      ],
      "execution_count": null,
      "outputs": [
        {
          "output_type": "stream",
          "text": [
            "Original array:\n",
            "[[1. 1. 1.]\n",
            " [1. 1. 1.]\n",
            " [1. 1. 1.]]\n",
            "0 on the border and 1 inside in the array\n",
            "[[0. 0. 0. 0. 0.]\n",
            " [0. 1. 1. 1. 0.]\n",
            " [0. 1. 1. 1. 0.]\n",
            " [0. 1. 1. 1. 0.]\n",
            " [0. 0. 0. 0. 0.]]\n"
          ],
          "name": "stdout"
        }
      ]
    },
    {
      "cell_type": "code",
      "metadata": {
        "colab": {
          "base_uri": "https://localhost:8080/"
        },
        "id": "ns2HimApDyqQ",
        "outputId": "a5842779-9f08-46cc-b7c6-a031a90e71e7"
      },
      "source": [
        "org=np.ones((3,3))\n",
        "print('Original array: \\n',org)\n",
        "print('0 on the border and 1 inside in the array')\n",
        "print(np.pad(org,1))"
      ],
      "execution_count": 22,
      "outputs": [
        {
          "output_type": "stream",
          "text": [
            "Original array: \n",
            " [[1. 1. 1.]\n",
            " [1. 1. 1.]\n",
            " [1. 1. 1.]]\n",
            "0 on the border and 1 inside in the array\n",
            "[[0. 0. 0. 0. 0.]\n",
            " [0. 1. 1. 1. 0.]\n",
            " [0. 1. 1. 1. 0.]\n",
            " [0. 1. 1. 1. 0.]\n",
            " [0. 0. 0. 0. 0.]]\n"
          ],
          "name": "stdout"
        }
      ]
    },
    {
      "cell_type": "markdown",
      "metadata": {
        "id": "wqCARtViwmcX"
      },
      "source": [
        "## Exercise 3: Convert a list and tuple into arrays"
      ]
    },
    {
      "cell_type": "code",
      "metadata": {
        "id": "cyxhR5BvwmcX",
        "outputId": "81adeb62-2e1a-4f9b-a523-f35bf5382e46"
      },
      "source": [
        ""
      ],
      "execution_count": null,
      "outputs": [
        {
          "output_type": "stream",
          "text": [
            "List to array: \n",
            "[1 2 3 4 5 6 7 8]\n",
            "Tuple to array: \n",
            "[[8 4 6]\n",
            " [1 2 3]]\n"
          ],
          "name": "stdout"
        }
      ]
    },
    {
      "cell_type": "markdown",
      "metadata": {
        "id": "uVIAo796wmcX"
      },
      "source": [
        "## Also try np.asarray for the problem above! "
      ]
    },
    {
      "cell_type": "code",
      "metadata": {
        "colab": {
          "base_uri": "https://localhost:8080/"
        },
        "id": "9CZFza9hIZhx",
        "outputId": "59714637-1958-40a2-f758-70e6a6a7465b"
      },
      "source": [
        "lst=np.arange(1,10)\n",
        "print('List to array: \\n',lst)\n",
        "tup=([8,4,6],[1,2,3])\n",
        "print('Tuple to array: \\n',np.asarray(tup))\n"
      ],
      "execution_count": 33,
      "outputs": [
        {
          "output_type": "stream",
          "text": [
            "List to array: \n",
            " [1 2 3 4 5 6 7 8 9]\n",
            "Tuple to array: \n",
            " [[8 4 6]\n",
            " [1 2 3]]\n"
          ],
          "name": "stdout"
        }
      ]
    },
    {
      "cell_type": "markdown",
      "metadata": {
        "id": "80xWMwSZwmcY"
      },
      "source": [
        "## Exercise 4:  Convert the values of Centigrade degrees into Fahrenheit degrees"
      ]
    },
    {
      "cell_type": "code",
      "metadata": {
        "id": "aCj894TawmcY",
        "outputId": "8dcbfc55-135d-4e54-e16c-be7af663b6db"
      },
      "source": [
        ""
      ],
      "execution_count": null,
      "outputs": [
        {
          "output_type": "stream",
          "text": [
            "Values in Fahrenheit degrees:\n",
            "[ 0.   12.   45.21 34.   99.91]\n",
            "Values in  Centigrade degrees:\n",
            "[-17.77777778 -11.11111111   7.33888889   1.11111111  37.72777778]\n"
          ],
          "name": "stdout"
        }
      ]
    },
    {
      "cell_type": "code",
      "metadata": {
        "colab": {
          "base_uri": "https://localhost:8080/"
        },
        "id": "R7HPImmZPZwZ",
        "outputId": "04a6b339-9a73-4c09-fb1f-1dcb5bc73dd6"
      },
      "source": [
        "f=[ 0.,12.,45.21,34.,99.91]\n",
        "frn=np.array(f)\n",
        "print('Values in Fahrenheit degrees: \\n',frn)\n",
        "print(\"Values in Centigrade degrees: \")\n",
        "print((frn - 32) * 5/9)"
      ],
      "execution_count": 43,
      "outputs": [
        {
          "output_type": "stream",
          "text": [
            "Values in Fahrenheit degrees: \n",
            " [ 0.   12.   45.21 34.   99.91]\n",
            "Values in Centigrade degrees: \n",
            "[-17.77777778 -11.11111111   7.33888889   1.11111111  37.72777778]\n"
          ],
          "name": "stdout"
        }
      ]
    },
    {
      "cell_type": "markdown",
      "metadata": {
        "id": "9aKlup7AwmcY"
      },
      "source": [
        "## Exercise 5: Write a NumPy program to find the number of elements of an array, length of one array element in bytes and total bytes consumed by the elements. "
      ]
    },
    {
      "cell_type": "code",
      "metadata": {
        "id": "zQTnacUcwmcY",
        "outputId": "8784c5a6-d127-4a80-a215-0af035410a55"
      },
      "source": [
        ""
      ],
      "execution_count": null,
      "outputs": [
        {
          "output_type": "stream",
          "text": [
            "Size of the array:  3\n",
            "Length of one array element in bytes:  8\n",
            "Total bytes consumed by the elements of the array:  24\n"
          ],
          "name": "stdout"
        }
      ]
    },
    {
      "cell_type": "code",
      "metadata": {
        "colab": {
          "base_uri": "https://localhost:8080/"
        },
        "id": "QjzmuBVJYVME",
        "outputId": "d0f6bb4f-5939-46da-c473-f170aacc810e"
      },
      "source": [
        "ar=[1,2,3]\n",
        "ar2=np.array(ar)\n",
        "print('Size of the array:  ',ar2.size)\n",
        "print('Length of one array element in bytes: ',ar2.itemsize)\n",
        "print('Total bytes consumed by the elements of the array:  ',ar2.nbytes)\n",
        "len(bytes(ar2))"
      ],
      "execution_count": 60,
      "outputs": [
        {
          "output_type": "stream",
          "text": [
            "Size of the array:   3\n",
            "Length of one array element in bytes:  8\n",
            "Total bytes consumed by the elements of the array:   24\n"
          ],
          "name": "stdout"
        },
        {
          "output_type": "execute_result",
          "data": {
            "text/plain": [
              "24"
            ]
          },
          "metadata": {
            "tags": []
          },
          "execution_count": 60
        }
      ]
    },
    {
      "cell_type": "markdown",
      "metadata": {
        "id": "GO5oZZDrwmcZ"
      },
      "source": [
        "## Exercise 6: Get the unique elements of an array"
      ]
    },
    {
      "cell_type": "code",
      "metadata": {
        "id": "9B1quTojwmcZ",
        "outputId": "37fbc6af-31e5-451b-9c02-2c2fb0fe5ad7"
      },
      "source": [
        ""
      ],
      "execution_count": null,
      "outputs": [
        {
          "output_type": "stream",
          "text": [
            "Original array:\n",
            "[10 10 20 20 30 30]\n",
            "Unique elements of the above array:\n",
            "[10 20 30]\n",
            "Original array:\n",
            "[[1 1]\n",
            " [2 3]]\n",
            "Unique elements of the above array:\n",
            "[1 2 3]\n"
          ],
          "name": "stdout"
        }
      ]
    },
    {
      "cell_type": "code",
      "metadata": {
        "colab": {
          "base_uri": "https://localhost:8080/"
        },
        "id": "H-S-rLOFefbD",
        "outputId": "9a9bf628-3430-40b7-d63b-10c93ab649e8"
      },
      "source": [
        "org_arr=[10,10,20,20,30,30]\n",
        "org_arr=np.array(org_arr)\n",
        "print('Original array: \\n',org_arr)\n",
        "print('Unique elements of the above array: \\n',np.unique(org_arr))\n",
        "arr_2d =np.array([1,1,2,3])\n",
        "print('Original array: \\n',arr_2d.reshape(2,2))\n",
        "print('Unique elements of the above array: \\n',np.unique(arr_2d.reshape(2,2)))"
      ],
      "execution_count": 20,
      "outputs": [
        {
          "output_type": "stream",
          "text": [
            "Original array: \n",
            " [10 10 20 20 30 30]\n",
            "Unique elements of the above array: \n",
            " [10 20 30]\n",
            "Original array: \n",
            " [[1 1]\n",
            " [2 3]]\n",
            "Unique elements of the above array: \n",
            " [1 2 3]\n"
          ],
          "name": "stdout"
        }
      ]
    },
    {
      "cell_type": "markdown",
      "metadata": {
        "id": "ehWfk0x9wmcZ"
      },
      "source": [
        "## Exercise 7: Change the dimension of an array\n"
      ]
    },
    {
      "cell_type": "code",
      "metadata": {
        "id": "kIoJVYAQwmcZ",
        "outputId": "6566ed4f-ec42-4d0b-837c-21fa7174262f"
      },
      "source": [
        ""
      ],
      "execution_count": null,
      "outputs": [
        {
          "output_type": "stream",
          "text": [
            "Original array: [1 2 3 4 5 6 7 8 9]\n",
            "Change array shape to (3, 3) -> 3 rows and 3 columns \n",
            "[[1 2 3]\n",
            " [4 5 6]\n",
            " [7 8 9]]\n"
          ],
          "name": "stdout"
        }
      ]
    },
    {
      "cell_type": "code",
      "metadata": {
        "colab": {
          "base_uri": "https://localhost:8080/"
        },
        "id": "ioQSZ4b5iBes",
        "outputId": "94ba0d5e-a95b-44aa-faaa-8704d563a9e4"
      },
      "source": [
        "org_arr=np.arange(1,10)\n",
        "print('Original array:',org_arr)\n",
        "print('Change array shape to (3, 3) -> 3 rows and 3 columns \\n',org_arr.reshape(3,3))"
      ],
      "execution_count": 26,
      "outputs": [
        {
          "output_type": "stream",
          "text": [
            "Original array: [1 2 3 4 5 6 7 8 9]\n",
            "Change array shape to (3, 3) -> 3 rows and 3 columns \n",
            " [[1 2 3]\n",
            " [4 5 6]\n",
            " [7 8 9]]\n"
          ],
          "name": "stdout"
        }
      ]
    },
    {
      "cell_type": "markdown",
      "metadata": {
        "id": "Z3PADInVwmca"
      },
      "source": [
        "## Exercise 8: Create a 1-D array of 30 evenly spaced elements between 2.5. and 6.5, inclusive"
      ]
    },
    {
      "cell_type": "code",
      "metadata": {
        "id": "nQHKMz27wmca",
        "outputId": "c3721c27-019b-4f7b-8763-45078dd0c7f6"
      },
      "source": [
        ""
      ],
      "execution_count": null,
      "outputs": [
        {
          "output_type": "stream",
          "text": [
            "[2.5        2.63793103 2.77586207 2.9137931  3.05172414 3.18965517\n",
            " 3.32758621 3.46551724 3.60344828 3.74137931 3.87931034 4.01724138\n",
            " 4.15517241 4.29310345 4.43103448 4.56896552 4.70689655 4.84482759\n",
            " 4.98275862 5.12068966 5.25862069 5.39655172 5.53448276 5.67241379\n",
            " 5.81034483 5.94827586 6.0862069  6.22413793 6.36206897 6.5       ]\n"
          ],
          "name": "stdout"
        }
      ]
    },
    {
      "cell_type": "code",
      "metadata": {
        "colab": {
          "base_uri": "https://localhost:8080/"
        },
        "id": "HTl7MWomjBST",
        "outputId": "51590b01-06a8-465c-832c-92e4d8add6a5"
      },
      "source": [
        "from numpy import ogrid\n",
        "print(ogrid[2.5:6.5:30j])\n",
        "arr = np.linspace(2.5,6.5,30)\n",
        "print(arr)"
      ],
      "execution_count": 54,
      "outputs": [
        {
          "output_type": "stream",
          "text": [
            "[2.5        2.63793103 2.77586207 2.9137931  3.05172414 3.18965517\n",
            " 3.32758621 3.46551724 3.60344828 3.74137931 3.87931034 4.01724138\n",
            " 4.15517241 4.29310345 4.43103448 4.56896552 4.70689655 4.84482759\n",
            " 4.98275862 5.12068966 5.25862069 5.39655172 5.53448276 5.67241379\n",
            " 5.81034483 5.94827586 6.0862069  6.22413793 6.36206897 6.5       ]\n",
            "[2.5        2.63793103 2.77586207 2.9137931  3.05172414 3.18965517\n",
            " 3.32758621 3.46551724 3.60344828 3.74137931 3.87931034 4.01724138\n",
            " 4.15517241 4.29310345 4.43103448 4.56896552 4.70689655 4.84482759\n",
            " 4.98275862 5.12068966 5.25862069 5.39655172 5.53448276 5.67241379\n",
            " 5.81034483 5.94827586 6.0862069  6.22413793 6.36206897 6.5       ]\n"
          ],
          "name": "stdout"
        }
      ]
    },
    {
      "cell_type": "markdown",
      "metadata": {
        "id": "TMvg2Mn1wmca"
      },
      "source": [
        "## Exercise 9: Convert 1-D arrays as columns into a 2-D array"
      ]
    },
    {
      "cell_type": "code",
      "metadata": {
        "id": "2UKrd4Vkwmca",
        "outputId": "80636e7d-5f29-4836-c124-ee92cf8e2860"
      },
      "source": [
        ""
      ],
      "execution_count": null,
      "outputs": [
        {
          "output_type": "stream",
          "text": [
            "Array1: [10 20 30]\n",
            "Array2: [40 50 60]\n",
            "Converted array\n",
            "[[10 40]\n",
            " [20 50]\n",
            " [30 60]]\n"
          ],
          "name": "stdout"
        }
      ]
    },
    {
      "cell_type": "code",
      "metadata": {
        "colab": {
          "base_uri": "https://localhost:8080/"
        },
        "id": "UK2DN35smfU-",
        "outputId": "052fa03e-d754-4941-de5b-5423f5fedc46"
      },
      "source": [
        "arr1 = [10, 20, 30]\n",
        "arr1=np.array(arr1)\n",
        "print('Array1:',arr1)\n",
        "arr2 = [40, 50, 60]\n",
        "arr2=np.array(arr2)\n",
        "print('Array2:',arr2)\n",
        "print('Converted array \\n',np.stack((arr1,arr2), axis=1))"
      ],
      "execution_count": 50,
      "outputs": [
        {
          "output_type": "stream",
          "text": [
            "Array1: [10 20 30]\n",
            "Array2: [40 50 60]\n",
            "Converted array \n",
            " [[10 40]\n",
            " [20 50]\n",
            " [30 60]]\n"
          ],
          "name": "stdout"
        }
      ]
    },
    {
      "cell_type": "markdown",
      "metadata": {
        "id": "anR4Qf_qwmcb"
      },
      "source": [
        "## Exercise 10: Create a 5x5 matrix with row values ranging from 0 to 4"
      ]
    },
    {
      "cell_type": "code",
      "metadata": {
        "id": "Fq51mrhzwmcb",
        "outputId": "27e9b560-715c-47d3-f02b-95f5211e5be1"
      },
      "source": [
        ""
      ],
      "execution_count": null,
      "outputs": [
        {
          "output_type": "stream",
          "text": [
            "Original array:\n",
            "[[0. 0. 0. 0. 0.]\n",
            " [0. 0. 0. 0. 0.]\n",
            " [0. 0. 0. 0. 0.]\n",
            " [0. 0. 0. 0. 0.]\n",
            " [0. 0. 0. 0. 0.]]\n",
            "Row values ranging from 0 to 4.\n",
            "[[0. 1. 2. 3. 4.]\n",
            " [0. 1. 2. 3. 4.]\n",
            " [0. 1. 2. 3. 4.]\n",
            " [0. 1. 2. 3. 4.]\n",
            " [0. 1. 2. 3. 4.]]\n"
          ],
          "name": "stdout"
        }
      ]
    },
    {
      "cell_type": "code",
      "metadata": {
        "colab": {
          "base_uri": "https://localhost:8080/"
        },
        "id": "GQi1Dlobpkoa",
        "outputId": "1e73bed2-5e9c-4f70-fbd8-9760b62eba45"
      },
      "source": [
        "org_arr=np.zeros((5,5))\n",
        "print('Original array: \\n',org_arr)\n",
        "nw_arr=np.arange(5)\n",
        "print('Row values ranging from 0 to 4. ')\n",
        "print(org_arr+nw_arr)"
      ],
      "execution_count": 64,
      "outputs": [
        {
          "output_type": "stream",
          "text": [
            "Original array: \n",
            " [[0. 0. 0. 0. 0.]\n",
            " [0. 0. 0. 0. 0.]\n",
            " [0. 0. 0. 0. 0.]\n",
            " [0. 0. 0. 0. 0.]\n",
            " [0. 0. 0. 0. 0.]]\n",
            "Row values ranging from 0 to 4. \n",
            "[[0. 1. 2. 3. 4.]\n",
            " [0. 1. 2. 3. 4.]\n",
            " [0. 1. 2. 3. 4.]\n",
            " [0. 1. 2. 3. 4.]\n",
            " [0. 1. 2. 3. 4.]]\n"
          ],
          "name": "stdout"
        }
      ]
    },
    {
      "cell_type": "markdown",
      "metadata": {
        "id": "_0XF3ORNwmcb"
      },
      "source": [
        "## Exercise 11: Sum of all the multiples of 3 or 5 below 100"
      ]
    },
    {
      "cell_type": "code",
      "metadata": {
        "id": "Tn_yzCSxwmcb",
        "outputId": "cd554743-a308-44c8-8795-47b3fe54a79a"
      },
      "source": [
        ""
      ],
      "execution_count": null,
      "outputs": [
        {
          "output_type": "stream",
          "text": [
            "[ 3  5  6  9 10 12 15 18 20 21 24 25 27 30 33 35 36 39 40 42 45 48 50 51\n",
            " 54 55 57 60 63 65 66 69 70 72 75 78 80 81 84 85 87 90 93 95 96 99]\n",
            "2318\n"
          ],
          "name": "stdout"
        }
      ]
    },
    {
      "cell_type": "code",
      "metadata": {
        "colab": {
          "base_uri": "https://localhost:8080/"
        },
        "id": "Xym2CxZ-tWzB",
        "outputId": "9dfc1580-9c4d-4a46-b9ba-7b5d5c6c4378"
      },
      "source": [
        "x = np.arange(1, 100)\n",
        "n= x[(x % 3 == 0) | (x % 5 == 0)]\n",
        "print(n)\n",
        "print(n.sum())"
      ],
      "execution_count": 65,
      "outputs": [
        {
          "output_type": "stream",
          "text": [
            "[ 3  5  6  9 10 12 15 18 20 21 24 25 27 30 33 35 36 39 40 42 45 48 50 51\n",
            " 54 55 57 60 63 65 66 69 70 72 75 78 80 81 84 85 87 90 93 95 96 99]\n",
            "2318\n"
          ],
          "name": "stdout"
        }
      ]
    },
    {
      "cell_type": "markdown",
      "metadata": {
        "id": "V_eapvpQwmcb"
      },
      "source": [
        "## Exercise 12: Combine a one and a two dimensional array together and display their elements\n",
        "##### Hint : np.nditer()"
      ]
    },
    {
      "cell_type": "code",
      "metadata": {
        "id": "0iH0_RNuwmcb",
        "outputId": "ae0f10f3-43c0-4a85-c656-9e78b4e20155"
      },
      "source": [
        "x = np.arange(4)\n",
        "y = np.arange(4)\n",
        "for a, b in np.nditer([x,y]):\n",
        "    print(a)\n",
        "    print(b)"
      ],
      "execution_count": null,
      "outputs": [
        {
          "output_type": "stream",
          "text": [
            "0\n",
            "0\n",
            "1\n",
            "1\n",
            "2\n",
            "2\n",
            "3\n",
            "3\n"
          ],
          "name": "stdout"
        }
      ]
    },
    {
      "cell_type": "code",
      "metadata": {
        "id": "YqmTS1IJwmcc",
        "outputId": "22c2fe88-7a06-4cf5-caa8-fc0f019b585f"
      },
      "source": [
        ""
      ],
      "execution_count": null,
      "outputs": [
        {
          "output_type": "stream",
          "text": [
            "One dimensional array:\n",
            "[0 1 2 3]\n",
            "Two dimensional array:\n",
            "[[0 1 2 3]\n",
            " [4 5 6 7]]\n",
            "0:0\n",
            "1:1\n",
            "2:2\n",
            "3:3\n",
            "0:4\n",
            "1:5\n",
            "2:6\n",
            "3:7\n"
          ],
          "name": "stdout"
        }
      ]
    },
    {
      "cell_type": "markdown",
      "metadata": {
        "id": "_IKNk5_Cwmcc"
      },
      "source": [
        "## Exercise 13: Write a NumPy program to replace all elements of NumPy array that are greater than specified array."
      ]
    },
    {
      "cell_type": "code",
      "metadata": {
        "id": "yumykmCxwmcc",
        "outputId": "9c4a70a1-28fd-4aaa-ec26-fd18c43bd8f8"
      },
      "source": [
        ""
      ],
      "execution_count": null,
      "outputs": [
        {
          "output_type": "stream",
          "text": [
            "Original array:\n",
            "[[0.42436315 0.48558583 0.32924763]\n",
            " [0.7439979  0.58220701 0.38213418]\n",
            " [0.5097581  0.34528799 0.1563123 ]]\n",
            "Replace all elements of the said array with .5 which are greater than .5\n",
            "[[0.42436315 0.48558583 0.32924763]\n",
            " [0.5        0.5        0.38213418]\n",
            " [0.5        0.34528799 0.1563123 ]]\n"
          ],
          "name": "stdout"
        }
      ]
    },
    {
      "cell_type": "markdown",
      "metadata": {
        "id": "BdQjnRWLwmcc"
      },
      "source": [
        "## Exercise 14: Add a new row to an empty numpy array"
      ]
    },
    {
      "cell_type": "code",
      "metadata": {
        "id": "GntSCxbWwmcd",
        "outputId": "2a97519c-412f-435c-df08-45bfc425b195"
      },
      "source": [
        ""
      ],
      "execution_count": null,
      "outputs": [
        {
          "output_type": "stream",
          "text": [
            "Empty array:\n",
            "[]\n",
            "After adding two new arrays:\n",
            "[[10 20 30]\n",
            " [40 50 60]]\n"
          ],
          "name": "stdout"
        }
      ]
    },
    {
      "cell_type": "markdown",
      "metadata": {
        "id": "nqsGeBMVwmcd"
      },
      "source": [
        "## Exercise 15: Write a NumPy program to join a sequence of arrays along a new axis. "
      ]
    },
    {
      "cell_type": "code",
      "metadata": {
        "id": "63cgVaEQwmcd",
        "outputId": "6f767b26-06c1-4203-fe95-23e87757a385"
      },
      "source": [
        ""
      ],
      "execution_count": null,
      "outputs": [
        {
          "output_type": "stream",
          "text": [
            "Original arrays:\n",
            "[1 2 3]\n",
            "[2 3 4]\n",
            "Sequence of arrays along a new axis:\n",
            "[[1 2 3]\n",
            " [2 3 4]]\n",
            "\n",
            "Original arrays:\n",
            "[[1]\n",
            " [2]\n",
            " [3]]\n",
            "\n",
            "[[2]\n",
            " [3]\n",
            " [4]]\n",
            "Sequence of arrays along a new axis:\n",
            "[[1]\n",
            " [2]\n",
            " [3]\n",
            " [2]\n",
            " [3]\n",
            " [4]]\n"
          ],
          "name": "stdout"
        }
      ]
    },
    {
      "cell_type": "code",
      "metadata": {
        "id": "BUUBxSB2wmcd"
      },
      "source": [
        ""
      ],
      "execution_count": null,
      "outputs": []
    }
  ]
}