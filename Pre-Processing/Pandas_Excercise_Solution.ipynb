{
  "nbformat": 4,
  "nbformat_minor": 0,
  "metadata": {
    "kernelspec": {
      "display_name": "Python 3",
      "language": "python",
      "name": "python3"
    },
    "language_info": {
      "codemirror_mode": {
        "name": "ipython",
        "version": 3
      },
      "file_extension": ".py",
      "mimetype": "text/x-python",
      "name": "python",
      "nbconvert_exporter": "python",
      "pygments_lexer": "ipython3",
      "version": "3.6.4"
    },
    "colab": {
      "name": "Pandas Excercise_Solution.ipynb",
      "provenance": [],
      "include_colab_link": true
    }
  },
  "cells": [
    {
      "cell_type": "markdown",
      "metadata": {
        "id": "view-in-github",
        "colab_type": "text"
      },
      "source": [
        "<a href=\"https://colab.research.google.com/github/Ramkumarpk/DS_WE16_Assignments/blob/main/Pre-Processing/Pandas_Excercise_Solution.ipynb\" target=\"_parent\"><img src=\"https://colab.research.google.com/assets/colab-badge.svg\" alt=\"Open In Colab\"/></a>"
      ]
    },
    {
      "cell_type": "code",
      "metadata": {
        "id": "Hqfvmnaes1R-"
      },
      "source": [
        ""
      ],
      "execution_count": null,
      "outputs": []
    },
    {
      "cell_type": "code",
      "metadata": {
        "colab": {
          "base_uri": "https://localhost:8080/"
        },
        "id": "BvXA6fzAs5G4",
        "outputId": "65ca118f-a253-490b-a869-7dbab9a82062"
      },
      "source": [
        "from google.colab import drive\n",
        "drive.mount('/content/drive')"
      ],
      "execution_count": null,
      "outputs": [
        {
          "output_type": "stream",
          "text": [
            "Drive already mounted at /content/drive; to attempt to forcibly remount, call drive.mount(\"/content/drive\", force_remount=True).\n"
          ],
          "name": "stdout"
        }
      ]
    },
    {
      "cell_type": "code",
      "metadata": {
        "colab": {
          "base_uri": "https://localhost:8080/"
        },
        "id": "B8Ei1eB7tsnx",
        "outputId": "dff74523-1d1f-492d-c0b9-020c94afd1be"
      },
      "source": [
        "ls /content/drive/MyDrive/Inceptez\\ Batch\\ 16/01.\\ Pre-Processing/Activity/Answer"
      ],
      "execution_count": null,
      "outputs": [
        {
          "output_type": "stream",
          "text": [
            " company.csv  'Pandas Excercise_Solution.ipynb'\n"
          ],
          "name": "stdout"
        }
      ]
    },
    {
      "cell_type": "code",
      "metadata": {
        "colab": {
          "base_uri": "https://localhost:8080/"
        },
        "id": "_L2Np-Cht4cf",
        "outputId": "bad3e02b-6478-4ea8-cc20-911dae3eedd9"
      },
      "source": [
        "cd /content/drive/MyDrive/Inceptez\\ Batch\\ 16/01.\\ Pre-Processing/Activity/Answer"
      ],
      "execution_count": null,
      "outputs": [
        {
          "output_type": "stream",
          "text": [
            "/content/drive/MyDrive/Inceptez Batch 16/01. Pre-Processing/Activity/Answer\n"
          ],
          "name": "stdout"
        }
      ]
    },
    {
      "cell_type": "markdown",
      "metadata": {
        "id": "8mNh2m9LsxOG"
      },
      "source": [
        "Import the pandas library  \n",
        "Read the data company.csv in pandas"
      ]
    },
    {
      "cell_type": "code",
      "metadata": {
        "id": "wPzIfncPsxOM"
      },
      "source": [
        "import pandas as pd\n",
        "df = pd.read_csv(\"company.csv\")"
      ],
      "execution_count": null,
      "outputs": []
    },
    {
      "cell_type": "markdown",
      "metadata": {
        "id": "ObqRsdb7sxON"
      },
      "source": [
        "Find the dimension of given data"
      ]
    },
    {
      "cell_type": "code",
      "metadata": {
        "colab": {
          "base_uri": "https://localhost:8080/"
        },
        "id": "CDWXhcmgsxOO",
        "outputId": "260e2f0e-4160-4b8f-b777-8aae76930a08"
      },
      "source": [
        "df.shape"
      ],
      "execution_count": null,
      "outputs": [
        {
          "output_type": "execute_result",
          "data": {
            "text/plain": [
              "(148, 6)"
            ]
          },
          "metadata": {
            "tags": []
          },
          "execution_count": 29
        }
      ]
    },
    {
      "cell_type": "markdown",
      "metadata": {
        "id": "bkitN7kGsxOQ"
      },
      "source": [
        "List down all the columns in data frame"
      ]
    },
    {
      "cell_type": "code",
      "metadata": {
        "colab": {
          "base_uri": "https://localhost:8080/"
        },
        "id": "3Rr2Lyc1sxOR",
        "outputId": "c10e9364-48de-450c-8933-2fa8d2ab0e62"
      },
      "source": [
        "df.columns"
      ],
      "execution_count": null,
      "outputs": [
        {
          "output_type": "execute_result",
          "data": {
            "text/plain": [
              "Index(['Company', 'Age', 'Salary', 'Place', 'Country', 'Gender'], dtype='object')"
            ]
          },
          "metadata": {
            "tags": []
          },
          "execution_count": 30
        }
      ]
    },
    {
      "cell_type": "markdown",
      "metadata": {
        "id": "wfDnMjfLsxOR"
      },
      "source": [
        "List the top 10 rows in datframe"
      ]
    },
    {
      "cell_type": "code",
      "metadata": {
        "colab": {
          "base_uri": "https://localhost:8080/",
          "height": 205
        },
        "id": "pXdvi7IKsxOS",
        "outputId": "a9097f23-1907-44c8-a70e-77ea8239861a"
      },
      "source": [
        "df.head()"
      ],
      "execution_count": null,
      "outputs": [
        {
          "output_type": "execute_result",
          "data": {
            "text/html": [
              "<div>\n",
              "<style scoped>\n",
              "    .dataframe tbody tr th:only-of-type {\n",
              "        vertical-align: middle;\n",
              "    }\n",
              "\n",
              "    .dataframe tbody tr th {\n",
              "        vertical-align: top;\n",
              "    }\n",
              "\n",
              "    .dataframe thead th {\n",
              "        text-align: right;\n",
              "    }\n",
              "</style>\n",
              "<table border=\"1\" class=\"dataframe\">\n",
              "  <thead>\n",
              "    <tr style=\"text-align: right;\">\n",
              "      <th></th>\n",
              "      <th>Company</th>\n",
              "      <th>Age</th>\n",
              "      <th>Salary</th>\n",
              "      <th>Place</th>\n",
              "      <th>Country</th>\n",
              "      <th>Gender</th>\n",
              "    </tr>\n",
              "  </thead>\n",
              "  <tbody>\n",
              "    <tr>\n",
              "      <th>0</th>\n",
              "      <td>TCS</td>\n",
              "      <td>20.0</td>\n",
              "      <td>NaN</td>\n",
              "      <td>Chennai</td>\n",
              "      <td>India</td>\n",
              "      <td>0</td>\n",
              "    </tr>\n",
              "    <tr>\n",
              "      <th>1</th>\n",
              "      <td>Infosys</td>\n",
              "      <td>30.0</td>\n",
              "      <td>NaN</td>\n",
              "      <td>Mumbai</td>\n",
              "      <td>India</td>\n",
              "      <td>0</td>\n",
              "    </tr>\n",
              "    <tr>\n",
              "      <th>2</th>\n",
              "      <td>TCS</td>\n",
              "      <td>35.0</td>\n",
              "      <td>2300.0</td>\n",
              "      <td>Calcutta</td>\n",
              "      <td>India</td>\n",
              "      <td>0</td>\n",
              "    </tr>\n",
              "    <tr>\n",
              "      <th>3</th>\n",
              "      <td>Infosys</td>\n",
              "      <td>40.0</td>\n",
              "      <td>3000.0</td>\n",
              "      <td>Delhi</td>\n",
              "      <td>India</td>\n",
              "      <td>0</td>\n",
              "    </tr>\n",
              "    <tr>\n",
              "      <th>4</th>\n",
              "      <td>TCS</td>\n",
              "      <td>23.0</td>\n",
              "      <td>4000.0</td>\n",
              "      <td>Mumbai</td>\n",
              "      <td>India</td>\n",
              "      <td>0</td>\n",
              "    </tr>\n",
              "  </tbody>\n",
              "</table>\n",
              "</div>"
            ],
            "text/plain": [
              "   Company   Age  Salary     Place Country  Gender\n",
              "0      TCS  20.0     NaN   Chennai   India       0\n",
              "1  Infosys  30.0     NaN    Mumbai   India       0\n",
              "2      TCS  35.0  2300.0  Calcutta   India       0\n",
              "3  Infosys  40.0  3000.0     Delhi   India       0\n",
              "4      TCS  23.0  4000.0    Mumbai   India       0"
            ]
          },
          "metadata": {
            "tags": []
          },
          "execution_count": 31
        }
      ]
    },
    {
      "cell_type": "markdown",
      "metadata": {
        "id": "Y7XWW7gesxOT"
      },
      "source": [
        "List the last 15 rows in datframe"
      ]
    },
    {
      "cell_type": "code",
      "metadata": {
        "colab": {
          "base_uri": "https://localhost:8080/",
          "height": 516
        },
        "id": "tOE2LvhbsxOU",
        "outputId": "da227687-ce1f-41fd-e197-2d1b735ca870"
      },
      "source": [
        "df.tail(15)"
      ],
      "execution_count": null,
      "outputs": [
        {
          "output_type": "execute_result",
          "data": {
            "text/html": [
              "<div>\n",
              "<style scoped>\n",
              "    .dataframe tbody tr th:only-of-type {\n",
              "        vertical-align: middle;\n",
              "    }\n",
              "\n",
              "    .dataframe tbody tr th {\n",
              "        vertical-align: top;\n",
              "    }\n",
              "\n",
              "    .dataframe thead th {\n",
              "        text-align: right;\n",
              "    }\n",
              "</style>\n",
              "<table border=\"1\" class=\"dataframe\">\n",
              "  <thead>\n",
              "    <tr style=\"text-align: right;\">\n",
              "      <th></th>\n",
              "      <th>Company</th>\n",
              "      <th>Age</th>\n",
              "      <th>Salary</th>\n",
              "      <th>Place</th>\n",
              "      <th>Country</th>\n",
              "      <th>Gender</th>\n",
              "    </tr>\n",
              "  </thead>\n",
              "  <tbody>\n",
              "    <tr>\n",
              "      <th>133</th>\n",
              "      <td>NaN</td>\n",
              "      <td>22.0</td>\n",
              "      <td>8943.0</td>\n",
              "      <td>Chennai</td>\n",
              "      <td>India</td>\n",
              "      <td>0</td>\n",
              "    </tr>\n",
              "    <tr>\n",
              "      <th>134</th>\n",
              "      <td>Tata Consultancy Services</td>\n",
              "      <td>31.0</td>\n",
              "      <td>8345.0</td>\n",
              "      <td>Mumbai</td>\n",
              "      <td>India</td>\n",
              "      <td>0</td>\n",
              "    </tr>\n",
              "    <tr>\n",
              "      <th>135</th>\n",
              "      <td>CTS</td>\n",
              "      <td>40.0</td>\n",
              "      <td>9284.0</td>\n",
              "      <td>Calcutta</td>\n",
              "      <td>India</td>\n",
              "      <td>1</td>\n",
              "    </tr>\n",
              "    <tr>\n",
              "      <th>136</th>\n",
              "      <td>NaN</td>\n",
              "      <td>NaN</td>\n",
              "      <td>NaN</td>\n",
              "      <td>Delhi</td>\n",
              "      <td>India</td>\n",
              "      <td>0</td>\n",
              "    </tr>\n",
              "    <tr>\n",
              "      <th>137</th>\n",
              "      <td>CTS</td>\n",
              "      <td>31.0</td>\n",
              "      <td>2034.0</td>\n",
              "      <td>Mumbai</td>\n",
              "      <td>India</td>\n",
              "      <td>0</td>\n",
              "    </tr>\n",
              "    <tr>\n",
              "      <th>138</th>\n",
              "      <td>CTS</td>\n",
              "      <td>44.0</td>\n",
              "      <td>3033.0</td>\n",
              "      <td>Cochin</td>\n",
              "      <td>India</td>\n",
              "      <td>0</td>\n",
              "    </tr>\n",
              "    <tr>\n",
              "      <th>139</th>\n",
              "      <td>Congnizant</td>\n",
              "      <td>22.0</td>\n",
              "      <td>2934.0</td>\n",
              "      <td>Noida</td>\n",
              "      <td>India</td>\n",
              "      <td>0</td>\n",
              "    </tr>\n",
              "    <tr>\n",
              "      <th>140</th>\n",
              "      <td>Infosys</td>\n",
              "      <td>44.0</td>\n",
              "      <td>4034.0</td>\n",
              "      <td>Hyderabad</td>\n",
              "      <td>India</td>\n",
              "      <td>0</td>\n",
              "    </tr>\n",
              "    <tr>\n",
              "      <th>141</th>\n",
              "      <td>TCS</td>\n",
              "      <td>33.0</td>\n",
              "      <td>5034.0</td>\n",
              "      <td>Calcutta</td>\n",
              "      <td>India</td>\n",
              "      <td>0</td>\n",
              "    </tr>\n",
              "    <tr>\n",
              "      <th>142</th>\n",
              "      <td>Infosys Pvt Lmt</td>\n",
              "      <td>22.0</td>\n",
              "      <td>8202.0</td>\n",
              "      <td>Mumbai</td>\n",
              "      <td>India</td>\n",
              "      <td>0</td>\n",
              "    </tr>\n",
              "    <tr>\n",
              "      <th>143</th>\n",
              "      <td>TCS</td>\n",
              "      <td>33.0</td>\n",
              "      <td>9024.0</td>\n",
              "      <td>Calcutta</td>\n",
              "      <td>India</td>\n",
              "      <td>1</td>\n",
              "    </tr>\n",
              "    <tr>\n",
              "      <th>144</th>\n",
              "      <td>Infosys</td>\n",
              "      <td>22.0</td>\n",
              "      <td>8787.0</td>\n",
              "      <td>Calcutta</td>\n",
              "      <td>India</td>\n",
              "      <td>1</td>\n",
              "    </tr>\n",
              "    <tr>\n",
              "      <th>145</th>\n",
              "      <td>Infosys</td>\n",
              "      <td>44.0</td>\n",
              "      <td>4034.0</td>\n",
              "      <td>Delhi</td>\n",
              "      <td>India</td>\n",
              "      <td>1</td>\n",
              "    </tr>\n",
              "    <tr>\n",
              "      <th>146</th>\n",
              "      <td>TCS</td>\n",
              "      <td>33.0</td>\n",
              "      <td>5034.0</td>\n",
              "      <td>Mumbai</td>\n",
              "      <td>India</td>\n",
              "      <td>1</td>\n",
              "    </tr>\n",
              "    <tr>\n",
              "      <th>147</th>\n",
              "      <td>Infosys</td>\n",
              "      <td>22.0</td>\n",
              "      <td>8202.0</td>\n",
              "      <td>Cochin</td>\n",
              "      <td>India</td>\n",
              "      <td>0</td>\n",
              "    </tr>\n",
              "  </tbody>\n",
              "</table>\n",
              "</div>"
            ],
            "text/plain": [
              "                       Company   Age  Salary      Place Country  Gender\n",
              "133                        NaN  22.0  8943.0    Chennai   India       0\n",
              "134  Tata Consultancy Services  31.0  8345.0     Mumbai   India       0\n",
              "135                        CTS  40.0  9284.0   Calcutta   India       1\n",
              "136                        NaN   NaN     NaN      Delhi   India       0\n",
              "137                        CTS  31.0  2034.0     Mumbai   India       0\n",
              "138                        CTS  44.0  3033.0     Cochin   India       0\n",
              "139                 Congnizant  22.0  2934.0      Noida   India       0\n",
              "140                    Infosys  44.0  4034.0  Hyderabad   India       0\n",
              "141                        TCS  33.0  5034.0   Calcutta   India       0\n",
              "142            Infosys Pvt Lmt  22.0  8202.0     Mumbai   India       0\n",
              "143                        TCS  33.0  9024.0   Calcutta   India       1\n",
              "144                    Infosys  22.0  8787.0   Calcutta   India       1\n",
              "145                    Infosys  44.0  4034.0      Delhi   India       1\n",
              "146                        TCS  33.0  5034.0     Mumbai   India       1\n",
              "147                    Infosys  22.0  8202.0     Cochin   India       0"
            ]
          },
          "metadata": {
            "tags": []
          },
          "execution_count": 32
        }
      ]
    },
    {
      "cell_type": "markdown",
      "metadata": {
        "id": "IdssujpjsxOU"
      },
      "source": [
        "Find the number of rows in dataframe"
      ]
    },
    {
      "cell_type": "code",
      "metadata": {
        "colab": {
          "base_uri": "https://localhost:8080/"
        },
        "id": "gERTlOd2sxOV",
        "outputId": "d6406031-704b-44c9-c236-14f43098f46a"
      },
      "source": [
        "df.shape[0]"
      ],
      "execution_count": null,
      "outputs": [
        {
          "output_type": "execute_result",
          "data": {
            "text/plain": [
              "148"
            ]
          },
          "metadata": {
            "tags": []
          },
          "execution_count": 33
        }
      ]
    },
    {
      "cell_type": "markdown",
      "metadata": {
        "id": "o9GHwSsAsxOW"
      },
      "source": [
        "Check the information of dataframe"
      ]
    },
    {
      "cell_type": "code",
      "metadata": {
        "colab": {
          "base_uri": "https://localhost:8080/"
        },
        "id": "UfaF8ZkmsxOW",
        "outputId": "13f4b53d-ad0a-4179-828f-cd94856c44cb"
      },
      "source": [
        "df.info()"
      ],
      "execution_count": null,
      "outputs": [
        {
          "output_type": "stream",
          "text": [
            "<class 'pandas.core.frame.DataFrame'>\n",
            "RangeIndex: 148 entries, 0 to 147\n",
            "Data columns (total 6 columns):\n",
            " #   Column   Non-Null Count  Dtype  \n",
            "---  ------   --------------  -----  \n",
            " 0   Company  140 non-null    object \n",
            " 1   Age      130 non-null    float64\n",
            " 2   Salary   124 non-null    float64\n",
            " 3   Place    134 non-null    object \n",
            " 4   Country  148 non-null    object \n",
            " 5   Gender   148 non-null    int64  \n",
            "dtypes: float64(2), int64(1), object(3)\n",
            "memory usage: 7.1+ KB\n"
          ],
          "name": "stdout"
        }
      ]
    },
    {
      "cell_type": "markdown",
      "metadata": {
        "id": "bmulM3ubsxOX"
      },
      "source": [
        "Check the basic Statistics of Dataframe. Give your inference from the stats"
      ]
    },
    {
      "cell_type": "code",
      "metadata": {
        "colab": {
          "base_uri": "https://localhost:8080/",
          "height": 143
        },
        "id": "VSeS8K4ysxOX",
        "outputId": "1aa692dd-4ff5-468c-d2e2-7a850d293a28"
      },
      "source": [
        "df.describe().T"
      ],
      "execution_count": null,
      "outputs": [
        {
          "output_type": "execute_result",
          "data": {
            "text/html": [
              "<div>\n",
              "<style scoped>\n",
              "    .dataframe tbody tr th:only-of-type {\n",
              "        vertical-align: middle;\n",
              "    }\n",
              "\n",
              "    .dataframe tbody tr th {\n",
              "        vertical-align: top;\n",
              "    }\n",
              "\n",
              "    .dataframe thead th {\n",
              "        text-align: right;\n",
              "    }\n",
              "</style>\n",
              "<table border=\"1\" class=\"dataframe\">\n",
              "  <thead>\n",
              "    <tr style=\"text-align: right;\">\n",
              "      <th></th>\n",
              "      <th>count</th>\n",
              "      <th>mean</th>\n",
              "      <th>std</th>\n",
              "      <th>min</th>\n",
              "      <th>25%</th>\n",
              "      <th>50%</th>\n",
              "      <th>75%</th>\n",
              "      <th>max</th>\n",
              "    </tr>\n",
              "  </thead>\n",
              "  <tbody>\n",
              "    <tr>\n",
              "      <th>Age</th>\n",
              "      <td>130.0</td>\n",
              "      <td>30.484615</td>\n",
              "      <td>11.096640</td>\n",
              "      <td>0.0</td>\n",
              "      <td>22.0</td>\n",
              "      <td>32.5</td>\n",
              "      <td>37.75</td>\n",
              "      <td>54.0</td>\n",
              "    </tr>\n",
              "    <tr>\n",
              "      <th>Salary</th>\n",
              "      <td>124.0</td>\n",
              "      <td>5312.467742</td>\n",
              "      <td>2573.764683</td>\n",
              "      <td>1089.0</td>\n",
              "      <td>3030.0</td>\n",
              "      <td>5000.0</td>\n",
              "      <td>8000.00</td>\n",
              "      <td>9876.0</td>\n",
              "    </tr>\n",
              "    <tr>\n",
              "      <th>Gender</th>\n",
              "      <td>148.0</td>\n",
              "      <td>0.222973</td>\n",
              "      <td>0.417654</td>\n",
              "      <td>0.0</td>\n",
              "      <td>0.0</td>\n",
              "      <td>0.0</td>\n",
              "      <td>0.00</td>\n",
              "      <td>1.0</td>\n",
              "    </tr>\n",
              "  </tbody>\n",
              "</table>\n",
              "</div>"
            ],
            "text/plain": [
              "        count         mean          std  ...     50%      75%     max\n",
              "Age     130.0    30.484615    11.096640  ...    32.5    37.75    54.0\n",
              "Salary  124.0  5312.467742  2573.764683  ...  5000.0  8000.00  9876.0\n",
              "Gender  148.0     0.222973     0.417654  ...     0.0     0.00     1.0\n",
              "\n",
              "[3 rows x 8 columns]"
            ]
          },
          "metadata": {
            "tags": []
          },
          "execution_count": 35
        }
      ]
    },
    {
      "cell_type": "markdown",
      "metadata": {
        "id": "-yvCrTX3sxOY"
      },
      "source": [
        "Retrieve 20 to 100 rows and Company and age usig iloc"
      ]
    },
    {
      "cell_type": "code",
      "metadata": {
        "scrolled": true,
        "colab": {
          "base_uri": "https://localhost:8080/",
          "height": 421
        },
        "id": "Uib3NQVZsxOZ",
        "outputId": "5eca7ef4-5f21-40a2-df4b-fd0e2504fa8c"
      },
      "source": [
        "df.iloc[20:101,:2]"
      ],
      "execution_count": null,
      "outputs": [
        {
          "output_type": "execute_result",
          "data": {
            "text/html": [
              "<div>\n",
              "<style scoped>\n",
              "    .dataframe tbody tr th:only-of-type {\n",
              "        vertical-align: middle;\n",
              "    }\n",
              "\n",
              "    .dataframe tbody tr th {\n",
              "        vertical-align: top;\n",
              "    }\n",
              "\n",
              "    .dataframe thead th {\n",
              "        text-align: right;\n",
              "    }\n",
              "</style>\n",
              "<table border=\"1\" class=\"dataframe\">\n",
              "  <thead>\n",
              "    <tr style=\"text-align: right;\">\n",
              "      <th></th>\n",
              "      <th>Company</th>\n",
              "      <th>Age</th>\n",
              "    </tr>\n",
              "  </thead>\n",
              "  <tbody>\n",
              "    <tr>\n",
              "      <th>20</th>\n",
              "      <td>TCS</td>\n",
              "      <td>37.0</td>\n",
              "    </tr>\n",
              "    <tr>\n",
              "      <th>21</th>\n",
              "      <td>Infosys</td>\n",
              "      <td>50.0</td>\n",
              "    </tr>\n",
              "    <tr>\n",
              "      <th>22</th>\n",
              "      <td>TCS</td>\n",
              "      <td>21.0</td>\n",
              "    </tr>\n",
              "    <tr>\n",
              "      <th>23</th>\n",
              "      <td>Infosys</td>\n",
              "      <td>NaN</td>\n",
              "    </tr>\n",
              "    <tr>\n",
              "      <th>24</th>\n",
              "      <td>TCS</td>\n",
              "      <td>NaN</td>\n",
              "    </tr>\n",
              "    <tr>\n",
              "      <th>...</th>\n",
              "      <td>...</td>\n",
              "      <td>...</td>\n",
              "    </tr>\n",
              "    <tr>\n",
              "      <th>96</th>\n",
              "      <td>TCS</td>\n",
              "      <td>NaN</td>\n",
              "    </tr>\n",
              "    <tr>\n",
              "      <th>97</th>\n",
              "      <td>Infosys</td>\n",
              "      <td>22.0</td>\n",
              "    </tr>\n",
              "    <tr>\n",
              "      <th>98</th>\n",
              "      <td>TCS</td>\n",
              "      <td>33.0</td>\n",
              "    </tr>\n",
              "    <tr>\n",
              "      <th>99</th>\n",
              "      <td>CTS</td>\n",
              "      <td>44.0</td>\n",
              "    </tr>\n",
              "    <tr>\n",
              "      <th>100</th>\n",
              "      <td>CTS</td>\n",
              "      <td>22.0</td>\n",
              "    </tr>\n",
              "  </tbody>\n",
              "</table>\n",
              "<p>81 rows × 2 columns</p>\n",
              "</div>"
            ],
            "text/plain": [
              "     Company   Age\n",
              "20       TCS  37.0\n",
              "21   Infosys  50.0\n",
              "22       TCS  21.0\n",
              "23   Infosys   NaN\n",
              "24       TCS   NaN\n",
              "..       ...   ...\n",
              "96       TCS   NaN\n",
              "97   Infosys  22.0\n",
              "98       TCS  33.0\n",
              "99       CTS  44.0\n",
              "100      CTS  22.0\n",
              "\n",
              "[81 rows x 2 columns]"
            ]
          },
          "metadata": {
            "tags": []
          },
          "execution_count": 36
        }
      ]
    },
    {
      "cell_type": "markdown",
      "metadata": {
        "id": "_WykdJo6sxOZ"
      },
      "source": [
        "Retrieve 20 to 100 rows and Company and age usig loc"
      ]
    },
    {
      "cell_type": "code",
      "metadata": {
        "scrolled": true,
        "colab": {
          "base_uri": "https://localhost:8080/",
          "height": 421
        },
        "id": "4yarJQRRsxOa",
        "outputId": "8b55c0e1-a36f-46d3-8ba5-1ccd70465eba"
      },
      "source": [
        "df.loc[20:100,[\"Company\",\"Age\"]]"
      ],
      "execution_count": null,
      "outputs": [
        {
          "output_type": "execute_result",
          "data": {
            "text/html": [
              "<div>\n",
              "<style scoped>\n",
              "    .dataframe tbody tr th:only-of-type {\n",
              "        vertical-align: middle;\n",
              "    }\n",
              "\n",
              "    .dataframe tbody tr th {\n",
              "        vertical-align: top;\n",
              "    }\n",
              "\n",
              "    .dataframe thead th {\n",
              "        text-align: right;\n",
              "    }\n",
              "</style>\n",
              "<table border=\"1\" class=\"dataframe\">\n",
              "  <thead>\n",
              "    <tr style=\"text-align: right;\">\n",
              "      <th></th>\n",
              "      <th>Company</th>\n",
              "      <th>Age</th>\n",
              "    </tr>\n",
              "  </thead>\n",
              "  <tbody>\n",
              "    <tr>\n",
              "      <th>20</th>\n",
              "      <td>TCS</td>\n",
              "      <td>37.0</td>\n",
              "    </tr>\n",
              "    <tr>\n",
              "      <th>21</th>\n",
              "      <td>Infosys</td>\n",
              "      <td>50.0</td>\n",
              "    </tr>\n",
              "    <tr>\n",
              "      <th>22</th>\n",
              "      <td>TCS</td>\n",
              "      <td>21.0</td>\n",
              "    </tr>\n",
              "    <tr>\n",
              "      <th>23</th>\n",
              "      <td>Infosys</td>\n",
              "      <td>NaN</td>\n",
              "    </tr>\n",
              "    <tr>\n",
              "      <th>24</th>\n",
              "      <td>TCS</td>\n",
              "      <td>NaN</td>\n",
              "    </tr>\n",
              "    <tr>\n",
              "      <th>...</th>\n",
              "      <td>...</td>\n",
              "      <td>...</td>\n",
              "    </tr>\n",
              "    <tr>\n",
              "      <th>96</th>\n",
              "      <td>TCS</td>\n",
              "      <td>NaN</td>\n",
              "    </tr>\n",
              "    <tr>\n",
              "      <th>97</th>\n",
              "      <td>Infosys</td>\n",
              "      <td>22.0</td>\n",
              "    </tr>\n",
              "    <tr>\n",
              "      <th>98</th>\n",
              "      <td>TCS</td>\n",
              "      <td>33.0</td>\n",
              "    </tr>\n",
              "    <tr>\n",
              "      <th>99</th>\n",
              "      <td>CTS</td>\n",
              "      <td>44.0</td>\n",
              "    </tr>\n",
              "    <tr>\n",
              "      <th>100</th>\n",
              "      <td>CTS</td>\n",
              "      <td>22.0</td>\n",
              "    </tr>\n",
              "  </tbody>\n",
              "</table>\n",
              "<p>81 rows × 2 columns</p>\n",
              "</div>"
            ],
            "text/plain": [
              "     Company   Age\n",
              "20       TCS  37.0\n",
              "21   Infosys  50.0\n",
              "22       TCS  21.0\n",
              "23   Infosys   NaN\n",
              "24       TCS   NaN\n",
              "..       ...   ...\n",
              "96       TCS   NaN\n",
              "97   Infosys  22.0\n",
              "98       TCS  33.0\n",
              "99       CTS  44.0\n",
              "100      CTS  22.0\n",
              "\n",
              "[81 rows x 2 columns]"
            ]
          },
          "metadata": {
            "tags": []
          },
          "execution_count": 37
        }
      ]
    },
    {
      "cell_type": "markdown",
      "metadata": {
        "id": "4jhFTHChsxOa"
      },
      "source": [
        "Chage the data in 100 row and Place as 'Noida'"
      ]
    },
    {
      "cell_type": "code",
      "metadata": {
        "colab": {
          "base_uri": "https://localhost:8080/",
          "height": 35
        },
        "id": "AgnQJmJLsxOb",
        "outputId": "d6549d0b-09b3-434b-9f67-0f7d5e646460"
      },
      "source": [
        "df.loc[100,\"Place\"]"
      ],
      "execution_count": null,
      "outputs": [
        {
          "output_type": "execute_result",
          "data": {
            "application/vnd.google.colaboratory.intrinsic+json": {
              "type": "string"
            },
            "text/plain": [
              "'Cochin'"
            ]
          },
          "metadata": {
            "tags": []
          },
          "execution_count": 38
        }
      ]
    },
    {
      "cell_type": "code",
      "metadata": {
        "id": "o3ua54Z6sxOb"
      },
      "source": [
        "df.loc[100,\"Place\"] = \"Noida\"\n"
      ],
      "execution_count": null,
      "outputs": []
    },
    {
      "cell_type": "code",
      "metadata": {
        "colab": {
          "base_uri": "https://localhost:8080/"
        },
        "id": "27AH0v2WsxOc",
        "outputId": "340769e0-3da7-495a-81cf-5244adcfd4cf"
      },
      "source": [
        "df.loc[100,:]"
      ],
      "execution_count": null,
      "outputs": [
        {
          "output_type": "execute_result",
          "data": {
            "text/plain": [
              "Company      CTS\n",
              "Age           22\n",
              "Salary       NaN\n",
              "Place      Noida\n",
              "Country    India\n",
              "Gender         0\n",
              "Name: 100, dtype: object"
            ]
          },
          "metadata": {
            "tags": []
          },
          "execution_count": 40
        }
      ]
    },
    {
      "cell_type": "markdown",
      "metadata": {
        "id": "n9wJYwqysxOc"
      },
      "source": [
        "Change the column 'Place' to 'City'"
      ]
    },
    {
      "cell_type": "code",
      "metadata": {
        "id": "M4trQXxDsxOd"
      },
      "source": [
        "df.rename(columns={'Place': 'City'}, inplace=True)"
      ],
      "execution_count": null,
      "outputs": []
    },
    {
      "cell_type": "code",
      "metadata": {
        "colab": {
          "base_uri": "https://localhost:8080/"
        },
        "id": "778c9GafsxOd",
        "outputId": "3dbdc87c-616c-4c47-be53-abafa7d6ca28"
      },
      "source": [
        "df.columns"
      ],
      "execution_count": null,
      "outputs": [
        {
          "output_type": "execute_result",
          "data": {
            "text/plain": [
              "Index(['Company', 'Age', 'Salary', 'City', 'Country', 'Gender'], dtype='object')"
            ]
          },
          "metadata": {
            "tags": []
          },
          "execution_count": 42
        }
      ]
    },
    {
      "cell_type": "markdown",
      "metadata": {
        "id": "AgGaU0wTsxOd"
      },
      "source": [
        "List down the unique data in each columns and find length of unique data"
      ]
    },
    {
      "cell_type": "code",
      "metadata": {
        "colab": {
          "base_uri": "https://localhost:8080/"
        },
        "id": "ILUOmPtrsxOe",
        "outputId": "a93f9139-fe00-4f57-a254-df6067ba6a4b"
      },
      "source": [
        "df.nunique()"
      ],
      "execution_count": null,
      "outputs": [
        {
          "output_type": "execute_result",
          "data": {
            "text/plain": [
              "Company     6\n",
              "Age        29\n",
              "Salary     40\n",
              "City       11\n",
              "Country     1\n",
              "Gender      2\n",
              "dtype: int64"
            ]
          },
          "metadata": {
            "tags": []
          },
          "execution_count": 43
        }
      ]
    },
    {
      "cell_type": "code",
      "metadata": {
        "colab": {
          "base_uri": "https://localhost:8080/"
        },
        "id": "9h2eHEWksxOe",
        "outputId": "a66e37f8-e012-456f-caab-a0b8e65da323"
      },
      "source": [
        "df.Company.unique()"
      ],
      "execution_count": null,
      "outputs": [
        {
          "output_type": "execute_result",
          "data": {
            "text/plain": [
              "array(['TCS', 'Infosys', 'CTS', nan, 'Tata Consultancy Services',\n",
              "       'Congnizant', 'Infosys Pvt Lmt'], dtype=object)"
            ]
          },
          "metadata": {
            "tags": []
          },
          "execution_count": 44
        }
      ]
    },
    {
      "cell_type": "code",
      "metadata": {
        "colab": {
          "base_uri": "https://localhost:8080/"
        },
        "id": "EEhHgK-qsxOf",
        "outputId": "894249aa-8b2d-48a1-80b4-9581319299cf"
      },
      "source": [
        "df.Company.value_counts()"
      ],
      "execution_count": null,
      "outputs": [
        {
          "output_type": "execute_result",
          "data": {
            "text/plain": [
              "TCS                          53\n",
              "Infosys                      45\n",
              "CTS                          36\n",
              "Tata Consultancy Services     2\n",
              "Infosys Pvt Lmt               2\n",
              "Congnizant                    2\n",
              "Name: Company, dtype: int64"
            ]
          },
          "metadata": {
            "tags": []
          },
          "execution_count": 45
        }
      ]
    },
    {
      "cell_type": "code",
      "metadata": {
        "scrolled": true,
        "colab": {
          "base_uri": "https://localhost:8080/"
        },
        "id": "vERvekcVsxOf",
        "outputId": "4b0a1f00-fbe8-4c14-fe90-ac76cb902571"
      },
      "source": [
        "df.apply(lambda x:print(x.value_counts()))"
      ],
      "execution_count": null,
      "outputs": [
        {
          "output_type": "stream",
          "text": [
            "TCS                          53\n",
            "Infosys                      45\n",
            "CTS                          36\n",
            "Tata Consultancy Services     2\n",
            "Infosys Pvt Lmt               2\n",
            "Congnizant                    2\n",
            "Name: Company, dtype: int64\n",
            "22.0    16\n",
            "33.0    13\n",
            "44.0    10\n",
            "21.0     8\n",
            "23.0     8\n",
            "34.0     8\n",
            "32.0     7\n",
            "35.0     6\n",
            "0.0      6\n",
            "41.0     5\n",
            "45.0     4\n",
            "43.0     4\n",
            "24.0     4\n",
            "36.0     3\n",
            "40.0     3\n",
            "20.0     3\n",
            "25.0     3\n",
            "31.0     3\n",
            "46.0     2\n",
            "50.0     2\n",
            "37.0     2\n",
            "26.0     2\n",
            "30.0     2\n",
            "18.0     1\n",
            "19.0     1\n",
            "38.0     1\n",
            "51.0     1\n",
            "17.0     1\n",
            "54.0     1\n",
            "Name: Age, dtype: int64\n",
            "3000.0    9\n",
            "5000.0    6\n",
            "5034.0    5\n",
            "4034.0    5\n",
            "8202.0    5\n",
            "1089.0    4\n",
            "3184.0    4\n",
            "4824.0    4\n",
            "9024.0    4\n",
            "9284.0    4\n",
            "8345.0    4\n",
            "7084.0    4\n",
            "8787.0    4\n",
            "5835.0    4\n",
            "2300.0    4\n",
            "3045.0    4\n",
            "1234.0    4\n",
            "2934.0    4\n",
            "2034.0    4\n",
            "8943.0    4\n",
            "9000.0    3\n",
            "6000.0    3\n",
            "8000.0    3\n",
            "3030.0    3\n",
            "7000.0    3\n",
            "9876.0    2\n",
            "3234.0    2\n",
            "4000.0    2\n",
            "7654.0    2\n",
            "5009.0    1\n",
            "5098.0    1\n",
            "5435.0    1\n",
            "5555.0    1\n",
            "4345.0    1\n",
            "6544.0    1\n",
            "3454.0    1\n",
            "5654.0    1\n",
            "4324.0    1\n",
            "3033.0    1\n",
            "6543.0    1\n",
            "Name: Salary, dtype: int64\n",
            "Mumbai        37\n",
            "Calcutta      33\n",
            "Chennai       14\n",
            "Delhi         14\n",
            "Cochin        12\n",
            "Noida          9\n",
            "Hyderabad      8\n",
            "Podicherry     3\n",
            "Pune           2\n",
            "Nagpur         1\n",
            "Bhopal         1\n",
            "Name: City, dtype: int64\n",
            "India    148\n",
            "Name: Country, dtype: int64\n",
            "0    115\n",
            "1     33\n",
            "Name: Gender, dtype: int64\n"
          ],
          "name": "stdout"
        },
        {
          "output_type": "execute_result",
          "data": {
            "text/plain": [
              "Company    None\n",
              "Age        None\n",
              "Salary     None\n",
              "City       None\n",
              "Country    None\n",
              "Gender     None\n",
              "dtype: object"
            ]
          },
          "metadata": {
            "tags": []
          },
          "execution_count": 46
        }
      ]
    },
    {
      "cell_type": "markdown",
      "metadata": {
        "id": "25YvJjuVsxOg"
      },
      "source": [
        "Rename all the possible labels of column in Company as three labels\n",
        "TCS\n",
        "CTS\n",
        "Infosys"
      ]
    },
    {
      "cell_type": "code",
      "metadata": {
        "id": "oOOsBdYzsxOg"
      },
      "source": [
        "df.Company.replace({\"Tata Consultancy Services\":\"TCS\",\n",
        "                    \"Congnizant\":\"CTS\",\"Infosys Pvt Lmt\":\"Infosys\"},inplace=True)"
      ],
      "execution_count": null,
      "outputs": []
    },
    {
      "cell_type": "code",
      "metadata": {
        "colab": {
          "base_uri": "https://localhost:8080/"
        },
        "id": "Q6WuPT4bsxOh",
        "outputId": "2d5990a8-d02c-4834-c5e4-f713c68b00f2"
      },
      "source": [
        "df.Company.value_counts()"
      ],
      "execution_count": null,
      "outputs": [
        {
          "output_type": "execute_result",
          "data": {
            "text/plain": [
              "TCS        55\n",
              "Infosys    47\n",
              "CTS        38\n",
              "Name: Company, dtype: int64"
            ]
          },
          "metadata": {
            "tags": []
          },
          "execution_count": 48
        }
      ]
    },
    {
      "cell_type": "markdown",
      "metadata": {
        "id": "9EsZafKwsxOh"
      },
      "source": [
        "Where ever you see age as 0 replace with NA\n",
        "\n",
        "##Hint df[df.Age==20] = np.nan"
      ]
    },
    {
      "cell_type": "code",
      "metadata": {
        "id": "X-yWidhlsxOi"
      },
      "source": [
        "import numpy as np"
      ],
      "execution_count": null,
      "outputs": []
    },
    {
      "cell_type": "code",
      "metadata": {
        "id": "-2mWi28tsxOi"
      },
      "source": [
        "import numpy as np\n",
        "df[df.Age==0] = np.nan"
      ],
      "execution_count": null,
      "outputs": []
    },
    {
      "cell_type": "code",
      "metadata": {
        "colab": {
          "base_uri": "https://localhost:8080/"
        },
        "id": "NqGSlarMsxOj",
        "outputId": "abe6533b-cd8c-4d7a-fc15-f5c04b14e58b"
      },
      "source": [
        "df.Age.isna().sum()"
      ],
      "execution_count": null,
      "outputs": [
        {
          "output_type": "execute_result",
          "data": {
            "text/plain": [
              "24"
            ]
          },
          "metadata": {
            "tags": []
          },
          "execution_count": 51
        }
      ]
    },
    {
      "cell_type": "markdown",
      "metadata": {
        "id": "qURtSO2GsxOj"
      },
      "source": [
        "Check how many duplicated data is there?"
      ]
    },
    {
      "cell_type": "code",
      "metadata": {
        "colab": {
          "base_uri": "https://localhost:8080/"
        },
        "id": "7trnZZIYsxOk",
        "outputId": "e4eba3f2-80b2-46c6-a058-6e2fccee1a35"
      },
      "source": [
        "df.duplicated().sum()"
      ],
      "execution_count": null,
      "outputs": [
        {
          "output_type": "execute_result",
          "data": {
            "text/plain": [
              "9"
            ]
          },
          "metadata": {
            "tags": []
          },
          "execution_count": 52
        }
      ]
    },
    {
      "cell_type": "markdown",
      "metadata": {
        "id": "dS8DrT31sxOk"
      },
      "source": [
        "Remove all duplicated rowise data"
      ]
    },
    {
      "cell_type": "code",
      "metadata": {
        "id": "HD214xI3sxOl"
      },
      "source": [
        "df = df.drop_duplicates()"
      ],
      "execution_count": null,
      "outputs": []
    },
    {
      "cell_type": "code",
      "metadata": {
        "colab": {
          "base_uri": "https://localhost:8080/"
        },
        "id": "tjdFYWMKsxOl",
        "outputId": "999d0c5c-2e63-4238-b228-27dfc826e142"
      },
      "source": [
        "df.duplicated().sum()"
      ],
      "execution_count": null,
      "outputs": [
        {
          "output_type": "execute_result",
          "data": {
            "text/plain": [
              "0"
            ]
          },
          "metadata": {
            "tags": []
          },
          "execution_count": 54
        }
      ]
    },
    {
      "cell_type": "markdown",
      "metadata": {
        "id": "-r4Nn0AEsxOl"
      },
      "source": [
        "Remove the column 'Country'"
      ]
    },
    {
      "cell_type": "code",
      "metadata": {
        "scrolled": true,
        "colab": {
          "base_uri": "https://localhost:8080/",
          "height": 421
        },
        "id": "kwZhsf37sxOm",
        "outputId": "cff5ccce-c2de-4a76-e9bb-99108aed8969"
      },
      "source": [
        "#df1 = df.drop(columns=\"Country\")\n",
        "del df[\"Country\"]\n",
        "df"
      ],
      "execution_count": null,
      "outputs": [
        {
          "output_type": "execute_result",
          "data": {
            "text/html": [
              "<div>\n",
              "<style scoped>\n",
              "    .dataframe tbody tr th:only-of-type {\n",
              "        vertical-align: middle;\n",
              "    }\n",
              "\n",
              "    .dataframe tbody tr th {\n",
              "        vertical-align: top;\n",
              "    }\n",
              "\n",
              "    .dataframe thead th {\n",
              "        text-align: right;\n",
              "    }\n",
              "</style>\n",
              "<table border=\"1\" class=\"dataframe\">\n",
              "  <thead>\n",
              "    <tr style=\"text-align: right;\">\n",
              "      <th></th>\n",
              "      <th>Company</th>\n",
              "      <th>Age</th>\n",
              "      <th>Salary</th>\n",
              "      <th>City</th>\n",
              "      <th>Gender</th>\n",
              "    </tr>\n",
              "  </thead>\n",
              "  <tbody>\n",
              "    <tr>\n",
              "      <th>0</th>\n",
              "      <td>TCS</td>\n",
              "      <td>20.0</td>\n",
              "      <td>NaN</td>\n",
              "      <td>Chennai</td>\n",
              "      <td>0.0</td>\n",
              "    </tr>\n",
              "    <tr>\n",
              "      <th>1</th>\n",
              "      <td>Infosys</td>\n",
              "      <td>30.0</td>\n",
              "      <td>NaN</td>\n",
              "      <td>Mumbai</td>\n",
              "      <td>0.0</td>\n",
              "    </tr>\n",
              "    <tr>\n",
              "      <th>2</th>\n",
              "      <td>TCS</td>\n",
              "      <td>35.0</td>\n",
              "      <td>2300.0</td>\n",
              "      <td>Calcutta</td>\n",
              "      <td>0.0</td>\n",
              "    </tr>\n",
              "    <tr>\n",
              "      <th>3</th>\n",
              "      <td>Infosys</td>\n",
              "      <td>40.0</td>\n",
              "      <td>3000.0</td>\n",
              "      <td>Delhi</td>\n",
              "      <td>0.0</td>\n",
              "    </tr>\n",
              "    <tr>\n",
              "      <th>4</th>\n",
              "      <td>TCS</td>\n",
              "      <td>23.0</td>\n",
              "      <td>4000.0</td>\n",
              "      <td>Mumbai</td>\n",
              "      <td>0.0</td>\n",
              "    </tr>\n",
              "    <tr>\n",
              "      <th>...</th>\n",
              "      <td>...</td>\n",
              "      <td>...</td>\n",
              "      <td>...</td>\n",
              "      <td>...</td>\n",
              "      <td>...</td>\n",
              "    </tr>\n",
              "    <tr>\n",
              "      <th>142</th>\n",
              "      <td>Infosys</td>\n",
              "      <td>22.0</td>\n",
              "      <td>8202.0</td>\n",
              "      <td>Mumbai</td>\n",
              "      <td>0.0</td>\n",
              "    </tr>\n",
              "    <tr>\n",
              "      <th>143</th>\n",
              "      <td>TCS</td>\n",
              "      <td>33.0</td>\n",
              "      <td>9024.0</td>\n",
              "      <td>Calcutta</td>\n",
              "      <td>1.0</td>\n",
              "    </tr>\n",
              "    <tr>\n",
              "      <th>145</th>\n",
              "      <td>Infosys</td>\n",
              "      <td>44.0</td>\n",
              "      <td>4034.0</td>\n",
              "      <td>Delhi</td>\n",
              "      <td>1.0</td>\n",
              "    </tr>\n",
              "    <tr>\n",
              "      <th>146</th>\n",
              "      <td>TCS</td>\n",
              "      <td>33.0</td>\n",
              "      <td>5034.0</td>\n",
              "      <td>Mumbai</td>\n",
              "      <td>1.0</td>\n",
              "    </tr>\n",
              "    <tr>\n",
              "      <th>147</th>\n",
              "      <td>Infosys</td>\n",
              "      <td>22.0</td>\n",
              "      <td>8202.0</td>\n",
              "      <td>Cochin</td>\n",
              "      <td>0.0</td>\n",
              "    </tr>\n",
              "  </tbody>\n",
              "</table>\n",
              "<p>139 rows × 5 columns</p>\n",
              "</div>"
            ],
            "text/plain": [
              "     Company   Age  Salary      City  Gender\n",
              "0        TCS  20.0     NaN   Chennai     0.0\n",
              "1    Infosys  30.0     NaN    Mumbai     0.0\n",
              "2        TCS  35.0  2300.0  Calcutta     0.0\n",
              "3    Infosys  40.0  3000.0     Delhi     0.0\n",
              "4        TCS  23.0  4000.0    Mumbai     0.0\n",
              "..       ...   ...     ...       ...     ...\n",
              "142  Infosys  22.0  8202.0    Mumbai     0.0\n",
              "143      TCS  33.0  9024.0  Calcutta     1.0\n",
              "145  Infosys  44.0  4034.0     Delhi     1.0\n",
              "146      TCS  33.0  5034.0    Mumbai     1.0\n",
              "147  Infosys  22.0  8202.0    Cochin     0.0\n",
              "\n",
              "[139 rows x 5 columns]"
            ]
          },
          "metadata": {
            "tags": []
          },
          "execution_count": 55
        }
      ]
    },
    {
      "cell_type": "markdown",
      "metadata": {
        "id": "rOVC3ObjsxOm"
      },
      "source": [
        "Remove the row number 137"
      ]
    },
    {
      "cell_type": "code",
      "metadata": {
        "scrolled": true,
        "colab": {
          "base_uri": "https://localhost:8080/",
          "height": 421
        },
        "id": "dnA5OFOzsxOn",
        "outputId": "1fd7455a-4d8a-462d-ae09-15398ef7617e"
      },
      "source": [
        "df.drop(index=136)"
      ],
      "execution_count": null,
      "outputs": [
        {
          "output_type": "execute_result",
          "data": {
            "text/html": [
              "<div>\n",
              "<style scoped>\n",
              "    .dataframe tbody tr th:only-of-type {\n",
              "        vertical-align: middle;\n",
              "    }\n",
              "\n",
              "    .dataframe tbody tr th {\n",
              "        vertical-align: top;\n",
              "    }\n",
              "\n",
              "    .dataframe thead th {\n",
              "        text-align: right;\n",
              "    }\n",
              "</style>\n",
              "<table border=\"1\" class=\"dataframe\">\n",
              "  <thead>\n",
              "    <tr style=\"text-align: right;\">\n",
              "      <th></th>\n",
              "      <th>Company</th>\n",
              "      <th>Age</th>\n",
              "      <th>Salary</th>\n",
              "      <th>City</th>\n",
              "      <th>Gender</th>\n",
              "    </tr>\n",
              "  </thead>\n",
              "  <tbody>\n",
              "    <tr>\n",
              "      <th>0</th>\n",
              "      <td>TCS</td>\n",
              "      <td>20.0</td>\n",
              "      <td>NaN</td>\n",
              "      <td>Chennai</td>\n",
              "      <td>0.0</td>\n",
              "    </tr>\n",
              "    <tr>\n",
              "      <th>1</th>\n",
              "      <td>Infosys</td>\n",
              "      <td>30.0</td>\n",
              "      <td>NaN</td>\n",
              "      <td>Mumbai</td>\n",
              "      <td>0.0</td>\n",
              "    </tr>\n",
              "    <tr>\n",
              "      <th>2</th>\n",
              "      <td>TCS</td>\n",
              "      <td>35.0</td>\n",
              "      <td>2300.0</td>\n",
              "      <td>Calcutta</td>\n",
              "      <td>0.0</td>\n",
              "    </tr>\n",
              "    <tr>\n",
              "      <th>3</th>\n",
              "      <td>Infosys</td>\n",
              "      <td>40.0</td>\n",
              "      <td>3000.0</td>\n",
              "      <td>Delhi</td>\n",
              "      <td>0.0</td>\n",
              "    </tr>\n",
              "    <tr>\n",
              "      <th>4</th>\n",
              "      <td>TCS</td>\n",
              "      <td>23.0</td>\n",
              "      <td>4000.0</td>\n",
              "      <td>Mumbai</td>\n",
              "      <td>0.0</td>\n",
              "    </tr>\n",
              "    <tr>\n",
              "      <th>...</th>\n",
              "      <td>...</td>\n",
              "      <td>...</td>\n",
              "      <td>...</td>\n",
              "      <td>...</td>\n",
              "      <td>...</td>\n",
              "    </tr>\n",
              "    <tr>\n",
              "      <th>142</th>\n",
              "      <td>Infosys</td>\n",
              "      <td>22.0</td>\n",
              "      <td>8202.0</td>\n",
              "      <td>Mumbai</td>\n",
              "      <td>0.0</td>\n",
              "    </tr>\n",
              "    <tr>\n",
              "      <th>143</th>\n",
              "      <td>TCS</td>\n",
              "      <td>33.0</td>\n",
              "      <td>9024.0</td>\n",
              "      <td>Calcutta</td>\n",
              "      <td>1.0</td>\n",
              "    </tr>\n",
              "    <tr>\n",
              "      <th>145</th>\n",
              "      <td>Infosys</td>\n",
              "      <td>44.0</td>\n",
              "      <td>4034.0</td>\n",
              "      <td>Delhi</td>\n",
              "      <td>1.0</td>\n",
              "    </tr>\n",
              "    <tr>\n",
              "      <th>146</th>\n",
              "      <td>TCS</td>\n",
              "      <td>33.0</td>\n",
              "      <td>5034.0</td>\n",
              "      <td>Mumbai</td>\n",
              "      <td>1.0</td>\n",
              "    </tr>\n",
              "    <tr>\n",
              "      <th>147</th>\n",
              "      <td>Infosys</td>\n",
              "      <td>22.0</td>\n",
              "      <td>8202.0</td>\n",
              "      <td>Cochin</td>\n",
              "      <td>0.0</td>\n",
              "    </tr>\n",
              "  </tbody>\n",
              "</table>\n",
              "<p>138 rows × 5 columns</p>\n",
              "</div>"
            ],
            "text/plain": [
              "     Company   Age  Salary      City  Gender\n",
              "0        TCS  20.0     NaN   Chennai     0.0\n",
              "1    Infosys  30.0     NaN    Mumbai     0.0\n",
              "2        TCS  35.0  2300.0  Calcutta     0.0\n",
              "3    Infosys  40.0  3000.0     Delhi     0.0\n",
              "4        TCS  23.0  4000.0    Mumbai     0.0\n",
              "..       ...   ...     ...       ...     ...\n",
              "142  Infosys  22.0  8202.0    Mumbai     0.0\n",
              "143      TCS  33.0  9024.0  Calcutta     1.0\n",
              "145  Infosys  44.0  4034.0     Delhi     1.0\n",
              "146      TCS  33.0  5034.0    Mumbai     1.0\n",
              "147  Infosys  22.0  8202.0    Cochin     0.0\n",
              "\n",
              "[138 rows x 5 columns]"
            ]
          },
          "metadata": {
            "tags": []
          },
          "execution_count": 56
        }
      ]
    },
    {
      "cell_type": "markdown",
      "metadata": {
        "id": "yALOcbzCsxOn"
      },
      "source": [
        "Find number of each labels in Company"
      ]
    },
    {
      "cell_type": "code",
      "metadata": {
        "colab": {
          "base_uri": "https://localhost:8080/"
        },
        "id": "rizBiaWssxOn",
        "outputId": "e13a025f-0826-4bdd-da7f-255a8380f0d8"
      },
      "source": [
        "df.Company.value_counts()"
      ],
      "execution_count": null,
      "outputs": [
        {
          "output_type": "execute_result",
          "data": {
            "text/plain": [
              "TCS        52\n",
              "Infosys    43\n",
              "CTS        35\n",
              "Name: Company, dtype: int64"
            ]
          },
          "metadata": {
            "tags": []
          },
          "execution_count": 57
        }
      ]
    },
    {
      "cell_type": "markdown",
      "metadata": {
        "id": "rdGVh7iTsxOo"
      },
      "source": [
        "Find number of each labels in City"
      ]
    },
    {
      "cell_type": "code",
      "metadata": {
        "colab": {
          "base_uri": "https://localhost:8080/"
        },
        "id": "Kj0X5alDsxOo",
        "outputId": "db92e62f-ccc6-4ea4-feec-c01bef8f04af"
      },
      "source": [
        "df.City.value_counts()"
      ],
      "execution_count": null,
      "outputs": [
        {
          "output_type": "execute_result",
          "data": {
            "text/plain": [
              "Mumbai        33\n",
              "Calcutta      30\n",
              "Chennai       13\n",
              "Delhi         13\n",
              "Cochin        12\n",
              "Noida          9\n",
              "Hyderabad      8\n",
              "Podicherry     2\n",
              "Pune           2\n",
              "Nagpur         1\n",
              "Bhopal         1\n",
              "Name: City, dtype: int64"
            ]
          },
          "metadata": {
            "tags": []
          },
          "execution_count": 58
        }
      ]
    },
    {
      "cell_type": "markdown",
      "metadata": {
        "id": "qXp8Lne8sxOp"
      },
      "source": [
        "Find Number of Null Values in each column"
      ]
    },
    {
      "cell_type": "code",
      "metadata": {
        "colab": {
          "base_uri": "https://localhost:8080/"
        },
        "id": "y3sqKwV9sxOp",
        "outputId": "eeb64a66-0dbe-47b6-93a5-255a104f77f5"
      },
      "source": [
        "df.isna().sum()"
      ],
      "execution_count": null,
      "outputs": [
        {
          "output_type": "execute_result",
          "data": {
            "text/plain": [
              "Company     9\n",
              "Age        18\n",
              "Salary     24\n",
              "City       15\n",
              "Gender      1\n",
              "dtype: int64"
            ]
          },
          "metadata": {
            "tags": []
          },
          "execution_count": 59
        }
      ]
    },
    {
      "cell_type": "markdown",
      "metadata": {
        "id": "P6ofx83BsxOq"
      },
      "source": [
        "Remove all Null values in Salary"
      ]
    },
    {
      "cell_type": "code",
      "metadata": {
        "id": "dwguKLuDsxOq"
      },
      "source": [
        "df.dropna(subset=[\"Salary\"],inplace=True)"
      ],
      "execution_count": null,
      "outputs": []
    },
    {
      "cell_type": "markdown",
      "metadata": {
        "id": "2ok0pYrOsxOr"
      },
      "source": [
        "Replace the Null values in Comapany with mode"
      ]
    },
    {
      "cell_type": "code",
      "metadata": {
        "id": "TWGId3kzsxOr"
      },
      "source": [
        "df.Company.fillna(df.Company.mode()[0],inplace=True)\n"
      ],
      "execution_count": null,
      "outputs": []
    },
    {
      "cell_type": "markdown",
      "metadata": {
        "id": "PC7sOe0wsxOr"
      },
      "source": [
        "Replace the null value in Salary with median"
      ]
    },
    {
      "cell_type": "code",
      "metadata": {
        "id": "XGOuRDLcsxOs"
      },
      "source": [
        "#df.Salary.fillna(df.Salary.median(),inplace=True)\n"
      ],
      "execution_count": null,
      "outputs": []
    },
    {
      "cell_type": "code",
      "metadata": {
        "id": "c2yMwu30sxOs"
      },
      "source": [
        "#df.Age.astype(\"float\")\n",
        "#df.loc[df['Age'].notnull(), 'Age'].apply(int)\n",
        "#pd.to_numeric(df[\"Age\"])\n",
        "df[\"Age\"] = pd.to_numeric(df[\"Age\"], errors='coerce')\n",
        "df[\"Salary\"] = pd.to_numeric(df[\"Salary\"], errors='coerce')\n"
      ],
      "execution_count": null,
      "outputs": []
    },
    {
      "cell_type": "code",
      "metadata": {
        "id": "z0FMFND4sxOt"
      },
      "source": [
        "df.Age.fillna(df.Age.mean(),inplace=True)\n",
        "df.Salary.fillna(df.Salary.median(),inplace=True)\n"
      ],
      "execution_count": null,
      "outputs": []
    },
    {
      "cell_type": "markdown",
      "metadata": {
        "id": "VGDHLpdwsxOt"
      },
      "source": [
        "Replace the null value in age with mean"
      ]
    },
    {
      "cell_type": "markdown",
      "metadata": {
        "id": "AhNwVoCAsxOu"
      },
      "source": [
        "Filter the data with age>40 and Salary<5000"
      ]
    },
    {
      "cell_type": "code",
      "metadata": {
        "colab": {
          "base_uri": "https://localhost:8080/",
          "height": 516
        },
        "id": "nEAp46aEsxOu",
        "outputId": "366eea8b-1d0f-4da8-8bd7-6191c0df2d89"
      },
      "source": [
        "df[(df.Age>40) & (df.Salary<5000)]"
      ],
      "execution_count": null,
      "outputs": [
        {
          "output_type": "execute_result",
          "data": {
            "text/html": [
              "<div>\n",
              "<style scoped>\n",
              "    .dataframe tbody tr th:only-of-type {\n",
              "        vertical-align: middle;\n",
              "    }\n",
              "\n",
              "    .dataframe tbody tr th {\n",
              "        vertical-align: top;\n",
              "    }\n",
              "\n",
              "    .dataframe thead th {\n",
              "        text-align: right;\n",
              "    }\n",
              "</style>\n",
              "<table border=\"1\" class=\"dataframe\">\n",
              "  <thead>\n",
              "    <tr style=\"text-align: right;\">\n",
              "      <th></th>\n",
              "      <th>Company</th>\n",
              "      <th>Age</th>\n",
              "      <th>Salary</th>\n",
              "      <th>City</th>\n",
              "      <th>Gender</th>\n",
              "    </tr>\n",
              "  </thead>\n",
              "  <tbody>\n",
              "    <tr>\n",
              "      <th>21</th>\n",
              "      <td>Infosys</td>\n",
              "      <td>50.0</td>\n",
              "      <td>3184.0</td>\n",
              "      <td>Delhi</td>\n",
              "      <td>0.0</td>\n",
              "    </tr>\n",
              "    <tr>\n",
              "      <th>32</th>\n",
              "      <td>Infosys</td>\n",
              "      <td>45.0</td>\n",
              "      <td>4034.0</td>\n",
              "      <td>Calcutta</td>\n",
              "      <td>0.0</td>\n",
              "    </tr>\n",
              "    <tr>\n",
              "      <th>39</th>\n",
              "      <td>Infosys</td>\n",
              "      <td>41.0</td>\n",
              "      <td>3000.0</td>\n",
              "      <td>Mumbai</td>\n",
              "      <td>0.0</td>\n",
              "    </tr>\n",
              "    <tr>\n",
              "      <th>50</th>\n",
              "      <td>Infosys</td>\n",
              "      <td>41.0</td>\n",
              "      <td>3000.0</td>\n",
              "      <td>Chennai</td>\n",
              "      <td>0.0</td>\n",
              "    </tr>\n",
              "    <tr>\n",
              "      <th>57</th>\n",
              "      <td>Infosys</td>\n",
              "      <td>51.0</td>\n",
              "      <td>3184.0</td>\n",
              "      <td>Hyderabad</td>\n",
              "      <td>0.0</td>\n",
              "    </tr>\n",
              "    <tr>\n",
              "      <th>68</th>\n",
              "      <td>Infosys</td>\n",
              "      <td>43.0</td>\n",
              "      <td>4034.0</td>\n",
              "      <td>Mumbai</td>\n",
              "      <td>0.0</td>\n",
              "    </tr>\n",
              "    <tr>\n",
              "      <th>75</th>\n",
              "      <td>Infosys</td>\n",
              "      <td>44.0</td>\n",
              "      <td>3000.0</td>\n",
              "      <td>Cochin</td>\n",
              "      <td>0.0</td>\n",
              "    </tr>\n",
              "    <tr>\n",
              "      <th>86</th>\n",
              "      <td>Infosys</td>\n",
              "      <td>41.0</td>\n",
              "      <td>3000.0</td>\n",
              "      <td>Delhi</td>\n",
              "      <td>0.0</td>\n",
              "    </tr>\n",
              "    <tr>\n",
              "      <th>93</th>\n",
              "      <td>Infosys</td>\n",
              "      <td>54.0</td>\n",
              "      <td>3184.0</td>\n",
              "      <td>Mumbai</td>\n",
              "      <td>0.0</td>\n",
              "    </tr>\n",
              "    <tr>\n",
              "      <th>104</th>\n",
              "      <td>Infosys</td>\n",
              "      <td>44.0</td>\n",
              "      <td>4034.0</td>\n",
              "      <td>Delhi</td>\n",
              "      <td>0.0</td>\n",
              "    </tr>\n",
              "    <tr>\n",
              "      <th>122</th>\n",
              "      <td>Infosys</td>\n",
              "      <td>44.0</td>\n",
              "      <td>3234.0</td>\n",
              "      <td>Mumbai</td>\n",
              "      <td>0.0</td>\n",
              "    </tr>\n",
              "    <tr>\n",
              "      <th>129</th>\n",
              "      <td>Infosys</td>\n",
              "      <td>50.0</td>\n",
              "      <td>3184.0</td>\n",
              "      <td>Calcutta</td>\n",
              "      <td>0.0</td>\n",
              "    </tr>\n",
              "    <tr>\n",
              "      <th>138</th>\n",
              "      <td>CTS</td>\n",
              "      <td>44.0</td>\n",
              "      <td>3033.0</td>\n",
              "      <td>Cochin</td>\n",
              "      <td>0.0</td>\n",
              "    </tr>\n",
              "    <tr>\n",
              "      <th>140</th>\n",
              "      <td>Infosys</td>\n",
              "      <td>44.0</td>\n",
              "      <td>4034.0</td>\n",
              "      <td>Hyderabad</td>\n",
              "      <td>0.0</td>\n",
              "    </tr>\n",
              "    <tr>\n",
              "      <th>145</th>\n",
              "      <td>Infosys</td>\n",
              "      <td>44.0</td>\n",
              "      <td>4034.0</td>\n",
              "      <td>Delhi</td>\n",
              "      <td>1.0</td>\n",
              "    </tr>\n",
              "  </tbody>\n",
              "</table>\n",
              "</div>"
            ],
            "text/plain": [
              "     Company   Age  Salary       City  Gender\n",
              "21   Infosys  50.0  3184.0      Delhi     0.0\n",
              "32   Infosys  45.0  4034.0   Calcutta     0.0\n",
              "39   Infosys  41.0  3000.0     Mumbai     0.0\n",
              "50   Infosys  41.0  3000.0    Chennai     0.0\n",
              "57   Infosys  51.0  3184.0  Hyderabad     0.0\n",
              "68   Infosys  43.0  4034.0     Mumbai     0.0\n",
              "75   Infosys  44.0  3000.0     Cochin     0.0\n",
              "86   Infosys  41.0  3000.0      Delhi     0.0\n",
              "93   Infosys  54.0  3184.0     Mumbai     0.0\n",
              "104  Infosys  44.0  4034.0      Delhi     0.0\n",
              "122  Infosys  44.0  3234.0     Mumbai     0.0\n",
              "129  Infosys  50.0  3184.0   Calcutta     0.0\n",
              "138      CTS  44.0  3033.0     Cochin     0.0\n",
              "140  Infosys  44.0  4034.0  Hyderabad     0.0\n",
              "145  Infosys  44.0  4034.0      Delhi     1.0"
            ]
          },
          "metadata": {
            "tags": []
          },
          "execution_count": 65
        }
      ]
    },
    {
      "cell_type": "markdown",
      "metadata": {
        "id": "mszSgyJpsxOv"
      },
      "source": [
        "Draw an histogram chart for age, Salary"
      ]
    },
    {
      "cell_type": "code",
      "metadata": {
        "colab": {
          "base_uri": "https://localhost:8080/",
          "height": 282
        },
        "id": "NYrU8SPnsxOv",
        "outputId": "605d88a4-2109-46e8-dbdc-8eaed799d0fd"
      },
      "source": [
        "%matplotlib inline\n",
        "df.Age.plot(kind=\"hist\")\n",
        "\n"
      ],
      "execution_count": null,
      "outputs": [
        {
          "output_type": "execute_result",
          "data": {
            "text/plain": [
              "<matplotlib.axes._subplots.AxesSubplot at 0x7f38d58095d0>"
            ]
          },
          "metadata": {
            "tags": []
          },
          "execution_count": 66
        },
        {
          "output_type": "display_data",
          "data": {
            "image/png": "[encoded data removed]",
            "text/plain": [
              "<Figure size 432x288 with 1 Axes>"
            ]
          },
          "metadata": {
            "tags": [],
            "needs_background": "light"
          }
        }
      ]
    },
    {
      "cell_type": "code",
      "metadata": {
        "colab": {
          "base_uri": "https://localhost:8080/",
          "height": 282
        },
        "id": "W4I1yE1tsxOw",
        "outputId": "700217f7-59f5-41bb-8c6e-dee470afc162"
      },
      "source": [
        "%matplotlib inline\n",
        "df.Salary.plot(kind=\"hist\")"
      ],
      "execution_count": null,
      "outputs": [
        {
          "output_type": "execute_result",
          "data": {
            "text/plain": [
              "<matplotlib.axes._subplots.AxesSubplot at 0x7f38d56dbb50>"
            ]
          },
          "metadata": {
            "tags": []
          },
          "execution_count": 67
        },
        {
          "output_type": "display_data",
          "data": {
            "image/png": "[encoded data removed]",
            "text/plain": [
              "<Figure size 432x288 with 1 Axes>"
            ]
          },
          "metadata": {
            "tags": [],
            "needs_background": "light"
          }
        }
      ]
    },
    {
      "cell_type": "markdown",
      "metadata": {
        "id": "P1hIhCcGsxOw"
      },
      "source": [
        "Draw the pie chart for place and Company"
      ]
    },
    {
      "cell_type": "code",
      "metadata": {
        "colab": {
          "base_uri": "https://localhost:8080/",
          "height": 265
        },
        "id": "_ajoqQN3sxOx",
        "outputId": "488c8c7a-62a2-4a15-c72a-1463c867bbca"
      },
      "source": [
        "df.City.value_counts(dropna=False).plot(kind=\"pie\")"
      ],
      "execution_count": null,
      "outputs": [
        {
          "output_type": "execute_result",
          "data": {
            "text/plain": [
              "<matplotlib.axes._subplots.AxesSubplot at 0x7f38d517b490>"
            ]
          },
          "metadata": {
            "tags": []
          },
          "execution_count": 73
        },
        {
          "output_type": "display_data",
          "data": {
            "image/png": "[encoded data removed]",
            "text/plain": [
              "<Figure size 432x288 with 1 Axes>"
            ]
          },
          "metadata": {
            "tags": []
          }
        }
      ]
    },
    {
      "cell_type": "code",
      "metadata": {
        "colab": {
          "base_uri": "https://localhost:8080/",
          "height": 265
        },
        "id": "n1rflifbsxOx",
        "outputId": "500ccb12-1664-45db-e662-ba271196da2e"
      },
      "source": [
        "df.Company.value_counts().plot(kind=\"pie\")"
      ],
      "execution_count": null,
      "outputs": [
        {
          "output_type": "execute_result",
          "data": {
            "text/plain": [
              "<matplotlib.axes._subplots.AxesSubplot at 0x7f38d51af150>"
            ]
          },
          "metadata": {
            "tags": []
          },
          "execution_count": 69
        },
        {
          "output_type": "display_data",
          "data": {
            "image/png": "[encoded data removed]",
            "text/plain": [
              "<Figure size 432x288 with 1 Axes>"
            ]
          },
          "metadata": {
            "tags": []
          }
        }
      ]
    },
    {
      "cell_type": "code",
      "metadata": {
        "colab": {
          "base_uri": "https://localhost:8080/"
        },
        "id": "bGXSrOGSsxOx",
        "outputId": "7c814186-af87-49b1-9247-97af2c216716"
      },
      "source": [
        "df.columns"
      ],
      "execution_count": null,
      "outputs": [
        {
          "output_type": "execute_result",
          "data": {
            "text/plain": [
              "Index(['Company', 'Age', 'Salary', 'City', 'Gender'], dtype='object')"
            ]
          },
          "metadata": {
            "tags": []
          },
          "execution_count": 70
        }
      ]
    },
    {
      "cell_type": "markdown",
      "metadata": {
        "id": "LIHnfi9bsxOy"
      },
      "source": [
        "Find the mean, count, median of salary with repective to the place"
      ]
    },
    {
      "cell_type": "code",
      "metadata": {
        "colab": {
          "base_uri": "https://localhost:8080/",
          "height": 423
        },
        "id": "zCi-WKDxsxOy",
        "outputId": "d949161f-1f4f-44fb-c048-719a27821843"
      },
      "source": [
        "df.groupby(\"City\").Salary.agg([\"mean\",\"median\",\"count\"])"
      ],
      "execution_count": null,
      "outputs": [
        {
          "output_type": "execute_result",
          "data": {
            "text/html": [
              "<div>\n",
              "<style scoped>\n",
              "    .dataframe tbody tr th:only-of-type {\n",
              "        vertical-align: middle;\n",
              "    }\n",
              "\n",
              "    .dataframe tbody tr th {\n",
              "        vertical-align: top;\n",
              "    }\n",
              "\n",
              "    .dataframe thead th {\n",
              "        text-align: right;\n",
              "    }\n",
              "</style>\n",
              "<table border=\"1\" class=\"dataframe\">\n",
              "  <thead>\n",
              "    <tr style=\"text-align: right;\">\n",
              "      <th></th>\n",
              "      <th>mean</th>\n",
              "      <th>median</th>\n",
              "      <th>count</th>\n",
              "    </tr>\n",
              "    <tr>\n",
              "      <th>City</th>\n",
              "      <th></th>\n",
              "      <th></th>\n",
              "      <th></th>\n",
              "    </tr>\n",
              "  </thead>\n",
              "  <tbody>\n",
              "    <tr>\n",
              "      <th>Bhopal</th>\n",
              "      <td>7000.000000</td>\n",
              "      <td>7000.0</td>\n",
              "      <td>1</td>\n",
              "    </tr>\n",
              "    <tr>\n",
              "      <th>Calcutta</th>\n",
              "      <td>5115.400000</td>\n",
              "      <td>4824.0</td>\n",
              "      <td>25</td>\n",
              "    </tr>\n",
              "    <tr>\n",
              "      <th>Chennai</th>\n",
              "      <td>5824.200000</td>\n",
              "      <td>5917.5</td>\n",
              "      <td>10</td>\n",
              "    </tr>\n",
              "    <tr>\n",
              "      <th>Cochin</th>\n",
              "      <td>5053.000000</td>\n",
              "      <td>5017.0</td>\n",
              "      <td>12</td>\n",
              "    </tr>\n",
              "    <tr>\n",
              "      <th>Delhi</th>\n",
              "      <td>4925.545455</td>\n",
              "      <td>4034.0</td>\n",
              "      <td>11</td>\n",
              "    </tr>\n",
              "    <tr>\n",
              "      <th>Hyderabad</th>\n",
              "      <td>4382.833333</td>\n",
              "      <td>3609.0</td>\n",
              "      <td>6</td>\n",
              "    </tr>\n",
              "    <tr>\n",
              "      <th>Mumbai</th>\n",
              "      <td>4895.269231</td>\n",
              "      <td>4429.0</td>\n",
              "      <td>26</td>\n",
              "    </tr>\n",
              "    <tr>\n",
              "      <th>Nagpur</th>\n",
              "      <td>8000.000000</td>\n",
              "      <td>8000.0</td>\n",
              "      <td>1</td>\n",
              "    </tr>\n",
              "    <tr>\n",
              "      <th>Noida</th>\n",
              "      <td>4387.000000</td>\n",
              "      <td>4000.0</td>\n",
              "      <td>7</td>\n",
              "    </tr>\n",
              "    <tr>\n",
              "      <th>Podicherry</th>\n",
              "      <td>6157.000000</td>\n",
              "      <td>6157.0</td>\n",
              "      <td>2</td>\n",
              "    </tr>\n",
              "    <tr>\n",
              "      <th>Pune</th>\n",
              "      <td>9000.000000</td>\n",
              "      <td>9000.0</td>\n",
              "      <td>1</td>\n",
              "    </tr>\n",
              "  </tbody>\n",
              "</table>\n",
              "</div>"
            ],
            "text/plain": [
              "                   mean  median  count\n",
              "City                                  \n",
              "Bhopal      7000.000000  7000.0      1\n",
              "Calcutta    5115.400000  4824.0     25\n",
              "Chennai     5824.200000  5917.5     10\n",
              "Cochin      5053.000000  5017.0     12\n",
              "Delhi       4925.545455  4034.0     11\n",
              "Hyderabad   4382.833333  3609.0      6\n",
              "Mumbai      4895.269231  4429.0     26\n",
              "Nagpur      8000.000000  8000.0      1\n",
              "Noida       4387.000000  4000.0      7\n",
              "Podicherry  6157.000000  6157.0      2\n",
              "Pune        9000.000000  9000.0      1"
            ]
          },
          "metadata": {
            "tags": []
          },
          "execution_count": 71
        }
      ]
    },
    {
      "cell_type": "code",
      "metadata": {
        "colab": {
          "base_uri": "https://localhost:8080/",
          "height": 423
        },
        "id": "nHSFLlCosxOz",
        "outputId": "69dd6e35-cd6c-4a33-a7f0-fac5201154b2"
      },
      "source": [
        "df.groupby(\"City\").Salary.agg([\"mean\",\"count\",\"median\"])"
      ],
      "execution_count": null,
      "outputs": [
        {
          "output_type": "execute_result",
          "data": {
            "text/html": [
              "<div>\n",
              "<style scoped>\n",
              "    .dataframe tbody tr th:only-of-type {\n",
              "        vertical-align: middle;\n",
              "    }\n",
              "\n",
              "    .dataframe tbody tr th {\n",
              "        vertical-align: top;\n",
              "    }\n",
              "\n",
              "    .dataframe thead th {\n",
              "        text-align: right;\n",
              "    }\n",
              "</style>\n",
              "<table border=\"1\" class=\"dataframe\">\n",
              "  <thead>\n",
              "    <tr style=\"text-align: right;\">\n",
              "      <th></th>\n",
              "      <th>mean</th>\n",
              "      <th>count</th>\n",
              "      <th>median</th>\n",
              "    </tr>\n",
              "    <tr>\n",
              "      <th>City</th>\n",
              "      <th></th>\n",
              "      <th></th>\n",
              "      <th></th>\n",
              "    </tr>\n",
              "  </thead>\n",
              "  <tbody>\n",
              "    <tr>\n",
              "      <th>Bhopal</th>\n",
              "      <td>7000.000000</td>\n",
              "      <td>1</td>\n",
              "      <td>7000.0</td>\n",
              "    </tr>\n",
              "    <tr>\n",
              "      <th>Calcutta</th>\n",
              "      <td>5115.400000</td>\n",
              "      <td>25</td>\n",
              "      <td>4824.0</td>\n",
              "    </tr>\n",
              "    <tr>\n",
              "      <th>Chennai</th>\n",
              "      <td>5824.200000</td>\n",
              "      <td>10</td>\n",
              "      <td>5917.5</td>\n",
              "    </tr>\n",
              "    <tr>\n",
              "      <th>Cochin</th>\n",
              "      <td>5053.000000</td>\n",
              "      <td>12</td>\n",
              "      <td>5017.0</td>\n",
              "    </tr>\n",
              "    <tr>\n",
              "      <th>Delhi</th>\n",
              "      <td>4925.545455</td>\n",
              "      <td>11</td>\n",
              "      <td>4034.0</td>\n",
              "    </tr>\n",
              "    <tr>\n",
              "      <th>Hyderabad</th>\n",
              "      <td>4382.833333</td>\n",
              "      <td>6</td>\n",
              "      <td>3609.0</td>\n",
              "    </tr>\n",
              "    <tr>\n",
              "      <th>Mumbai</th>\n",
              "      <td>4895.269231</td>\n",
              "      <td>26</td>\n",
              "      <td>4429.0</td>\n",
              "    </tr>\n",
              "    <tr>\n",
              "      <th>Nagpur</th>\n",
              "      <td>8000.000000</td>\n",
              "      <td>1</td>\n",
              "      <td>8000.0</td>\n",
              "    </tr>\n",
              "    <tr>\n",
              "      <th>Noida</th>\n",
              "      <td>4387.000000</td>\n",
              "      <td>7</td>\n",
              "      <td>4000.0</td>\n",
              "    </tr>\n",
              "    <tr>\n",
              "      <th>Podicherry</th>\n",
              "      <td>6157.000000</td>\n",
              "      <td>2</td>\n",
              "      <td>6157.0</td>\n",
              "    </tr>\n",
              "    <tr>\n",
              "      <th>Pune</th>\n",
              "      <td>9000.000000</td>\n",
              "      <td>1</td>\n",
              "      <td>9000.0</td>\n",
              "    </tr>\n",
              "  </tbody>\n",
              "</table>\n",
              "</div>"
            ],
            "text/plain": [
              "                   mean  count  median\n",
              "City                                  \n",
              "Bhopal      7000.000000      1  7000.0\n",
              "Calcutta    5115.400000     25  4824.0\n",
              "Chennai     5824.200000     10  5917.5\n",
              "Cochin      5053.000000     12  5017.0\n",
              "Delhi       4925.545455     11  4034.0\n",
              "Hyderabad   4382.833333      6  3609.0\n",
              "Mumbai      4895.269231     26  4429.0\n",
              "Nagpur      8000.000000      1  8000.0\n",
              "Noida       4387.000000      7  4000.0\n",
              "Podicherry  6157.000000      2  6157.0\n",
              "Pune        9000.000000      1  9000.0"
            ]
          },
          "metadata": {
            "tags": []
          },
          "execution_count": 72
        }
      ]
    },
    {
      "cell_type": "markdown",
      "metadata": {
        "id": "ed-HvP7zsxOz"
      },
      "source": [
        "Find the mean age with repective to the Company"
      ]
    },
    {
      "cell_type": "code",
      "metadata": {
        "id": "GPMcd8COsxO0"
      },
      "source": [
        "df.groupby(\"Company\").Age.mean()"
      ],
      "execution_count": null,
      "outputs": []
    },
    {
      "cell_type": "code",
      "metadata": {
        "id": "dEwusqMtsxO0"
      },
      "source": [
        "df.dropna(inplace=True)"
      ],
      "execution_count": null,
      "outputs": []
    },
    {
      "cell_type": "code",
      "metadata": {
        "id": "vIeVyVKMsxO0"
      },
      "source": [
        "df.head()"
      ],
      "execution_count": null,
      "outputs": []
    },
    {
      "cell_type": "code",
      "metadata": {
        "id": "7NKMYVM4sxO1"
      },
      "source": [
        "df.head()"
      ],
      "execution_count": null,
      "outputs": []
    },
    {
      "cell_type": "code",
      "metadata": {
        "id": "NlB7xUQcsxO1"
      },
      "source": [
        "df.isna().sum()"
      ],
      "execution_count": null,
      "outputs": []
    },
    {
      "cell_type": "code",
      "metadata": {
        "id": "dO00rF36yd3u"
      },
      "source": [
        ""
      ],
      "execution_count": null,
      "outputs": []
    },
    {
      "cell_type": "code",
      "metadata": {
        "id": "BS1p50CpydwX"
      },
      "source": [
        "Category - Nominal:No-order, Ordinal - Order\n",
        "Numerical - Discrete: Countable, Continuous - Measuarable"
      ],
      "execution_count": null,
      "outputs": []
    },
    {
      "cell_type": "code",
      "metadata": {
        "id": "cZ9_i5pt3yPb"
      },
      "source": [
        "Label Encoding - Ordinal Data\n",
        "\n",
        "Very Good - 5\n",
        "Good - 4\n",
        "Ok - 3\n",
        "Worst - 2\n",
        "Very Worst - 1\n",
        "\n",
        "\n",
        "One hot Encoding - Nominal Data\n",
        "\n",
        "Company.        Company_TCS.    Company_CTS.      Company_Infosys\n",
        "TCS                   1               0                   0\n",
        "CTS                   0               1                   0\n",
        "Infosys               0               0                   1\n",
        "TCS                   1               0                   0\n",
        "Infosys               0               0                   1\n",
        "\n",
        "Other types of Encoding-\n",
        "Binary Encoding\n",
        "Hashing Encoding\n",
        "\n",
        "\n"
      ],
      "execution_count": null,
      "outputs": []
    },
    {
      "cell_type": "code",
      "metadata": {
        "colab": {
          "base_uri": "https://localhost:8080/",
          "height": 421
        },
        "id": "1NYUZZ4x1k5e",
        "outputId": "46ff5a9d-c767-4cd3-97b7-736f19f8874f"
      },
      "source": [
        "df"
      ],
      "execution_count": null,
      "outputs": [
        {
          "output_type": "execute_result",
          "data": {
            "text/html": [
              "<div>\n",
              "<style scoped>\n",
              "    .dataframe tbody tr th:only-of-type {\n",
              "        vertical-align: middle;\n",
              "    }\n",
              "\n",
              "    .dataframe tbody tr th {\n",
              "        vertical-align: top;\n",
              "    }\n",
              "\n",
              "    .dataframe thead th {\n",
              "        text-align: right;\n",
              "    }\n",
              "</style>\n",
              "<table border=\"1\" class=\"dataframe\">\n",
              "  <thead>\n",
              "    <tr style=\"text-align: right;\">\n",
              "      <th></th>\n",
              "      <th>Company</th>\n",
              "      <th>Age</th>\n",
              "      <th>Salary</th>\n",
              "      <th>City</th>\n",
              "      <th>Gender</th>\n",
              "    </tr>\n",
              "  </thead>\n",
              "  <tbody>\n",
              "    <tr>\n",
              "      <th>2</th>\n",
              "      <td>TCS</td>\n",
              "      <td>35.000000</td>\n",
              "      <td>2300.0</td>\n",
              "      <td>Calcutta</td>\n",
              "      <td>0.0</td>\n",
              "    </tr>\n",
              "    <tr>\n",
              "      <th>3</th>\n",
              "      <td>Infosys</td>\n",
              "      <td>40.000000</td>\n",
              "      <td>3000.0</td>\n",
              "      <td>Delhi</td>\n",
              "      <td>0.0</td>\n",
              "    </tr>\n",
              "    <tr>\n",
              "      <th>4</th>\n",
              "      <td>TCS</td>\n",
              "      <td>23.000000</td>\n",
              "      <td>4000.0</td>\n",
              "      <td>Mumbai</td>\n",
              "      <td>0.0</td>\n",
              "    </tr>\n",
              "    <tr>\n",
              "      <th>5</th>\n",
              "      <td>Infosys</td>\n",
              "      <td>32.292929</td>\n",
              "      <td>5000.0</td>\n",
              "      <td>Calcutta</td>\n",
              "      <td>0.0</td>\n",
              "    </tr>\n",
              "    <tr>\n",
              "      <th>6</th>\n",
              "      <td>TCS</td>\n",
              "      <td>32.292929</td>\n",
              "      <td>6000.0</td>\n",
              "      <td>Chennai</td>\n",
              "      <td>1.0</td>\n",
              "    </tr>\n",
              "    <tr>\n",
              "      <th>...</th>\n",
              "      <td>...</td>\n",
              "      <td>...</td>\n",
              "      <td>...</td>\n",
              "      <td>...</td>\n",
              "      <td>...</td>\n",
              "    </tr>\n",
              "    <tr>\n",
              "      <th>142</th>\n",
              "      <td>Infosys</td>\n",
              "      <td>22.000000</td>\n",
              "      <td>8202.0</td>\n",
              "      <td>Mumbai</td>\n",
              "      <td>0.0</td>\n",
              "    </tr>\n",
              "    <tr>\n",
              "      <th>143</th>\n",
              "      <td>TCS</td>\n",
              "      <td>33.000000</td>\n",
              "      <td>9024.0</td>\n",
              "      <td>Calcutta</td>\n",
              "      <td>1.0</td>\n",
              "    </tr>\n",
              "    <tr>\n",
              "      <th>145</th>\n",
              "      <td>Infosys</td>\n",
              "      <td>44.000000</td>\n",
              "      <td>4034.0</td>\n",
              "      <td>Delhi</td>\n",
              "      <td>1.0</td>\n",
              "    </tr>\n",
              "    <tr>\n",
              "      <th>146</th>\n",
              "      <td>TCS</td>\n",
              "      <td>33.000000</td>\n",
              "      <td>5034.0</td>\n",
              "      <td>Mumbai</td>\n",
              "      <td>1.0</td>\n",
              "    </tr>\n",
              "    <tr>\n",
              "      <th>147</th>\n",
              "      <td>Infosys</td>\n",
              "      <td>22.000000</td>\n",
              "      <td>8202.0</td>\n",
              "      <td>Cochin</td>\n",
              "      <td>0.0</td>\n",
              "    </tr>\n",
              "  </tbody>\n",
              "</table>\n",
              "<p>115 rows × 5 columns</p>\n",
              "</div>"
            ],
            "text/plain": [
              "     Company        Age  Salary      City  Gender\n",
              "2        TCS  35.000000  2300.0  Calcutta     0.0\n",
              "3    Infosys  40.000000  3000.0     Delhi     0.0\n",
              "4        TCS  23.000000  4000.0    Mumbai     0.0\n",
              "5    Infosys  32.292929  5000.0  Calcutta     0.0\n",
              "6        TCS  32.292929  6000.0   Chennai     1.0\n",
              "..       ...        ...     ...       ...     ...\n",
              "142  Infosys  22.000000  8202.0    Mumbai     0.0\n",
              "143      TCS  33.000000  9024.0  Calcutta     1.0\n",
              "145  Infosys  44.000000  4034.0     Delhi     1.0\n",
              "146      TCS  33.000000  5034.0    Mumbai     1.0\n",
              "147  Infosys  22.000000  8202.0    Cochin     0.0\n",
              "\n",
              "[115 rows x 5 columns]"
            ]
          },
          "metadata": {
            "tags": []
          },
          "execution_count": 74
        }
      ]
    },
    {
      "cell_type": "code",
      "metadata": {
        "colab": {
          "base_uri": "https://localhost:8080/"
        },
        "id": "rqSQ_Fgp9lHS",
        "outputId": "3f1e2348-393d-4bf1-afb3-e7add88e8750"
      },
      "source": [
        "df.columns"
      ],
      "execution_count": null,
      "outputs": [
        {
          "output_type": "execute_result",
          "data": {
            "text/plain": [
              "Index(['Company', 'Age', 'Salary', 'City', 'Gender'], dtype='object')"
            ]
          },
          "metadata": {
            "tags": []
          },
          "execution_count": 75
        }
      ]
    },
    {
      "cell_type": "code",
      "metadata": {
        "id": "ry4h9Fr99lEU"
      },
      "source": [
        "import numpy as np\n",
        "numeric_columns = df.select_dtypes(include=np.number).columns"
      ],
      "execution_count": null,
      "outputs": []
    },
    {
      "cell_type": "code",
      "metadata": {
        "id": "ilhlGeXo9k_d"
      },
      "source": [
        "category_columns = df.select_dtypes(exclude=np.number).columns"
      ],
      "execution_count": null,
      "outputs": []
    },
    {
      "cell_type": "code",
      "metadata": {
        "colab": {
          "base_uri": "https://localhost:8080/"
        },
        "id": "aG-K_dBG-vBE",
        "outputId": "0b6221b8-1de1-4ca1-fd3f-343dc6314481"
      },
      "source": [
        "df[\"Company\"].nunique()"
      ],
      "execution_count": null,
      "outputs": [
        {
          "output_type": "execute_result",
          "data": {
            "text/plain": [
              "3"
            ]
          },
          "metadata": {
            "tags": []
          },
          "execution_count": 85
        }
      ]
    },
    {
      "cell_type": "code",
      "metadata": {
        "colab": {
          "base_uri": "https://localhost:8080/"
        },
        "id": "3pWztEiw-0ND",
        "outputId": "de6c3852-ecfa-4096-973b-f796487dea45"
      },
      "source": [
        "df[\"City\"].nunique()"
      ],
      "execution_count": null,
      "outputs": [
        {
          "output_type": "execute_result",
          "data": {
            "text/plain": [
              "11"
            ]
          },
          "metadata": {
            "tags": []
          },
          "execution_count": 86
        }
      ]
    },
    {
      "cell_type": "code",
      "metadata": {
        "id": "UMVoYkUq9k7k"
      },
      "source": [
        "category_preproceed = pd.get_dummies(df[category_columns])"
      ],
      "execution_count": null,
      "outputs": []
    },
    {
      "cell_type": "code",
      "metadata": {
        "id": "BppV4HBv9k4n"
      },
      "source": [
        "from sklearn.preprocessing import MinMaxScaler, StandardScaler"
      ],
      "execution_count": null,
      "outputs": []
    },
    {
      "cell_type": "code",
      "metadata": {
        "colab": {
          "base_uri": "https://localhost:8080/"
        },
        "id": "iwephXkLAYzl",
        "outputId": "6f7fd599-7fb0-4f81-eec6-ea68c83e2d78"
      },
      "source": [
        "df[\"Age\"].describe()"
      ],
      "execution_count": null,
      "outputs": [
        {
          "output_type": "execute_result",
          "data": {
            "text/plain": [
              "count    115.000000\n",
              "mean      32.292929\n",
              "std        8.446169\n",
              "min       17.000000\n",
              "25%       23.500000\n",
              "50%       32.292929\n",
              "75%       36.500000\n",
              "max       54.000000\n",
              "Name: Age, dtype: float64"
            ]
          },
          "metadata": {
            "tags": []
          },
          "execution_count": 96
        }
      ]
    },
    {
      "cell_type": "code",
      "metadata": {
        "id": "e5vPvT549k0W"
      },
      "source": [
        "min_max = MinMaxScaler()"
      ],
      "execution_count": null,
      "outputs": []
    },
    {
      "cell_type": "code",
      "metadata": {
        "colab": {
          "base_uri": "https://localhost:8080/"
        },
        "id": "l0Ugr2Vd9kvo",
        "outputId": "4e77d040-fbe4-444f-8dc4-5bca9a22d9b9"
      },
      "source": [
        "min_max.fit_transform(df[[\"Age\"]])"
      ],
      "execution_count": null,
      "outputs": [
        {
          "output_type": "execute_result",
          "data": {
            "text/plain": [
              "array([[0.48648649],\n",
              "       [0.62162162],\n",
              "       [0.16216216],\n",
              "       [0.41332241],\n",
              "       [0.41332241],\n",
              "       [0.16216216],\n",
              "       [0.45945946],\n",
              "       [0.75675676],\n",
              "       [0.45945946],\n",
              "       [0.02702703],\n",
              "       [0.62162162],\n",
              "       [0.16216216],\n",
              "       [0.16216216],\n",
              "       [0.45945946],\n",
              "       [0.54054054],\n",
              "       [0.89189189],\n",
              "       [0.10810811],\n",
              "       [0.41332241],\n",
              "       [0.41332241],\n",
              "       [0.16216216],\n",
              "       [0.45945946],\n",
              "       [0.75675676],\n",
              "       [0.16216216],\n",
              "       [0.48648649],\n",
              "       [0.78378378],\n",
              "       [0.08108108],\n",
              "       [0.75675676],\n",
              "       [0.51351351],\n",
              "       [0.24324324],\n",
              "       [0.48648649],\n",
              "       [0.45945946],\n",
              "       [0.64864865],\n",
              "       [0.18918919],\n",
              "       [0.41332241],\n",
              "       [0.41332241],\n",
              "       [0.21621622],\n",
              "       [0.48648649],\n",
              "       [0.78378378],\n",
              "       [0.40540541],\n",
              "       [0.05405405],\n",
              "       [0.64864865],\n",
              "       [0.18918919],\n",
              "       [0.10810811],\n",
              "       [0.48648649],\n",
              "       [0.10810811],\n",
              "       [0.40540541],\n",
              "       [0.56756757],\n",
              "       [0.91891892],\n",
              "       [0.16216216],\n",
              "       [0.41332241],\n",
              "       [0.41332241],\n",
              "       [0.21621622],\n",
              "       [0.51351351],\n",
              "       [0.64864865],\n",
              "       [0.21621622],\n",
              "       [0.37837838],\n",
              "       [0.10810811],\n",
              "       [0.7027027 ],\n",
              "       [0.40540541],\n",
              "       [0.10810811],\n",
              "       [0.45945946],\n",
              "       [0.54054054],\n",
              "       [0.72972973],\n",
              "       [0.40540541],\n",
              "       [0.41332241],\n",
              "       [0.41332241],\n",
              "       [0.24324324],\n",
              "       [0.40540541],\n",
              "       [0.7027027 ],\n",
              "       [0.43243243],\n",
              "       [0.        ],\n",
              "       [0.64864865],\n",
              "       [0.10810811],\n",
              "       [0.51351351],\n",
              "       [1.        ],\n",
              "       [0.13513514],\n",
              "       [0.41332241],\n",
              "       [0.41332241],\n",
              "       [0.13513514],\n",
              "       [0.43243243],\n",
              "       [0.72972973],\n",
              "       [0.13513514],\n",
              "       [0.72972973],\n",
              "       [0.43243243],\n",
              "       [0.13513514],\n",
              "       [0.43243243],\n",
              "       [0.13513514],\n",
              "       [0.41332241],\n",
              "       [0.41332241],\n",
              "       [0.13513514],\n",
              "       [0.43243243],\n",
              "       [0.72972973],\n",
              "       [0.43243243],\n",
              "       [0.72972973],\n",
              "       [0.41332241],\n",
              "       [0.13513514],\n",
              "       [0.43243243],\n",
              "       [0.08108108],\n",
              "       [0.35135135],\n",
              "       [0.43243243],\n",
              "       [0.89189189],\n",
              "       [0.41332241],\n",
              "       [0.13513514],\n",
              "       [0.37837838],\n",
              "       [0.62162162],\n",
              "       [0.37837838],\n",
              "       [0.72972973],\n",
              "       [0.13513514],\n",
              "       [0.72972973],\n",
              "       [0.43243243],\n",
              "       [0.13513514],\n",
              "       [0.43243243],\n",
              "       [0.72972973],\n",
              "       [0.43243243],\n",
              "       [0.13513514]])"
            ]
          },
          "metadata": {
            "tags": []
          },
          "execution_count": 92
        }
      ]
    },
    {
      "cell_type": "code",
      "metadata": {
        "id": "W31PVxkX_-ZW"
      },
      "source": [
        "stand_scale = StandardScaler()"
      ],
      "execution_count": null,
      "outputs": []
    },
    {
      "cell_type": "code",
      "metadata": {
        "colab": {
          "base_uri": "https://localhost:8080/"
        },
        "id": "vm5LwmgX9ksj",
        "outputId": "0cfee3d9-117c-47d5-884d-270de7c2eede"
      },
      "source": [
        "stand_scale.fit_transform(df[[\"Age\"]])"
      ],
      "execution_count": null,
      "outputs": [
        {
          "output_type": "execute_result",
          "data": {
            "text/plain": [
              "array([[ 3.21911394e-01],\n",
              "       [ 9.16486543e-01],\n",
              "       [-1.10506896e+00],\n",
              "       [ 8.44942107e-16],\n",
              "       [ 8.44942107e-16],\n",
              "       [-1.10506896e+00],\n",
              "       [ 2.02996364e-01],\n",
              "       [ 1.51106169e+00],\n",
              "       [ 2.02996364e-01],\n",
              "       [-1.69964411e+00],\n",
              "       [ 9.16486543e-01],\n",
              "       [-1.10506896e+00],\n",
              "       [-1.10506896e+00],\n",
              "       [ 2.02996364e-01],\n",
              "       [ 5.59741454e-01],\n",
              "       [ 2.10563684e+00],\n",
              "       [-1.34289902e+00],\n",
              "       [ 8.44942107e-16],\n",
              "       [ 8.44942107e-16],\n",
              "       [-1.10506896e+00],\n",
              "       [ 2.02996364e-01],\n",
              "       [ 1.51106169e+00],\n",
              "       [-1.10506896e+00],\n",
              "       [ 3.21911394e-01],\n",
              "       [ 1.62997672e+00],\n",
              "       [-1.46181405e+00],\n",
              "       [ 1.51106169e+00],\n",
              "       [ 4.40826424e-01],\n",
              "       [-7.48323875e-01],\n",
              "       [ 3.21911394e-01],\n",
              "       [ 2.02996364e-01],\n",
              "       [ 1.03540157e+00],\n",
              "       [-9.86153935e-01],\n",
              "       [ 8.44942107e-16],\n",
              "       [ 8.44942107e-16],\n",
              "       [-8.67238905e-01],\n",
              "       [ 3.21911394e-01],\n",
              "       [ 1.62997672e+00],\n",
              "       [-3.48336956e-02],\n",
              "       [-1.58072908e+00],\n",
              "       [ 1.03540157e+00],\n",
              "       [-9.86153935e-01],\n",
              "       [-1.34289902e+00],\n",
              "       [ 3.21911394e-01],\n",
              "       [-1.34289902e+00],\n",
              "       [-3.48336956e-02],\n",
              "       [ 6.78656484e-01],\n",
              "       [ 2.22455187e+00],\n",
              "       [-1.10506896e+00],\n",
              "       [ 8.44942107e-16],\n",
              "       [ 8.44942107e-16],\n",
              "       [-8.67238905e-01],\n",
              "       [ 4.40826424e-01],\n",
              "       [ 1.03540157e+00],\n",
              "       [-8.67238905e-01],\n",
              "       [-1.53748726e-01],\n",
              "       [-1.34289902e+00],\n",
              "       [ 1.27323163e+00],\n",
              "       [-3.48336956e-02],\n",
              "       [-1.34289902e+00],\n",
              "       [ 2.02996364e-01],\n",
              "       [ 5.59741454e-01],\n",
              "       [ 1.39214666e+00],\n",
              "       [-3.48336956e-02],\n",
              "       [ 8.44942107e-16],\n",
              "       [ 8.44942107e-16],\n",
              "       [-7.48323875e-01],\n",
              "       [-3.48336956e-02],\n",
              "       [ 1.27323163e+00],\n",
              "       [ 8.40813343e-02],\n",
              "       [-1.81855914e+00],\n",
              "       [ 1.03540157e+00],\n",
              "       [-1.34289902e+00],\n",
              "       [ 4.40826424e-01],\n",
              "       [ 2.58129696e+00],\n",
              "       [-1.22398399e+00],\n",
              "       [ 8.44942107e-16],\n",
              "       [ 8.44942107e-16],\n",
              "       [-1.22398399e+00],\n",
              "       [ 8.40813343e-02],\n",
              "       [ 1.39214666e+00],\n",
              "       [-1.22398399e+00],\n",
              "       [ 1.39214666e+00],\n",
              "       [ 8.40813343e-02],\n",
              "       [-1.22398399e+00],\n",
              "       [ 8.40813343e-02],\n",
              "       [-1.22398399e+00],\n",
              "       [ 8.44942107e-16],\n",
              "       [ 8.44942107e-16],\n",
              "       [-1.22398399e+00],\n",
              "       [ 8.40813343e-02],\n",
              "       [ 1.39214666e+00],\n",
              "       [ 8.40813343e-02],\n",
              "       [ 1.39214666e+00],\n",
              "       [ 8.44942107e-16],\n",
              "       [-1.22398399e+00],\n",
              "       [ 8.40813343e-02],\n",
              "       [-1.46181405e+00],\n",
              "       [-2.72663755e-01],\n",
              "       [ 8.40813343e-02],\n",
              "       [ 2.10563684e+00],\n",
              "       [ 8.44942107e-16],\n",
              "       [-1.22398399e+00],\n",
              "       [-1.53748726e-01],\n",
              "       [ 9.16486543e-01],\n",
              "       [-1.53748726e-01],\n",
              "       [ 1.39214666e+00],\n",
              "       [-1.22398399e+00],\n",
              "       [ 1.39214666e+00],\n",
              "       [ 8.40813343e-02],\n",
              "       [-1.22398399e+00],\n",
              "       [ 8.40813343e-02],\n",
              "       [ 1.39214666e+00],\n",
              "       [ 8.40813343e-02],\n",
              "       [-1.22398399e+00]])"
            ]
          },
          "metadata": {
            "tags": []
          },
          "execution_count": 94
        }
      ]
    },
    {
      "cell_type": "code",
      "metadata": {
        "id": "JNSbReHG9kpt"
      },
      "source": [
        "preprocesed_numeric = pd.DataFrame(min_max.fit_transform(df[numeric_columns]), columns=numeric_columns)"
      ],
      "execution_count": null,
      "outputs": []
    },
    {
      "cell_type": "code",
      "metadata": {
        "colab": {
          "base_uri": "https://localhost:8080/"
        },
        "id": "vYhQboHWCOHc",
        "outputId": "d955ea55-7b91-409d-ce10-c25484fefd5a"
      },
      "source": [
        "category_preproceed.shape"
      ],
      "execution_count": null,
      "outputs": [
        {
          "output_type": "execute_result",
          "data": {
            "text/plain": [
              "(115, 14)"
            ]
          },
          "metadata": {
            "tags": []
          },
          "execution_count": 108
        }
      ]
    },
    {
      "cell_type": "code",
      "metadata": {
        "id": "MJOYmgclChZR"
      },
      "source": [
        "category_preproceed = category_preproceed.reset_index().drop(columns = ['index'])"
      ],
      "execution_count": null,
      "outputs": []
    },
    {
      "cell_type": "code",
      "metadata": {
        "colab": {
          "base_uri": "https://localhost:8080/"
        },
        "id": "CLqs22FzCQaM",
        "outputId": "664d3742-39b4-43f0-a49a-a30e090a7a1a"
      },
      "source": [
        "preprocesed_numeric.shape"
      ],
      "execution_count": null,
      "outputs": [
        {
          "output_type": "execute_result",
          "data": {
            "text/plain": [
              "(115, 3)"
            ]
          },
          "metadata": {
            "tags": []
          },
          "execution_count": 109
        }
      ]
    },
    {
      "cell_type": "code",
      "metadata": {
        "id": "rJYdgfA_CysJ"
      },
      "source": [
        "preprocesed_numeric = preprocesed_numeric.reset_index().drop(columns = ['index'])"
      ],
      "execution_count": null,
      "outputs": []
    },
    {
      "cell_type": "code",
      "metadata": {
        "id": "rs1N5NiH9klK"
      },
      "source": [
        "data_preprocessed = pd.concat([category_preproceed,preprocesed_numeric], axis = 1)"
      ],
      "execution_count": null,
      "outputs": []
    },
    {
      "cell_type": "code",
      "metadata": {
        "id": "fM60yWE2ydTK"
      },
      "source": [
        ""
      ],
      "execution_count": null,
      "outputs": []
    },
    {
      "cell_type": "code",
      "metadata": {
        "id": "U0Yqc4aMydM7"
      },
      "source": [
        ""
      ],
      "execution_count": null,
      "outputs": []
    },
    {
      "cell_type": "code",
      "metadata": {
        "id": "laqzlt__sxO2"
      },
      "source": [
        "num_col = df.select_dtypes(include=np.number).columns"
      ],
      "execution_count": null,
      "outputs": []
    },
    {
      "cell_type": "code",
      "metadata": {
        "id": "FG8iPyv0sxO2"
      },
      "source": [
        "cat_col = df.select_dtypes(exclude=np.number).columns"
      ],
      "execution_count": null,
      "outputs": []
    },
    {
      "cell_type": "code",
      "metadata": {
        "id": "wMd6nyjusxO2"
      },
      "source": [
        "cat_col"
      ],
      "execution_count": null,
      "outputs": []
    },
    {
      "cell_type": "code",
      "metadata": {
        "scrolled": true,
        "id": "_pto0jjdsxO3"
      },
      "source": [
        "df[cat_col]"
      ],
      "execution_count": null,
      "outputs": []
    },
    {
      "cell_type": "code",
      "metadata": {
        "id": "mwFMrY5FsxO3"
      },
      "source": [
        "#One hot encoding\n",
        "encoded_cat_col = pd.get_dummies(df[cat_col])\n"
      ],
      "execution_count": null,
      "outputs": []
    },
    {
      "cell_type": "code",
      "metadata": {
        "scrolled": true,
        "id": "g5isxUK0sxO4"
      },
      "source": [
        "encoded_cat_col"
      ],
      "execution_count": null,
      "outputs": []
    },
    {
      "cell_type": "code",
      "metadata": {
        "id": "hULmzcc9sxO4"
      },
      "source": [
        "df_ready_model = pd.concat([df[num_col],encoded_cat_col], axis = 1)"
      ],
      "execution_count": null,
      "outputs": []
    },
    {
      "cell_type": "code",
      "metadata": {
        "id": "Q-8gqaa4sxO5"
      },
      "source": [
        "from sklearn.preprocessing import LabelEncoder\n",
        "label_encoder = LabelEncoder()\n",
        "for i in cat_col:\n",
        "    df[i] = label_encoder.fit_transform(df[i])"
      ],
      "execution_count": null,
      "outputs": []
    },
    {
      "cell_type": "code",
      "metadata": {
        "id": "OFm1qRcisxO5"
      },
      "source": [
        "df.City.value_counts()"
      ],
      "execution_count": null,
      "outputs": []
    },
    {
      "cell_type": "code",
      "metadata": {
        "id": "yf8tHN91sxO6"
      },
      "source": [
        "#Performng standard scaling\n",
        "from sklearn.preprocessing import StandardScaler\n",
        " \n",
        "std_scale = StandardScaler().fit(df)\n",
        "df_std = std_scale.transform(df)"
      ],
      "execution_count": null,
      "outputs": []
    },
    {
      "cell_type": "code",
      "metadata": {
        "id": "qTOS65RRsxO6"
      },
      "source": [
        "df_std"
      ],
      "execution_count": null,
      "outputs": []
    },
    {
      "cell_type": "code",
      "metadata": {
        "id": "UOsfU32xsxO7"
      },
      "source": [
        "#Performng standard scaling\n",
        "from sklearn.preprocessing import MinMaxScaler\n",
        "\n",
        "minmax_scale = MinMaxScaler().fit_transform(df)\n"
      ],
      "execution_count": null,
      "outputs": []
    },
    {
      "cell_type": "code",
      "metadata": {
        "id": "Rp1gk5KgsxO8"
      },
      "source": [
        "type(minmax_scale)"
      ],
      "execution_count": null,
      "outputs": []
    },
    {
      "cell_type": "code",
      "metadata": {
        "id": "h5lXj5uisxO8"
      },
      "source": [
        "pd.DataFrame(minmax_scale)"
      ],
      "execution_count": null,
      "outputs": []
    },
    {
      "cell_type": "code",
      "metadata": {
        "scrolled": true,
        "id": "c1o0w089sxO9"
      },
      "source": [
        "col = [\"Company\",\"City\"]\n",
        "onehot = pd.get_dummies(df[col])"
      ],
      "execution_count": null,
      "outputs": []
    },
    {
      "cell_type": "code",
      "metadata": {
        "scrolled": true,
        "id": "M21VmNLAsxO9"
      },
      "source": [
        "col=[\"Age\",\"Salary\",\"Gender\"]\n",
        "dataf = pd.concat([df[col],onehot],axis=1)"
      ],
      "execution_count": null,
      "outputs": []
    },
    {
      "cell_type": "code",
      "metadata": {
        "scrolled": true,
        "id": "CeHutpr1sxO9"
      },
      "source": [
        "dataf"
      ],
      "execution_count": null,
      "outputs": []
    },
    {
      "cell_type": "code",
      "metadata": {
        "id": "qJJA26lPsxO-"
      },
      "source": [
        ""
      ],
      "execution_count": null,
      "outputs": []
    },
    {
      "cell_type": "code",
      "metadata": {
        "id": "6RdTqVXUsxO-"
      },
      "source": [
        ""
      ],
      "execution_count": null,
      "outputs": []
    },
    {
      "cell_type": "code",
      "metadata": {
        "id": "pgnTFfW2sxO-"
      },
      "source": [
        ""
      ],
      "execution_count": null,
      "outputs": []
    },
    {
      "cell_type": "code",
      "metadata": {
        "id": "gyFyPapVsxO_"
      },
      "source": [
        ""
      ],
      "execution_count": null,
      "outputs": []
    },
    {
      "cell_type": "code",
      "metadata": {
        "scrolled": true,
        "id": "lVtyS5FqsxO_"
      },
      "source": [
        "y_test = y_test.astype('int')"
      ],
      "execution_count": null,
      "outputs": []
    },
    {
      "cell_type": "code",
      "metadata": {
        "id": "wStuQcqxsxO_"
      },
      "source": [
        "from sklearn.linear_model import LogisticRegression"
      ],
      "execution_count": null,
      "outputs": []
    },
    {
      "cell_type": "code",
      "metadata": {
        "id": "J9zZ1ejUsxPA"
      },
      "source": [
        ""
      ],
      "execution_count": null,
      "outputs": []
    },
    {
      "cell_type": "code",
      "metadata": {
        "id": "Hkh373q3sxPA"
      },
      "source": [
        ""
      ],
      "execution_count": null,
      "outputs": []
    },
    {
      "cell_type": "code",
      "metadata": {
        "id": "1k_S7JQbsxPA"
      },
      "source": [
        "model = LogisticRegression()\n",
        "\n",
        "model.fit(x_train[[\"Age\"]],y_train)"
      ],
      "execution_count": null,
      "outputs": []
    },
    {
      "cell_type": "code",
      "metadata": {
        "id": "hbfa2cg3sxPB"
      },
      "source": [
        "a = model.predict(x_train[[\"Age\"]])"
      ],
      "execution_count": null,
      "outputs": []
    },
    {
      "cell_type": "code",
      "metadata": {
        "id": "iRKUy_aXsxPB"
      },
      "source": [
        "from sklearn.metrics import confusion_matrix"
      ],
      "execution_count": null,
      "outputs": []
    },
    {
      "cell_type": "code",
      "metadata": {
        "id": "8ms7pZJ-sxPC"
      },
      "source": [
        "confusion_matrix(a,y_train)"
      ],
      "execution_count": null,
      "outputs": []
    },
    {
      "cell_type": "code",
      "metadata": {
        "id": "uCouuyTLsxPD"
      },
      "source": [
        ""
      ],
      "execution_count": null,
      "outputs": []
    }
  ]
}