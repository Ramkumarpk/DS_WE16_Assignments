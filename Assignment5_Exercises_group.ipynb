{
  "nbformat": 4,
  "nbformat_minor": 0,
  "metadata": {
    "kernelspec": {
      "display_name": "Python 2",
      "language": "python",
      "name": "python2"
    },
    "language_info": {
      "codemirror_mode": {
        "name": "ipython",
        "version": 2
      },
      "file_extension": ".py",
      "mimetype": "text/x-python",
      "name": "python",
      "nbconvert_exporter": "python",
      "pygments_lexer": "ipython2",
      "version": "2.7.11"
    },
    "colab": {
      "name": "Assignment5_Exercises_group.ipynb",
      "provenance": [],
      "collapsed_sections": [],
      "include_colab_link": true
    }
  },
  "cells": [
    {
      "cell_type": "markdown",
      "metadata": {
        "id": "view-in-github",
        "colab_type": "text"
      },
      "source": [
        "<a href=\"https://colab.research.google.com/github/Ramkumarpk/DS_WE16_Assignments/blob/main/Assignment5_Exercises_group.ipynb\" target=\"_parent\"><img src=\"https://colab.research.google.com/assets/colab-badge.svg\" alt=\"Open In Colab\"/></a>"
      ]
    },
    {
      "cell_type": "markdown",
      "metadata": {
        "id": "ZqDHXUj_QuTF"
      },
      "source": [
        "# Regiment"
      ]
    },
    {
      "cell_type": "markdown",
      "metadata": {
        "id": "5FBe1FVJQuTL"
      },
      "source": [
        "### Introduction:\n",
        "\n",
        "Special thanks to: http://chrisalbon.com/ for sharing the dataset and materials.\n",
        "\n",
        "### Step 1. Import the necessary libraries"
      ]
    },
    {
      "cell_type": "code",
      "metadata": {
        "id": "MlRBz-9CQuTM"
      },
      "source": [
        ""
      ],
      "execution_count": null,
      "outputs": []
    },
    {
      "cell_type": "markdown",
      "metadata": {
        "id": "kvOPAgnxQuTM"
      },
      "source": [
        "### Step 2. Create the DataFrame with the following values:"
      ]
    },
    {
      "cell_type": "code",
      "metadata": {
        "collapsed": true,
        "id": "0XhikUPuQuTN"
      },
      "source": [
        "raw_data = {'regiment': ['Nighthawks', 'Nighthawks', 'Nighthawks', 'Nighthawks', 'Dragoons', 'Dragoons', 'Dragoons', 'Dragoons', 'Scouts', 'Scouts', 'Scouts', 'Scouts'], \n",
        "        'company': ['1st', '1st', '2nd', '2nd', '1st', '1st', '2nd', '2nd','1st', '1st', '2nd', '2nd'], \n",
        "        'name': ['Miller', 'Jacobson', 'Ali', 'Milner', 'Cooze', 'Jacon', 'Ryaner', 'Sone', 'Sloan', 'Piger', 'Riani', 'Ali'], \n",
        "        'preTestScore': [4, 24, 31, 2, 3, 4, 24, 31, 2, 3, 2, 3],\n",
        "        'postTestScore': [25, 94, 57, 62, 70, 25, 94, 57, 62, 70, 62, 70]}"
      ],
      "execution_count": null,
      "outputs": []
    },
    {
      "cell_type": "markdown",
      "metadata": {
        "id": "sXpmhGMvQuTN"
      },
      "source": [
        "### Step 3. Assign it to a variable called regiment.\n",
        "#### Don't forget to name each column"
      ]
    },
    {
      "cell_type": "code",
      "metadata": {
        "id": "k98gEe5XQuTN"
      },
      "source": [
        ""
      ],
      "execution_count": null,
      "outputs": []
    },
    {
      "cell_type": "markdown",
      "metadata": {
        "id": "idCbwlGLQuTO"
      },
      "source": [
        "### Step 4. What is the mean preTestScore from the regiment Nighthawks?  "
      ]
    },
    {
      "cell_type": "code",
      "metadata": {
        "id": "sct28sLbQuTO"
      },
      "source": [
        ""
      ],
      "execution_count": null,
      "outputs": []
    },
    {
      "cell_type": "markdown",
      "metadata": {
        "id": "vmuWyjPfQuTO"
      },
      "source": [
        "### Step 5. Present general statistics by company"
      ]
    },
    {
      "cell_type": "code",
      "metadata": {
        "id": "bE8_xXs2QuTO"
      },
      "source": [
        ""
      ],
      "execution_count": null,
      "outputs": []
    },
    {
      "cell_type": "markdown",
      "metadata": {
        "id": "_bDiI8dRQuTP"
      },
      "source": [
        "### Step 6. What is the mean each company's preTestScore?"
      ]
    },
    {
      "cell_type": "code",
      "metadata": {
        "id": "CGzZqJ78QuTP"
      },
      "source": [
        ""
      ],
      "execution_count": null,
      "outputs": []
    },
    {
      "cell_type": "markdown",
      "metadata": {
        "id": "yAqkuewCQuTP"
      },
      "source": [
        "### Step 7. Present the mean preTestScores grouped by regiment and company"
      ]
    },
    {
      "cell_type": "code",
      "metadata": {
        "id": "GIbVawvfQuTP"
      },
      "source": [
        ""
      ],
      "execution_count": null,
      "outputs": []
    },
    {
      "cell_type": "markdown",
      "metadata": {
        "id": "BohxNs1_QuTP"
      },
      "source": [
        "### Step 8. Present the mean preTestScores grouped by regiment and company without heirarchical indexing"
      ]
    },
    {
      "cell_type": "code",
      "metadata": {
        "id": "lbV4hlQXQuTQ"
      },
      "source": [
        ""
      ],
      "execution_count": null,
      "outputs": []
    },
    {
      "cell_type": "markdown",
      "metadata": {
        "id": "I2VIsbw3QuTQ"
      },
      "source": [
        "### Step 9. Group the entire dataframe by regiment and company"
      ]
    },
    {
      "cell_type": "code",
      "metadata": {
        "id": "S8CFyGRtQuTQ"
      },
      "source": [
        ""
      ],
      "execution_count": null,
      "outputs": []
    },
    {
      "cell_type": "markdown",
      "metadata": {
        "id": "AQ2ppA6VQuTQ"
      },
      "source": [
        "### Step 10. What is the number of observations in each regiment and company"
      ]
    },
    {
      "cell_type": "code",
      "metadata": {
        "id": "NZ6VrL4lQuTR"
      },
      "source": [
        ""
      ],
      "execution_count": null,
      "outputs": []
    },
    {
      "cell_type": "markdown",
      "metadata": {
        "id": "A34mhfQ3QuTR"
      },
      "source": [
        "### Step 11. Iterate over a group and print the name and the whole data from the regiment"
      ]
    },
    {
      "cell_type": "code",
      "metadata": {
        "id": "Pp8_tM4ZQuTR"
      },
      "source": [
        ""
      ],
      "execution_count": null,
      "outputs": []
    }
  ]
}