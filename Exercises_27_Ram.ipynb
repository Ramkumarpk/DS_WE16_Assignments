{
  "nbformat": 4,
  "nbformat_minor": 0,
  "metadata": {
    "kernelspec": {
      "name": "python3",
      "display_name": "Python 3"
    },
    "colab": {
      "name": "Exercises_27_Ram.ipynb",
      "provenance": [],
      "collapsed_sections": [],
      "include_colab_link": true
    },
    "language_info": {
      "name": "python"
    }
  },
  "cells": [
    {
      "cell_type": "markdown",
      "metadata": {
        "id": "view-in-github",
        "colab_type": "text"
      },
      "source": [
        "<a href=\"https://colab.research.google.com/github/Ramkumarpk/DS_WE16_Assignments/blob/main/Exercises_27_Ram.ipynb\" target=\"_parent\"><img src=\"https://colab.research.google.com/assets/colab-badge.svg\" alt=\"Open In Colab\"/></a>"
      ]
    },
    {
      "cell_type": "markdown",
      "metadata": {
        "id": "lYIQukLk_v8e"
      },
      "source": [
        "# Investor - Flow of Funds - US"
      ]
    },
    {
      "cell_type": "markdown",
      "metadata": {
        "id": "iO2FK2AK_v8l"
      },
      "source": [
        "### Introduction:\n",
        "\n",
        "Special thanks to: https://github.com/rgrp for sharing the dataset.\n",
        "\n",
        "### Step 1. Import the necessary libraries"
      ]
    },
    {
      "cell_type": "code",
      "metadata": {
        "id": "W_SGRq3d_v8m"
      },
      "source": [
        "import pandas as pd"
      ],
      "execution_count": 1,
      "outputs": []
    },
    {
      "cell_type": "markdown",
      "metadata": {
        "id": "kkrPxpGf_v8m"
      },
      "source": [
        "### Step 2. Import the dataset from this [address](https://raw.githubusercontent.com/datasets/investor-flow-of-funds-us/master/data/weekly.csv). "
      ]
    },
    {
      "cell_type": "code",
      "metadata": {
        "id": "dUBeBu9ZA_VQ"
      },
      "source": [
        "inv=pd.read_csv(\"https://raw.githubusercontent.com/datasets/investor-flow-of-funds-us/master/data/weekly.csv\")"
      ],
      "execution_count": 3,
      "outputs": []
    },
    {
      "cell_type": "markdown",
      "metadata": {
        "id": "5L_jmAm6_v8m"
      },
      "source": [
        "### Step 3. Assign it to a variable called "
      ]
    },
    {
      "cell_type": "code",
      "metadata": {
        "colab": {
          "base_uri": "https://localhost:8080/",
          "height": 196
        },
        "id": "xFC6zGpe_v8n",
        "outputId": "be4f66c8-322b-47ed-e041-f6c3417042cd"
      },
      "source": [
        "inv.head()"
      ],
      "execution_count": 4,
      "outputs": [
        {
          "output_type": "execute_result",
          "data": {
            "text/html": [
              "<div>\n",
              "<style scoped>\n",
              "    .dataframe tbody tr th:only-of-type {\n",
              "        vertical-align: middle;\n",
              "    }\n",
              "\n",
              "    .dataframe tbody tr th {\n",
              "        vertical-align: top;\n",
              "    }\n",
              "\n",
              "    .dataframe thead th {\n",
              "        text-align: right;\n",
              "    }\n",
              "</style>\n",
              "<table border=\"1\" class=\"dataframe\">\n",
              "  <thead>\n",
              "    <tr style=\"text-align: right;\">\n",
              "      <th></th>\n",
              "      <th>Date</th>\n",
              "      <th>Total Equity</th>\n",
              "      <th>Domestic Equity</th>\n",
              "      <th>World Equity</th>\n",
              "      <th>Hybrid</th>\n",
              "      <th>Total Bond</th>\n",
              "      <th>Taxable Bond</th>\n",
              "      <th>Municipal Bond</th>\n",
              "      <th>Total</th>\n",
              "    </tr>\n",
              "  </thead>\n",
              "  <tbody>\n",
              "    <tr>\n",
              "      <th>0</th>\n",
              "      <td>2012-12-05</td>\n",
              "      <td>-7426</td>\n",
              "      <td>-6060</td>\n",
              "      <td>-1367</td>\n",
              "      <td>-74</td>\n",
              "      <td>5317</td>\n",
              "      <td>4210</td>\n",
              "      <td>1107</td>\n",
              "      <td>-2183</td>\n",
              "    </tr>\n",
              "    <tr>\n",
              "      <th>1</th>\n",
              "      <td>2012-12-12</td>\n",
              "      <td>-8783</td>\n",
              "      <td>-7520</td>\n",
              "      <td>-1263</td>\n",
              "      <td>123</td>\n",
              "      <td>1818</td>\n",
              "      <td>1598</td>\n",
              "      <td>219</td>\n",
              "      <td>-6842</td>\n",
              "    </tr>\n",
              "    <tr>\n",
              "      <th>2</th>\n",
              "      <td>2012-12-19</td>\n",
              "      <td>-5496</td>\n",
              "      <td>-5470</td>\n",
              "      <td>-26</td>\n",
              "      <td>-73</td>\n",
              "      <td>103</td>\n",
              "      <td>3472</td>\n",
              "      <td>-3369</td>\n",
              "      <td>-5466</td>\n",
              "    </tr>\n",
              "    <tr>\n",
              "      <th>3</th>\n",
              "      <td>2012-12-26</td>\n",
              "      <td>-4451</td>\n",
              "      <td>-4076</td>\n",
              "      <td>-375</td>\n",
              "      <td>550</td>\n",
              "      <td>2610</td>\n",
              "      <td>3333</td>\n",
              "      <td>-722</td>\n",
              "      <td>-1291</td>\n",
              "    </tr>\n",
              "    <tr>\n",
              "      <th>4</th>\n",
              "      <td>2013-01-02</td>\n",
              "      <td>-11156</td>\n",
              "      <td>-9622</td>\n",
              "      <td>-1533</td>\n",
              "      <td>-158</td>\n",
              "      <td>2383</td>\n",
              "      <td>2103</td>\n",
              "      <td>280</td>\n",
              "      <td>-8931</td>\n",
              "    </tr>\n",
              "  </tbody>\n",
              "</table>\n",
              "</div>"
            ],
            "text/plain": [
              "         Date  Total Equity  ...  Municipal Bond  Total\n",
              "0  2012-12-05         -7426  ...            1107  -2183\n",
              "1  2012-12-12         -8783  ...             219  -6842\n",
              "2  2012-12-19         -5496  ...           -3369  -5466\n",
              "3  2012-12-26         -4451  ...            -722  -1291\n",
              "4  2013-01-02        -11156  ...             280  -8931\n",
              "\n",
              "[5 rows x 9 columns]"
            ]
          },
          "metadata": {
            "tags": []
          },
          "execution_count": 4
        }
      ]
    },
    {
      "cell_type": "markdown",
      "metadata": {
        "id": "Y-Gpp7sm_v8n"
      },
      "source": [
        "### Step 4.  What is the frequency of the dataset?"
      ]
    },
    {
      "cell_type": "code",
      "metadata": {
        "id": "G2yY6itz_v8n"
      },
      "source": [
        "inv['Date'].value_counts()"
      ],
      "execution_count": null,
      "outputs": []
    },
    {
      "cell_type": "markdown",
      "metadata": {
        "id": "dO6pLBOs_v8n"
      },
      "source": [
        "### Step 5. Set the column Date as the index."
      ]
    },
    {
      "cell_type": "code",
      "metadata": {
        "colab": {
          "base_uri": "https://localhost:8080/",
          "height": 226
        },
        "id": "386D_KJQ_v8o",
        "outputId": "30511a54-f96a-4213-fac0-bb1facc5f10d"
      },
      "source": [
        "inv.set_index('Date',inplace=True)\n",
        "inv.head()"
      ],
      "execution_count": 9,
      "outputs": [
        {
          "output_type": "execute_result",
          "data": {
            "text/html": [
              "<div>\n",
              "<style scoped>\n",
              "    .dataframe tbody tr th:only-of-type {\n",
              "        vertical-align: middle;\n",
              "    }\n",
              "\n",
              "    .dataframe tbody tr th {\n",
              "        vertical-align: top;\n",
              "    }\n",
              "\n",
              "    .dataframe thead th {\n",
              "        text-align: right;\n",
              "    }\n",
              "</style>\n",
              "<table border=\"1\" class=\"dataframe\">\n",
              "  <thead>\n",
              "    <tr style=\"text-align: right;\">\n",
              "      <th></th>\n",
              "      <th>Total Equity</th>\n",
              "      <th>Domestic Equity</th>\n",
              "      <th>World Equity</th>\n",
              "      <th>Hybrid</th>\n",
              "      <th>Total Bond</th>\n",
              "      <th>Taxable Bond</th>\n",
              "      <th>Municipal Bond</th>\n",
              "      <th>Total</th>\n",
              "    </tr>\n",
              "    <tr>\n",
              "      <th>Date</th>\n",
              "      <th></th>\n",
              "      <th></th>\n",
              "      <th></th>\n",
              "      <th></th>\n",
              "      <th></th>\n",
              "      <th></th>\n",
              "      <th></th>\n",
              "      <th></th>\n",
              "    </tr>\n",
              "  </thead>\n",
              "  <tbody>\n",
              "    <tr>\n",
              "      <th>2012-12-05</th>\n",
              "      <td>-7426</td>\n",
              "      <td>-6060</td>\n",
              "      <td>-1367</td>\n",
              "      <td>-74</td>\n",
              "      <td>5317</td>\n",
              "      <td>4210</td>\n",
              "      <td>1107</td>\n",
              "      <td>-2183</td>\n",
              "    </tr>\n",
              "    <tr>\n",
              "      <th>2012-12-12</th>\n",
              "      <td>-8783</td>\n",
              "      <td>-7520</td>\n",
              "      <td>-1263</td>\n",
              "      <td>123</td>\n",
              "      <td>1818</td>\n",
              "      <td>1598</td>\n",
              "      <td>219</td>\n",
              "      <td>-6842</td>\n",
              "    </tr>\n",
              "    <tr>\n",
              "      <th>2012-12-19</th>\n",
              "      <td>-5496</td>\n",
              "      <td>-5470</td>\n",
              "      <td>-26</td>\n",
              "      <td>-73</td>\n",
              "      <td>103</td>\n",
              "      <td>3472</td>\n",
              "      <td>-3369</td>\n",
              "      <td>-5466</td>\n",
              "    </tr>\n",
              "    <tr>\n",
              "      <th>2012-12-26</th>\n",
              "      <td>-4451</td>\n",
              "      <td>-4076</td>\n",
              "      <td>-375</td>\n",
              "      <td>550</td>\n",
              "      <td>2610</td>\n",
              "      <td>3333</td>\n",
              "      <td>-722</td>\n",
              "      <td>-1291</td>\n",
              "    </tr>\n",
              "    <tr>\n",
              "      <th>2013-01-02</th>\n",
              "      <td>-11156</td>\n",
              "      <td>-9622</td>\n",
              "      <td>-1533</td>\n",
              "      <td>-158</td>\n",
              "      <td>2383</td>\n",
              "      <td>2103</td>\n",
              "      <td>280</td>\n",
              "      <td>-8931</td>\n",
              "    </tr>\n",
              "  </tbody>\n",
              "</table>\n",
              "</div>"
            ],
            "text/plain": [
              "            Total Equity  Domestic Equity  ...  Municipal Bond  Total\n",
              "Date                                       ...                       \n",
              "2012-12-05         -7426            -6060  ...            1107  -2183\n",
              "2012-12-12         -8783            -7520  ...             219  -6842\n",
              "2012-12-19         -5496            -5470  ...           -3369  -5466\n",
              "2012-12-26         -4451            -4076  ...            -722  -1291\n",
              "2013-01-02        -11156            -9622  ...             280  -8931\n",
              "\n",
              "[5 rows x 8 columns]"
            ]
          },
          "metadata": {
            "tags": []
          },
          "execution_count": 9
        }
      ]
    },
    {
      "cell_type": "markdown",
      "metadata": {
        "id": "DO3f7H83_v8o"
      },
      "source": [
        "### Step 6. What is the type of the index?"
      ]
    },
    {
      "cell_type": "code",
      "metadata": {
        "colab": {
          "base_uri": "https://localhost:8080/"
        },
        "id": "Wrci0B2p_v8o",
        "outputId": "3fde7dd2-3008-49c5-cfef-ec99595859e9"
      },
      "source": [
        "inv.index"
      ],
      "execution_count": 15,
      "outputs": [
        {
          "output_type": "execute_result",
          "data": {
            "text/plain": [
              "Index(['2012-12-05', '2012-12-12', '2012-12-19', '2012-12-26', '2013-01-02',\n",
              "       '2013-01-09', '2014-04-02', '2014-04-09', '2014-04-16', '2014-04-23',\n",
              "       '2014-04-30', '2014-05-07', '2014-05-14', '2014-05-21', '2014-05-28',\n",
              "       '2014-06-04', '2014-06-11', '2014-06-18', '2014-06-25', '2014-07-02',\n",
              "       '2014-07-09', '2014-07-30', '2014-08-06', '2014-08-13', '2014-08-20',\n",
              "       '2014-08-27', '2014-09-03', '2014-09-10', '2014-11-05', '2014-11-12',\n",
              "       '2014-11-19', '2014-11-25', '2015-01-07', '2015-01-14', '2015-01-21',\n",
              "       '2015-01-28', '2015-02-04', '2015-02-11', '2015-03-04', '2015-03-11',\n",
              "       '2015-03-18', '2015-03-25', '2015-04-01', '2015-04-08'],\n",
              "      dtype='object', name='Date')"
            ]
          },
          "metadata": {
            "tags": []
          },
          "execution_count": 15
        }
      ]
    },
    {
      "cell_type": "markdown",
      "metadata": {
        "id": "T8sEBUeq_v8o"
      },
      "source": [
        "### Step 7. Set the index to a DatetimeIndex type"
      ]
    },
    {
      "cell_type": "code",
      "metadata": {
        "colab": {
          "base_uri": "https://localhost:8080/"
        },
        "id": "8pp7oXty_v8o",
        "outputId": "b4089780-3d41-4f4e-b96d-088a04677125"
      },
      "source": [
        "inv.index.astype('datetime64[ns]')"
      ],
      "execution_count": 23,
      "outputs": [
        {
          "output_type": "execute_result",
          "data": {
            "text/plain": [
              "DatetimeIndex(['2012-12-05', '2012-12-12', '2012-12-19', '2012-12-26',\n",
              "               '2013-01-02', '2013-01-09', '2014-04-02', '2014-04-09',\n",
              "               '2014-04-16', '2014-04-23', '2014-04-30', '2014-05-07',\n",
              "               '2014-05-14', '2014-05-21', '2014-05-28', '2014-06-04',\n",
              "               '2014-06-11', '2014-06-18', '2014-06-25', '2014-07-02',\n",
              "               '2014-07-09', '2014-07-30', '2014-08-06', '2014-08-13',\n",
              "               '2014-08-20', '2014-08-27', '2014-09-03', '2014-09-10',\n",
              "               '2014-11-05', '2014-11-12', '2014-11-19', '2014-11-25',\n",
              "               '2015-01-07', '2015-01-14', '2015-01-21', '2015-01-28',\n",
              "               '2015-02-04', '2015-02-11', '2015-03-04', '2015-03-11',\n",
              "               '2015-03-18', '2015-03-25', '2015-04-01', '2015-04-08'],\n",
              "              dtype='datetime64[ns]', name='Date', freq=None)"
            ]
          },
          "metadata": {
            "tags": []
          },
          "execution_count": 23
        }
      ]
    },
    {
      "cell_type": "markdown",
      "metadata": {
        "id": "da2_zRKX_v8p"
      },
      "source": [
        "### Step 8.  Change the frequency to monthly, sum the values and assign it to monthly."
      ]
    },
    {
      "cell_type": "code",
      "metadata": {
        "id": "ig5CYNGU_v8p"
      },
      "source": [
        ""
      ],
      "execution_count": null,
      "outputs": []
    },
    {
      "cell_type": "markdown",
      "metadata": {
        "id": "vjquXb5r_v8p"
      },
      "source": [
        "### Step 9. You will notice that it filled the dataFrame with months that don't have any data with NaN. Let's drop these rows."
      ]
    },
    {
      "cell_type": "code",
      "metadata": {
        "id": "E6AZIISV_v8p"
      },
      "source": [
        ""
      ],
      "execution_count": null,
      "outputs": []
    },
    {
      "cell_type": "markdown",
      "metadata": {
        "id": "j21VYq0j_v8p"
      },
      "source": [
        "### Step 10. Good, now we have the monthly data. Now change the frequency to year."
      ]
    },
    {
      "cell_type": "code",
      "metadata": {
        "id": "JYT9kk7U_v8q"
      },
      "source": [
        ""
      ],
      "execution_count": null,
      "outputs": []
    },
    {
      "cell_type": "markdown",
      "metadata": {
        "id": "60fK-_hY_v8q"
      },
      "source": [
        "### BONUS: Create your own question and answer it."
      ]
    },
    {
      "cell_type": "code",
      "metadata": {
        "collapsed": true,
        "id": "yShd48fJ_v8q"
      },
      "source": [
        ""
      ],
      "execution_count": null,
      "outputs": []
    }
  ]
}