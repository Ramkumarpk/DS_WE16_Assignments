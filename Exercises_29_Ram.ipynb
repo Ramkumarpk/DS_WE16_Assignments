{
  "nbformat": 4,
  "nbformat_minor": 0,
  "metadata": {
    "colab": {
      "name": "Exercises_29_Ram.ipynb",
      "provenance": [],
      "collapsed_sections": [],
      "include_colab_link": true
    },
    "kernelspec": {
      "name": "python3",
      "display_name": "Python 3"
    },
    "language_info": {
      "name": "python"
    }
  },
  "cells": [
    {
      "cell_type": "markdown",
      "metadata": {
        "id": "view-in-github",
        "colab_type": "text"
      },
      "source": [
        "<a href=\"https://colab.research.google.com/github/Ramkumarpk/DS_WE16_Assignments/blob/main/Exercises_29_Ram.ipynb\" target=\"_parent\"><img src=\"https://colab.research.google.com/assets/colab-badge.svg\" alt=\"Open In Colab\"/></a>"
      ]
    },
    {
      "cell_type": "code",
      "metadata": {
        "colab": {
          "base_uri": "https://localhost:8080/"
        },
        "id": "y_yrPnA1bCFM",
        "outputId": "4c132a15-81b9-42e7-ae63-7e3478df2660"
      },
      "source": [
        "# 29. Write a function which accepts n as a parameter and return the smallest divisor of n\n",
        "# https://github.com/Ramkumarpk/DS_WE16_Assignments/blob/main/Exercises_29_Ram.ipynb\n",
        "n=int(input(\"Enter an Integer to find Smallest Divisor:\"))\n",
        "a=[]\n",
        "def fun_div(n):\n",
        "  for i in range(2,n+1):\n",
        "      if(n%i==0):\n",
        "          a.append(i)\n",
        "fun_div(n)\n",
        "a.sort()\n",
        "print(\"Smallest divisor is:\",a[0])"
      ],
      "execution_count": 8,
      "outputs": [
        {
          "output_type": "stream",
          "text": [
            "Enter an Integer to find Smallest Divisor:9\n",
            "Smallest divisor is: 3\n"
          ],
          "name": "stdout"
        }
      ]
    }
  ]
}